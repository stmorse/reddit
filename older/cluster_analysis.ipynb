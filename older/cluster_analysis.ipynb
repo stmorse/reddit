{
 "cells": [
  {
   "cell_type": "markdown",
   "metadata": {},
   "source": [
    "# Re-do for larger datasets"
   ]
  },
  {
   "cell_type": "code",
   "execution_count": 23,
   "metadata": {},
   "outputs": [],
   "source": [
    "import time\n",
    "import bz2\n",
    "import json\n",
    "import pickle\n",
    "import gc\n",
    "\n",
    "import matplotlib.pyplot as plt\n",
    "import pandas as pd\n",
    "import numpy as np"
   ]
  },
  {
   "cell_type": "code",
   "execution_count": 25,
   "metadata": {},
   "outputs": [],
   "source": [
    "# load random sample from file given ids\n",
    "def load_sample_from_file(path, year, month, ids):\n",
    "    # make ids a set for quicker lookup\n",
    "    ids = set(ids)\n",
    "\n",
    "    # loop through file and save comments with id=id with probability p\n",
    "    sample = []\n",
    "    with bz2.BZ2File(f'{path}RC_{year}-{month}.bz2', 'rb') as f:\n",
    "        for line in f:\n",
    "            entry = json.loads(line)\n",
    "            if entry['id'] in ids:\n",
    "                sample.append(entry['body'])\n",
    "    \n",
    "    return sample\n",
    "\n",
    "def load_npz(path, year, month, key):\n",
    "    with open(f'{path}{key}/{key}_{year}-{month}.npz', 'rb') as f:\n",
    "        array = np.load(f)[key]\n",
    "    return array\n",
    "\n",
    "def load_metadata(path, year, month):\n",
    "    with open(f'{path}metadata/metadata_{year}-{month}.pkl', 'rb') as f:\n",
    "        metadata = pickle.load(f)\n",
    "        metadata = pd.DataFrame(metadata, columns=['k', 'author', 'id', 'utc'])\n",
    "    return metadata"
   ]
  },
  {
   "cell_type": "markdown",
   "metadata": {},
   "source": [
    "## Examine cluster text content"
   ]
  },
  {
   "cell_type": "code",
   "execution_count": 18,
   "metadata": {},
   "outputs": [],
   "source": [
    "DATA_PATH = '/sciclone/data10/twford/reddit/reddit/comments/'\n",
    "BASE_PATH = '/sciclone/geograd/stmorse/reddit/'"
   ]
  },
  {
   "cell_type": "code",
   "execution_count": 32,
   "metadata": {},
   "outputs": [
    {
     "name": "stdout",
     "output_type": "stream",
     "text": [
      "Sampling 2007-01 ... (0.00)\n",
      "> Loading complete labels ... total 4119  (0.00)\n",
      "> Loading complete metadata ... total 4119 (0.13)\n",
      "> Sampling sentences ... \n"
     ]
    },
    {
     "name": "stdout",
     "output_type": "stream",
     "text": [
      "  total 411 (2.53)\n",
      "> Loading embeddings ... total 411 (2.85)\n",
      "411 (411, 384)\n"
     ]
    }
   ],
   "source": [
    "# pick cluster of interest\n",
    "coi = 0\n",
    "sample_rate = .1\n",
    "seed = 123\n",
    "\n",
    "# time period\n",
    "# years = [2007, 2008, 2009, 2010, 2011]\n",
    "# months = [f'{m:02}' for m in range(1,13)]\n",
    "years = [2007]\n",
    "months = ['01']\n",
    "\n",
    "# load sample of sentence + author from across all files\n",
    "sample_sentences = []\n",
    "sample_embeddings = []\n",
    "t0 = time.time()\n",
    "for year, month in [(yr, mo) for yr in years for mo in months]:\n",
    "    print(f'Sampling {year}-{month} ... ({time.time()-t0:.2f})')\n",
    "\n",
    "    # get indices of this label\n",
    "    print(f'> Loading complete labels ... ', end='')\n",
    "    labels = load_npz(BASE_PATH, year, month, 'labels')\n",
    "    idx = np.where(labels==coi)[0]\n",
    "    del labels\n",
    "    print(f'total {len(idx)}  ({time.time()-t0:.2f})')\n",
    "\n",
    "    # get corresponding metadata\n",
    "    print(f'> Loading complete metadata ... ', end='')\n",
    "    metadata = load_metadata(BASE_PATH, year, month)\n",
    "    ids = metadata.iloc[idx, 2]\n",
    "    print(f'total {len(ids)} ({time.time()-t0:.2f})')\n",
    "\n",
    "    # choosing sample idx\n",
    "\n",
    "    # create RNG with seed\n",
    "    rng = np.random.default_rng(seed=seed)\n",
    "\n",
    "    # sample_idx is indices to idx (sorted)\n",
    "    sample_idx = rng.choice(len(idx), size=int(sample_rate * len(idx)), replace=False)\n",
    "    sample_idx = np.sort(sample_idx)\n",
    "\n",
    "    # sampled ids within ids\n",
    "    sample_ids = ids.iloc[sample_idx]\n",
    "\n",
    "    # sample sentences from these ids\n",
    "    print(f'> Sampling sentences ... ')\n",
    "    sample = load_sample_from_file(DATA_PATH, year, month, sample_ids)\n",
    "    sample_sentences.extend(sample)\n",
    "    print(f'  total {len(sample_sentences)} ({time.time()-t0:.2f})')\n",
    "\n",
    "    # load corresponding embeddings\n",
    "    # note we need to use total idx, but only sampled ones\n",
    "    print(f'> Loading embeddings ... ', end='')\n",
    "    embeddings = load_npz(BASE_PATH, year, month, 'embeddings')[idx[sample_idx]]\n",
    "    sample_embeddings.append(embeddings)\n",
    "    print(f'total {len(embeddings)} ({time.time()-t0:.2f})')\n",
    "    del embeddings\n",
    "\n",
    "    gc.collect()\n",
    "\n",
    "sample_embeddings = np.vstack(sample_embeddings)\n",
    "        \n",
    "print(len(sample_sentences), sample_embeddings.shape)"
   ]
  },
  {
   "cell_type": "code",
   "execution_count": 33,
   "metadata": {},
   "outputs": [
    {
     "data": {
      "text/plain": [
       "(20, 384)"
      ]
     },
     "execution_count": 33,
     "metadata": {},
     "output_type": "execute_result"
    }
   ],
   "source": [
    "with open(f'{BASE_PATH}mbkm_cc_20_2007_2011.npz', 'rb') as f:\n",
    "    cluster_centers = np.load(f)['cc']\n",
    "cluster_centers.shape"
   ]
  },
  {
   "cell_type": "code",
   "execution_count": null,
   "metadata": {},
   "outputs": [],
   "source": [
    "query_vector = cluster_centers[coi]\n",
    "top_k = 10\n",
    "distances = np.linalg.norm(sample_embeddings - query_vector, axis=1)\n",
    "closest_points = np.argsort(distances)[:top_k]"
   ]
  },
  {
   "cell_type": "markdown",
   "metadata": {},
   "source": [
    "## Plot clusters"
   ]
  },
  {
   "cell_type": "code",
   "execution_count": null,
   "metadata": {},
   "outputs": [],
   "source": [
    "# load sample embeddings from across all files\n",
    "# load corresponding indices"
   ]
  },
  {
   "cell_type": "code",
   "execution_count": null,
   "metadata": {},
   "outputs": [],
   "source": []
  },
  {
   "cell_type": "markdown",
   "metadata": {},
   "source": [
    "<hr />"
   ]
  },
  {
   "cell_type": "markdown",
   "metadata": {},
   "source": [
    "# Older:"
   ]
  },
  {
   "cell_type": "code",
   "execution_count": 1,
   "metadata": {},
   "outputs": [],
   "source": [
    "import bz2 \n",
    "import json\n",
    "import pickle\n",
    "import sys\n",
    "\n",
    "import matplotlib.pyplot as plt\n",
    "import pandas as pd\n",
    "import numpy as np\n",
    "\n",
    "from joblib import dump, load"
   ]
  },
  {
   "cell_type": "code",
   "execution_count": 2,
   "metadata": {},
   "outputs": [],
   "source": [
    "LOAD_PATH = '/sciclone/data10/twford/reddit/reddit/'\n",
    "SAVE_PATH = '/sciclone/geograd/stmorse/reddit/'"
   ]
  },
  {
   "cell_type": "markdown",
   "metadata": {},
   "source": [
    "# User participation"
   ]
  },
  {
   "cell_type": "code",
   "execution_count": 3,
   "metadata": {},
   "outputs": [
    {
     "name": "stdout",
     "output_type": "stream",
     "text": [
      "Loading 2007-01...\n",
      "Loading 2007-02...\n",
      "Loading 2007-03...\n",
      "Loading 2007-04...\n",
      "Loading 2007-05...\n",
      "Loading 2007-06...\n",
      "Loading 2007-07...\n",
      "Loading 2007-08...\n",
      "Loading 2007-09...\n",
      "Loading 2007-10...\n",
      "Loading 2007-11...\n",
      "Loading 2007-12...\n",
      "Loading 2008-01...\n",
      "Loading 2008-02...\n",
      "Loading 2008-03...\n",
      "Loading 2008-04...\n",
      "Loading 2008-05...\n",
      "Loading 2008-06...\n",
      "Loading 2008-07...\n",
      "Loading 2008-08...\n",
      "Loading 2008-09...\n",
      "Loading 2008-10...\n",
      "Loading 2008-11...\n",
      "Loading 2008-12...\n",
      "Loading 2009-01...\n",
      "Loading 2009-02...\n",
      "Loading 2009-03...\n",
      "Loading 2009-04...\n",
      "Loading 2009-05...\n",
      "Loading 2009-06...\n",
      "Loading 2009-07...\n",
      "Loading 2009-08...\n",
      "Loading 2009-09...\n",
      "Loading 2009-10...\n",
      "Loading 2009-11...\n",
      "Loading 2009-12...\n",
      "Complete.\n"
     ]
    }
   ],
   "source": [
    "# load all metadata and labels for a period into a DataFrame\n",
    "\n",
    "years = [2007, 2008, 2009]\n",
    "months = ['01', '02', '03', '04', '05', '06', \n",
    "          '07', '08', '09', '10', '11', '12']\n",
    "# years = [2007]\n",
    "# months = ['01', '02']\n",
    "yr_mo = [(yr, mo) for yr in years for mo in months]\n",
    "\n",
    "# initiate an empty DataFrame\n",
    "col_names = ['k', 'author', 'id', 'utc', 'year', 'month', 'cluster']\n",
    "df = pd.DataFrame(columns=col_names)\n",
    "\n",
    "# iterate over by-month files\n",
    "for year, month in yr_mo:\n",
    "    print(f'Loading {year}-{month}...')\n",
    "\n",
    "    # load metadata\n",
    "    fname1 = f'{SAVE_PATH}metadata/metadata_{year}-{month}.pkl'\n",
    "    with open(fname1, 'rb') as f:\n",
    "        tdf = pd.DataFrame(pickle.load(f), columns=col_names[:4])\n",
    "        tdf['year'] = year\n",
    "        tdf['month'] = month\n",
    "    \n",
    "    # load labels\n",
    "    fname2 = f'{SAVE_PATH}labels/labels_{year}-{month}.npz'\n",
    "    with open(fname2, 'rb') as f:\n",
    "        labels = np.load(f)['labels']\n",
    "        tdf['cluster'] = labels\n",
    "    \n",
    "    # append to df\n",
    "    df = pd.concat([df, tdf], ignore_index=True)\n",
    "\n",
    "# fix dtypes\n",
    "df['k'] = df['k'].astype(int)\n",
    "df['author'] = df['author'].astype(str)\n",
    "df['id'] = df['id'].astype(str)\n",
    "df['year'] = df['year'].astype(int)\n",
    "df['month'] = df['month'].astype(int)\n",
    "df['cluster'] = df['cluster'].astype(int)\n",
    "\n",
    "print('Complete.')\n",
    "    "
   ]
  },
  {
   "cell_type": "code",
   "execution_count": 5,
   "metadata": {},
   "outputs": [
    {
     "data": {
      "text/plain": [
       "4099742472"
      ]
     },
     "execution_count": 5,
     "metadata": {},
     "output_type": "execute_result"
    }
   ],
   "source": [
    "sys.getsizeof(df)"
   ]
  },
  {
   "cell_type": "code",
   "execution_count": 7,
   "metadata": {},
   "outputs": [
    {
     "data": {
      "text/plain": [
       "3.8181827142834663"
      ]
     },
     "execution_count": 7,
     "metadata": {},
     "output_type": "execute_result"
    }
   ],
   "source": [
    "4099742472 / (1024*1024*1024)"
   ]
  },
  {
   "cell_type": "code",
   "execution_count": 8,
   "metadata": {},
   "outputs": [
    {
     "data": {
      "text/html": [
       "<div>\n",
       "<style scoped>\n",
       "    .dataframe tbody tr th:only-of-type {\n",
       "        vertical-align: middle;\n",
       "    }\n",
       "\n",
       "    .dataframe tbody tr th {\n",
       "        vertical-align: top;\n",
       "    }\n",
       "\n",
       "    .dataframe thead th {\n",
       "        text-align: right;\n",
       "    }\n",
       "</style>\n",
       "<table border=\"1\" class=\"dataframe\">\n",
       "  <thead>\n",
       "    <tr style=\"text-align: right;\">\n",
       "      <th></th>\n",
       "      <th>k</th>\n",
       "      <th>author</th>\n",
       "      <th>id</th>\n",
       "      <th>utc</th>\n",
       "      <th>year</th>\n",
       "      <th>month</th>\n",
       "      <th>cluster</th>\n",
       "    </tr>\n",
       "  </thead>\n",
       "  <tbody>\n",
       "    <tr>\n",
       "      <th>0</th>\n",
       "      <td>0</td>\n",
       "      <td>almkglor</td>\n",
       "      <td>cwl3r</td>\n",
       "      <td>1167609605</td>\n",
       "      <td>2007</td>\n",
       "      <td>1</td>\n",
       "      <td>6</td>\n",
       "    </tr>\n",
       "    <tr>\n",
       "      <th>1</th>\n",
       "      <td>1</td>\n",
       "      <td>hitsman</td>\n",
       "      <td>cwl3s</td>\n",
       "      <td>1167609743</td>\n",
       "      <td>2007</td>\n",
       "      <td>1</td>\n",
       "      <td>13</td>\n",
       "    </tr>\n",
       "    <tr>\n",
       "      <th>2</th>\n",
       "      <td>2</td>\n",
       "      <td>raldi</td>\n",
       "      <td>cwl3t</td>\n",
       "      <td>1167609769</td>\n",
       "      <td>2007</td>\n",
       "      <td>1</td>\n",
       "      <td>2</td>\n",
       "    </tr>\n",
       "    <tr>\n",
       "      <th>3</th>\n",
       "      <td>3</td>\n",
       "      <td>neoform</td>\n",
       "      <td>cwl3w</td>\n",
       "      <td>1167609826</td>\n",
       "      <td>2007</td>\n",
       "      <td>1</td>\n",
       "      <td>2</td>\n",
       "    </tr>\n",
       "    <tr>\n",
       "      <th>4</th>\n",
       "      <td>4</td>\n",
       "      <td>hotmama420</td>\n",
       "      <td>cwl3x</td>\n",
       "      <td>1167609856</td>\n",
       "      <td>2007</td>\n",
       "      <td>1</td>\n",
       "      <td>5</td>\n",
       "    </tr>\n",
       "  </tbody>\n",
       "</table>\n",
       "</div>"
      ],
      "text/plain": [
       "   k      author     id         utc  year  month  cluster\n",
       "0  0    almkglor  cwl3r  1167609605  2007      1        6\n",
       "1  1     hitsman  cwl3s  1167609743  2007      1       13\n",
       "2  2       raldi  cwl3t  1167609769  2007      1        2\n",
       "3  3     neoform  cwl3w  1167609826  2007      1        2\n",
       "4  4  hotmama420  cwl3x  1167609856  2007      1        5"
      ]
     },
     "execution_count": 8,
     "metadata": {},
     "output_type": "execute_result"
    }
   ],
   "source": [
    "df.head()"
   ]
  },
  {
   "cell_type": "code",
   "execution_count": 9,
   "metadata": {},
   "outputs": [
    {
     "data": {
      "text/html": [
       "<div>\n",
       "<style scoped>\n",
       "    .dataframe tbody tr th:only-of-type {\n",
       "        vertical-align: middle;\n",
       "    }\n",
       "\n",
       "    .dataframe tbody tr th {\n",
       "        vertical-align: top;\n",
       "    }\n",
       "\n",
       "    .dataframe thead th {\n",
       "        text-align: right;\n",
       "    }\n",
       "</style>\n",
       "<table border=\"1\" class=\"dataframe\">\n",
       "  <thead>\n",
       "    <tr style=\"text-align: right;\">\n",
       "      <th></th>\n",
       "      <th>k</th>\n",
       "      <th>author</th>\n",
       "      <th>id</th>\n",
       "      <th>utc</th>\n",
       "      <th>year</th>\n",
       "      <th>month</th>\n",
       "      <th>cluster</th>\n",
       "    </tr>\n",
       "  </thead>\n",
       "  <tbody>\n",
       "    <tr>\n",
       "      <th>0</th>\n",
       "      <td>0</td>\n",
       "      <td>almkglor</td>\n",
       "      <td>cwl3r</td>\n",
       "      <td>1167609605</td>\n",
       "      <td>2007</td>\n",
       "      <td>1</td>\n",
       "      <td>6</td>\n",
       "    </tr>\n",
       "    <tr>\n",
       "      <th>1</th>\n",
       "      <td>1</td>\n",
       "      <td>hitsman</td>\n",
       "      <td>cwl3s</td>\n",
       "      <td>1167609743</td>\n",
       "      <td>2007</td>\n",
       "      <td>1</td>\n",
       "      <td>13</td>\n",
       "    </tr>\n",
       "    <tr>\n",
       "      <th>2</th>\n",
       "      <td>2</td>\n",
       "      <td>raldi</td>\n",
       "      <td>cwl3t</td>\n",
       "      <td>1167609769</td>\n",
       "      <td>2007</td>\n",
       "      <td>1</td>\n",
       "      <td>2</td>\n",
       "    </tr>\n",
       "    <tr>\n",
       "      <th>3</th>\n",
       "      <td>3</td>\n",
       "      <td>neoform</td>\n",
       "      <td>cwl3w</td>\n",
       "      <td>1167609826</td>\n",
       "      <td>2007</td>\n",
       "      <td>1</td>\n",
       "      <td>2</td>\n",
       "    </tr>\n",
       "    <tr>\n",
       "      <th>5</th>\n",
       "      <td>5</td>\n",
       "      <td>freshhawk</td>\n",
       "      <td>cwl42</td>\n",
       "      <td>1167609899</td>\n",
       "      <td>2007</td>\n",
       "      <td>1</td>\n",
       "      <td>1</td>\n",
       "    </tr>\n",
       "  </tbody>\n",
       "</table>\n",
       "</div>"
      ],
      "text/plain": [
       "   k     author     id         utc  year  month  cluster\n",
       "0  0   almkglor  cwl3r  1167609605  2007      1        6\n",
       "1  1    hitsman  cwl3s  1167609743  2007      1       13\n",
       "2  2      raldi  cwl3t  1167609769  2007      1        2\n",
       "3  3    neoform  cwl3w  1167609826  2007      1        2\n",
       "5  5  freshhawk  cwl42  1167609899  2007      1        1"
      ]
     },
     "execution_count": 9,
     "metadata": {},
     "output_type": "execute_result"
    }
   ],
   "source": [
    "# get series with author count\n",
    "author_counts = df['author'].value_counts()\n",
    "\n",
    "# trim df to where authors have at least N comments\n",
    "N = 20\n",
    "authors_to_keep = author_counts[author_counts >= N].index\n",
    "trim_df = df.query('author in @authors_to_keep')\n",
    "\n",
    "trim_df.head()"
   ]
  },
  {
   "cell_type": "code",
   "execution_count": 10,
   "metadata": {},
   "outputs": [
    {
     "data": {
      "text/plain": [
       "19145159"
      ]
     },
     "execution_count": 10,
     "metadata": {},
     "output_type": "execute_result"
    }
   ],
   "source": [
    "len(trim_df)"
   ]
  },
  {
   "cell_type": "code",
   "execution_count": 13,
   "metadata": {},
   "outputs": [
    {
     "data": {
      "text/plain": [
       "(384377, 69705, 20104937, 19145159)"
      ]
     },
     "execution_count": 13,
     "metadata": {},
     "output_type": "execute_result"
    }
   ],
   "source": [
    "len(author_counts), len(authors_to_keep), len(df), len(trim_df)"
   ]
  },
  {
   "cell_type": "code",
   "execution_count": 14,
   "metadata": {},
   "outputs": [
    {
     "data": {
      "text/plain": [
       "0.9522615763481378"
      ]
     },
     "execution_count": 14,
     "metadata": {},
     "output_type": "execute_result"
    }
   ],
   "source": [
    "19145159 / 20104937"
   ]
  },
  {
   "cell_type": "code",
   "execution_count": 15,
   "metadata": {},
   "outputs": [
    {
     "data": {
      "text/plain": [
       "198"
      ]
     },
     "execution_count": 15,
     "metadata": {},
     "output_type": "execute_result"
    }
   ],
   "source": [
    "33*6"
   ]
  },
  {
   "cell_type": "code",
   "execution_count": 11,
   "metadata": {},
   "outputs": [
    {
     "data": {
      "text/plain": [
       "(0.2177734375, 5.969506726457399)"
      ]
     },
     "execution_count": 11,
     "metadata": {},
     "output_type": "execute_result"
    }
   ],
   "source": [
    "223 / 1024, 1.3/(223/1024)"
   ]
  },
  {
   "cell_type": "code",
   "execution_count": 16,
   "metadata": {},
   "outputs": [
    {
     "data": {
      "text/html": [
       "<div>\n",
       "<style scoped>\n",
       "    .dataframe tbody tr th:only-of-type {\n",
       "        vertical-align: middle;\n",
       "    }\n",
       "\n",
       "    .dataframe tbody tr th {\n",
       "        vertical-align: top;\n",
       "    }\n",
       "\n",
       "    .dataframe thead th {\n",
       "        text-align: right;\n",
       "    }\n",
       "</style>\n",
       "<table border=\"1\" class=\"dataframe\">\n",
       "  <thead>\n",
       "    <tr style=\"text-align: right;\">\n",
       "      <th>cluster</th>\n",
       "      <th>0</th>\n",
       "      <th>1</th>\n",
       "      <th>2</th>\n",
       "      <th>3</th>\n",
       "      <th>4</th>\n",
       "      <th>5</th>\n",
       "      <th>6</th>\n",
       "      <th>7</th>\n",
       "      <th>8</th>\n",
       "      <th>9</th>\n",
       "      <th>10</th>\n",
       "      <th>11</th>\n",
       "      <th>12</th>\n",
       "      <th>13</th>\n",
       "      <th>14</th>\n",
       "      <th>total</th>\n",
       "    </tr>\n",
       "    <tr>\n",
       "      <th>author</th>\n",
       "      <th></th>\n",
       "      <th></th>\n",
       "      <th></th>\n",
       "      <th></th>\n",
       "      <th></th>\n",
       "      <th></th>\n",
       "      <th></th>\n",
       "      <th></th>\n",
       "      <th></th>\n",
       "      <th></th>\n",
       "      <th></th>\n",
       "      <th></th>\n",
       "      <th></th>\n",
       "      <th></th>\n",
       "      <th></th>\n",
       "      <th></th>\n",
       "    </tr>\n",
       "  </thead>\n",
       "  <tbody>\n",
       "    <tr>\n",
       "      <th>---------------</th>\n",
       "      <td>0.291667</td>\n",
       "      <td>0.083333</td>\n",
       "      <td>0.041667</td>\n",
       "      <td>0.083333</td>\n",
       "      <td>0.041667</td>\n",
       "      <td>0.000000</td>\n",
       "      <td>0.083333</td>\n",
       "      <td>0.000000</td>\n",
       "      <td>0.125000</td>\n",
       "      <td>0.000000</td>\n",
       "      <td>0.000000</td>\n",
       "      <td>0.083333</td>\n",
       "      <td>0.041667</td>\n",
       "      <td>0.000000</td>\n",
       "      <td>0.125000</td>\n",
       "      <td>24</td>\n",
       "    </tr>\n",
       "    <tr>\n",
       "      <th>---sniff---</th>\n",
       "      <td>0.010791</td>\n",
       "      <td>0.031175</td>\n",
       "      <td>0.040767</td>\n",
       "      <td>0.169065</td>\n",
       "      <td>0.154676</td>\n",
       "      <td>0.212230</td>\n",
       "      <td>0.101918</td>\n",
       "      <td>0.034772</td>\n",
       "      <td>0.028777</td>\n",
       "      <td>0.017986</td>\n",
       "      <td>0.059952</td>\n",
       "      <td>0.010791</td>\n",
       "      <td>0.051559</td>\n",
       "      <td>0.068345</td>\n",
       "      <td>0.007194</td>\n",
       "      <td>834</td>\n",
       "    </tr>\n",
       "    <tr>\n",
       "      <th>--GOD--</th>\n",
       "      <td>0.000000</td>\n",
       "      <td>0.076923</td>\n",
       "      <td>0.076923</td>\n",
       "      <td>0.307692</td>\n",
       "      <td>0.038462</td>\n",
       "      <td>0.076923</td>\n",
       "      <td>0.115385</td>\n",
       "      <td>0.076923</td>\n",
       "      <td>0.000000</td>\n",
       "      <td>0.000000</td>\n",
       "      <td>0.000000</td>\n",
       "      <td>0.192308</td>\n",
       "      <td>0.000000</td>\n",
       "      <td>0.000000</td>\n",
       "      <td>0.038462</td>\n",
       "      <td>26</td>\n",
       "    </tr>\n",
       "    <tr>\n",
       "      <th>--cough--</th>\n",
       "      <td>0.000000</td>\n",
       "      <td>0.021739</td>\n",
       "      <td>0.000000</td>\n",
       "      <td>0.184783</td>\n",
       "      <td>0.010870</td>\n",
       "      <td>0.054348</td>\n",
       "      <td>0.065217</td>\n",
       "      <td>0.021739</td>\n",
       "      <td>0.119565</td>\n",
       "      <td>0.000000</td>\n",
       "      <td>0.010870</td>\n",
       "      <td>0.000000</td>\n",
       "      <td>0.489130</td>\n",
       "      <td>0.000000</td>\n",
       "      <td>0.021739</td>\n",
       "      <td>92</td>\n",
       "    </tr>\n",
       "    <tr>\n",
       "      <th>-11</th>\n",
       "      <td>0.000000</td>\n",
       "      <td>0.100000</td>\n",
       "      <td>0.000000</td>\n",
       "      <td>0.000000</td>\n",
       "      <td>0.025000</td>\n",
       "      <td>0.200000</td>\n",
       "      <td>0.000000</td>\n",
       "      <td>0.250000</td>\n",
       "      <td>0.025000</td>\n",
       "      <td>0.100000</td>\n",
       "      <td>0.000000</td>\n",
       "      <td>0.000000</td>\n",
       "      <td>0.000000</td>\n",
       "      <td>0.275000</td>\n",
       "      <td>0.025000</td>\n",
       "      <td>40</td>\n",
       "    </tr>\n",
       "  </tbody>\n",
       "</table>\n",
       "</div>"
      ],
      "text/plain": [
       "cluster                 0         1         2         3         4         5  \\\n",
       "author                                                                        \n",
       "---------------  0.291667  0.083333  0.041667  0.083333  0.041667  0.000000   \n",
       "---sniff---      0.010791  0.031175  0.040767  0.169065  0.154676  0.212230   \n",
       "--GOD--          0.000000  0.076923  0.076923  0.307692  0.038462  0.076923   \n",
       "--cough--        0.000000  0.021739  0.000000  0.184783  0.010870  0.054348   \n",
       "-11              0.000000  0.100000  0.000000  0.000000  0.025000  0.200000   \n",
       "\n",
       "cluster                 6         7         8         9        10        11  \\\n",
       "author                                                                        \n",
       "---------------  0.083333  0.000000  0.125000  0.000000  0.000000  0.083333   \n",
       "---sniff---      0.101918  0.034772  0.028777  0.017986  0.059952  0.010791   \n",
       "--GOD--          0.115385  0.076923  0.000000  0.000000  0.000000  0.192308   \n",
       "--cough--        0.065217  0.021739  0.119565  0.000000  0.010870  0.000000   \n",
       "-11              0.000000  0.250000  0.025000  0.100000  0.000000  0.000000   \n",
       "\n",
       "cluster                12        13        14  total  \n",
       "author                                                \n",
       "---------------  0.041667  0.000000  0.125000     24  \n",
       "---sniff---      0.051559  0.068345  0.007194    834  \n",
       "--GOD--          0.000000  0.000000  0.038462     26  \n",
       "--cough--        0.489130  0.000000  0.021739     92  \n",
       "-11              0.000000  0.275000  0.025000     40  "
      ]
     },
     "execution_count": 16,
     "metadata": {},
     "output_type": "execute_result"
    }
   ],
   "source": [
    "# create a DataFrame of cluster counts for each user\n",
    "user_clusters = trim_df.groupby(['author', 'cluster']).size().unstack(fill_value=0)\n",
    "\n",
    "# add a column with total count of comments for each user\n",
    "user_clusters['total'] = user_clusters.sum(axis=1)\n",
    "\n",
    "# normalize each cluster count by the total count\n",
    "n_clusters = df['cluster'].max()\n",
    "for i in range(n_clusters+1):\n",
    "    user_clusters[i] = user_clusters[i] / user_clusters['total']\n",
    "\n",
    "user_clusters.head()"
   ]
  },
  {
   "cell_type": "code",
   "execution_count": 26,
   "metadata": {},
   "outputs": [
    {
     "data": {
      "image/png": "[encoded data removed]",
      "text/plain": [
       "<Figure size 1000x1000 with 14 Axes>"
      ]
     },
     "metadata": {},
     "output_type": "display_data"
    }
   ],
   "source": [
    "fig, axs = plt.subplots(7,2, figsize=(10,10), sharex=True, sharey=True)\n",
    "\n",
    "# minimum participation in the cluster\n",
    "minp = 0.2\n",
    "\n",
    "for minp, color in zip([0, 0.1, 0.2], ['k', 'c', 'm']):\n",
    "    for k, ax in enumerate(axs.ravel()):\n",
    "        # create temp df with users at least minp in this cluster \n",
    "        # just keep column k\n",
    "        tdf = user_clusters[user_clusters[k] > minp]\n",
    "\n",
    "        # ax.hist(tdf[k], bins=50, density=True, alpha=0.8)\n",
    "        hist, bins = np.histogram(tdf[k], bins=50, density=True)\n",
    "        bin_centers = (bins[:-1] + bins[1:]) / 2\n",
    "        ax.plot(bin_centers, hist, color=color, label=minp)\n",
    "        ax.text(0.45, 18, k)\n",
    "\n",
    "        if k==0:\n",
    "            ax.legend()\n",
    "\n",
    "# axs[0].legend()\n",
    "plt.tight_layout()\n",
    "plt.show()"
   ]
  },
  {
   "cell_type": "code",
   "execution_count": 27,
   "metadata": {},
   "outputs": [
    {
     "data": {
      "image/png": "[encoded data removed]",
      "text/plain": [
       "<Figure size 1200x300 with 4 Axes>"
      ]
     },
     "metadata": {},
     "output_type": "display_data"
    }
   ],
   "source": [
    "fig, axs = plt.subplots(1,4, figsize=(12,3))\n",
    "\n",
    "for ax, minp in zip(axs.ravel(), [0, 0.05, 0.1, 0.2]):\n",
    "    nonzero = (user_clusters.iloc[:,:-1] > minp)\\\n",
    "        .sum(axis=1)\\\n",
    "        .value_counts(normalize=True)\\\n",
    "        .sort_index()\n",
    "    \n",
    "    ax.bar(nonzero.index, nonzero.values, color='g', ec='k', lw=1)\n",
    "    ax.set_xticks(nonzero.index)\n",
    "    ax.set_title(minp)\n",
    "\n",
    "plt.show()"
   ]
  },
  {
   "cell_type": "markdown",
   "metadata": {},
   "source": [
    "# Examine clusters"
   ]
  },
  {
   "cell_type": "code",
   "execution_count": 37,
   "metadata": {},
   "outputs": [],
   "source": [
    "def load_comments_from_file(year, month):\n",
    "    filename = f'RC_{year}-{month}.bz2'\n",
    "    \n",
    "    try:\n",
    "        with bz2.BZ2File(LOAD_PATH + 'comments/' + filename, 'rb') as file:\n",
    "            for line in file:\n",
    "                if len(line) < 10:\n",
    "                    continue\n",
    "\n",
    "                yield json.loads(line)\n",
    "                    \n",
    "    except FileNotFoundError:\n",
    "        print(f'Error: {filename} not found')"
   ]
  },
  {
   "cell_type": "code",
   "execution_count": 30,
   "metadata": {},
   "outputs": [
    {
     "data": {
      "text/plain": [
       "(15, 384)"
      ]
     },
     "execution_count": 30,
     "metadata": {},
     "output_type": "execute_result"
    }
   ],
   "source": [
    "cluster_model = load('/sciclone/geograd/stmorse/reddit/cm_mbkm_20241108.joblib')\n",
    "cluster_model.cluster_centers_.shape"
   ]
  },
  {
   "cell_type": "code",
   "execution_count": 31,
   "metadata": {},
   "outputs": [],
   "source": [
    "cluster_centers = cluster_model.cluster_centers_"
   ]
  },
  {
   "cell_type": "code",
   "execution_count": 32,
   "metadata": {},
   "outputs": [
    {
     "data": {
      "text/plain": [
       "(535836, 384)"
      ]
     },
     "execution_count": 32,
     "metadata": {},
     "output_type": "execute_result"
    }
   ],
   "source": [
    "embeddings = None\n",
    "with open(f'{SAVE_PATH}embeddings/embeddings_2008-10.npz', 'rb') as f:\n",
    "    embeddings = np.load(f)['embeddings']\n",
    "embeddings.shape"
   ]
  },
  {
   "cell_type": "code",
   "execution_count": 93,
   "metadata": {},
   "outputs": [],
   "source": [
    "# load embedding\n",
    "# get closest points to query vector\n",
    "# check indices match cluster (in metadata)\n",
    "query_vector = cluster_centers[3]\n",
    "\n",
    "top_k = 10\n",
    "distances = np.linalg.norm(embeddings - query_vector, axis=1)\n",
    "closest_points = np.argsort(distances)[:top_k]"
   ]
  },
  {
   "cell_type": "code",
   "execution_count": 94,
   "metadata": {},
   "outputs": [
    {
     "data": {
      "text/html": [
       "<div>\n",
       "<style scoped>\n",
       "    .dataframe tbody tr th:only-of-type {\n",
       "        vertical-align: middle;\n",
       "    }\n",
       "\n",
       "    .dataframe tbody tr th {\n",
       "        vertical-align: top;\n",
       "    }\n",
       "\n",
       "    .dataframe thead th {\n",
       "        text-align: right;\n",
       "    }\n",
       "</style>\n",
       "<table border=\"1\" class=\"dataframe\">\n",
       "  <thead>\n",
       "    <tr style=\"text-align: right;\">\n",
       "      <th></th>\n",
       "      <th>k</th>\n",
       "      <th>author</th>\n",
       "      <th>id</th>\n",
       "      <th>utc</th>\n",
       "      <th>year</th>\n",
       "      <th>month</th>\n",
       "      <th>cluster</th>\n",
       "    </tr>\n",
       "  </thead>\n",
       "  <tbody>\n",
       "    <tr>\n",
       "      <th>4905161</th>\n",
       "      <td>4113</td>\n",
       "      <td>dave</td>\n",
       "      <td>c05nmvb</td>\n",
       "      <td>1222838683</td>\n",
       "      <td>2008</td>\n",
       "      <td>10</td>\n",
       "      <td>3</td>\n",
       "    </tr>\n",
       "    <tr>\n",
       "      <th>4925258</th>\n",
       "      <td>24210</td>\n",
       "      <td>MisterEThoughts</td>\n",
       "      <td>c05o9t7</td>\n",
       "      <td>1222941489</td>\n",
       "      <td>2008</td>\n",
       "      <td>10</td>\n",
       "      <td>3</td>\n",
       "    </tr>\n",
       "    <tr>\n",
       "      <th>4958238</th>\n",
       "      <td>57190</td>\n",
       "      <td>Bbaily</td>\n",
       "      <td>c05pbcu</td>\n",
       "      <td>1223092654</td>\n",
       "      <td>2008</td>\n",
       "      <td>10</td>\n",
       "      <td>3</td>\n",
       "    </tr>\n",
       "    <tr>\n",
       "      <th>5002504</th>\n",
       "      <td>101456</td>\n",
       "      <td>dave</td>\n",
       "      <td>c05qqhm</td>\n",
       "      <td>1223370699</td>\n",
       "      <td>2008</td>\n",
       "      <td>10</td>\n",
       "      <td>3</td>\n",
       "    </tr>\n",
       "    <tr>\n",
       "      <th>5038325</th>\n",
       "      <td>137277</td>\n",
       "      <td>andyxyxy</td>\n",
       "      <td>c05ruuj</td>\n",
       "      <td>1223525192</td>\n",
       "      <td>2008</td>\n",
       "      <td>10</td>\n",
       "      <td>3</td>\n",
       "    </tr>\n",
       "    <tr>\n",
       "      <th>5040776</th>\n",
       "      <td>139728</td>\n",
       "      <td>Bbaily</td>\n",
       "      <td>c05rxn3</td>\n",
       "      <td>1223542336</td>\n",
       "      <td>2008</td>\n",
       "      <td>10</td>\n",
       "      <td>3</td>\n",
       "    </tr>\n",
       "    <tr>\n",
       "      <th>5067733</th>\n",
       "      <td>166685</td>\n",
       "      <td>SND_Crow</td>\n",
       "      <td>c05sshf</td>\n",
       "      <td>1223666903</td>\n",
       "      <td>2008</td>\n",
       "      <td>10</td>\n",
       "      <td>3</td>\n",
       "    </tr>\n",
       "    <tr>\n",
       "      <th>5262712</th>\n",
       "      <td>361664</td>\n",
       "      <td>ellieD</td>\n",
       "      <td>c05yzgd</td>\n",
       "      <td>1224671588</td>\n",
       "      <td>2008</td>\n",
       "      <td>10</td>\n",
       "      <td>3</td>\n",
       "    </tr>\n",
       "    <tr>\n",
       "      <th>5353805</th>\n",
       "      <td>452757</td>\n",
       "      <td>cheddarben</td>\n",
       "      <td>c061v6c</td>\n",
       "      <td>1225134048</td>\n",
       "      <td>2008</td>\n",
       "      <td>10</td>\n",
       "      <td>3</td>\n",
       "    </tr>\n",
       "    <tr>\n",
       "      <th>5436029</th>\n",
       "      <td>534981</td>\n",
       "      <td>jilseng4</td>\n",
       "      <td>c064ftq</td>\n",
       "      <td>1225493518</td>\n",
       "      <td>2008</td>\n",
       "      <td>10</td>\n",
       "      <td>3</td>\n",
       "    </tr>\n",
       "  </tbody>\n",
       "</table>\n",
       "</div>"
      ],
      "text/plain": [
       "              k           author       id         utc  year  month  cluster\n",
       "4905161    4113             dave  c05nmvb  1222838683  2008     10        3\n",
       "4925258   24210  MisterEThoughts  c05o9t7  1222941489  2008     10        3\n",
       "4958238   57190           Bbaily  c05pbcu  1223092654  2008     10        3\n",
       "5002504  101456             dave  c05qqhm  1223370699  2008     10        3\n",
       "5038325  137277         andyxyxy  c05ruuj  1223525192  2008     10        3\n",
       "5040776  139728           Bbaily  c05rxn3  1223542336  2008     10        3\n",
       "5067733  166685         SND_Crow  c05sshf  1223666903  2008     10        3\n",
       "5262712  361664           ellieD  c05yzgd  1224671588  2008     10        3\n",
       "5353805  452757       cheddarben  c061v6c  1225134048  2008     10        3\n",
       "5436029  534981         jilseng4  c064ftq  1225493518  2008     10        3"
      ]
     },
     "execution_count": 94,
     "metadata": {},
     "output_type": "execute_result"
    }
   ],
   "source": [
    "top_df = df.query('year == 2008 & month == 10 & k in @closest_points')\n",
    "top_df"
   ]
  },
  {
   "cell_type": "code",
   "execution_count": null,
   "metadata": {},
   "outputs": [
    {
     "data": {
      "text/html": [
       "<div>\n",
       "<style scoped>\n",
       "    .dataframe tbody tr th:only-of-type {\n",
       "        vertical-align: middle;\n",
       "    }\n",
       "\n",
       "    .dataframe tbody tr th {\n",
       "        vertical-align: top;\n",
       "    }\n",
       "\n",
       "    .dataframe thead th {\n",
       "        text-align: right;\n",
       "    }\n",
       "</style>\n",
       "<table border=\"1\" class=\"dataframe\">\n",
       "  <thead>\n",
       "    <tr style=\"text-align: right;\">\n",
       "      <th></th>\n",
       "      <th>author</th>\n",
       "      <th>id</th>\n",
       "      <th>utc</th>\n",
       "      <th>body</th>\n",
       "    </tr>\n",
       "  </thead>\n",
       "  <tbody>\n",
       "    <tr>\n",
       "      <th>0</th>\n",
       "      <td>ohai</td>\n",
       "      <td>c05ni4r</td>\n",
       "      <td>1222819201</td>\n",
       "      <td>OMG thats like 100 jobs!!!!</td>\n",
       "    </tr>\n",
       "    <tr>\n",
       "      <th>1</th>\n",
       "      <td>Facepuncher</td>\n",
       "      <td>c05ni4s</td>\n",
       "      <td>1222819202</td>\n",
       "      <td>dun dun dunnnnnnn!</td>\n",
       "    </tr>\n",
       "    <tr>\n",
       "      <th>2</th>\n",
       "      <td>Mr_Smartypants</td>\n",
       "      <td>c05ni4t</td>\n",
       "      <td>1222819205</td>\n",
       "      <td>Yeah, but he put his hand back up when the guy...</td>\n",
       "    </tr>\n",
       "    <tr>\n",
       "      <th>3</th>\n",
       "      <td>MrKlaatu</td>\n",
       "      <td>c05ni4u</td>\n",
       "      <td>1222819207</td>\n",
       "      <td>*\"unusual\"*???  \\r\\n...that's right you're not...</td>\n",
       "    </tr>\n",
       "    <tr>\n",
       "      <th>4</th>\n",
       "      <td>emosorines</td>\n",
       "      <td>c05ni4v</td>\n",
       "      <td>1222819208</td>\n",
       "      <td>The Bush Administration defines condoms and ab...</td>\n",
       "    </tr>\n",
       "  </tbody>\n",
       "</table>\n",
       "</div>"
      ],
      "text/plain": [
       "           author       id         utc  \\\n",
       "0            ohai  c05ni4r  1222819201   \n",
       "1     Facepuncher  c05ni4s  1222819202   \n",
       "2  Mr_Smartypants  c05ni4t  1222819205   \n",
       "3        MrKlaatu  c05ni4u  1222819207   \n",
       "4      emosorines  c05ni4v  1222819208   \n",
       "\n",
       "                                                body  \n",
       "0                        OMG thats like 100 jobs!!!!  \n",
       "1                                 dun dun dunnnnnnn!  \n",
       "2  Yeah, but he put his hand back up when the guy...  \n",
       "3  *\"unusual\"*???  \\r\\n...that's right you're not...  \n",
       "4  The Bush Administration defines condoms and ab...  "
      ]
     },
     "execution_count": 41,
     "metadata": {},
     "output_type": "execute_result"
    }
   ],
   "source": [
    "# load comments\n",
    "data = []\n",
    "for entry in load_comments_from_file(2008, 10):\n",
    "    author = entry['author']\n",
    "    if author != '[deleted]':\n",
    "        data.append([entry['author'], entry['id'], entry['created_utc'], entry['body'][:50]])\n",
    "data = pd.DataFrame(data, columns=['author', 'id', 'utc', 'body'])\n",
    "data.head()"
   ]
  },
  {
   "cell_type": "code",
   "execution_count": 95,
   "metadata": {},
   "outputs": [
    {
     "data": {
      "text/html": [
       "<div>\n",
       "<style scoped>\n",
       "    .dataframe tbody tr th:only-of-type {\n",
       "        vertical-align: middle;\n",
       "    }\n",
       "\n",
       "    .dataframe tbody tr th {\n",
       "        vertical-align: top;\n",
       "    }\n",
       "\n",
       "    .dataframe thead th {\n",
       "        text-align: right;\n",
       "    }\n",
       "</style>\n",
       "<table border=\"1\" class=\"dataframe\">\n",
       "  <thead>\n",
       "    <tr style=\"text-align: right;\">\n",
       "      <th></th>\n",
       "      <th>author</th>\n",
       "      <th>id</th>\n",
       "      <th>utc</th>\n",
       "      <th>body</th>\n",
       "    </tr>\n",
       "  </thead>\n",
       "  <tbody>\n",
       "    <tr>\n",
       "      <th>4113</th>\n",
       "      <td>dave</td>\n",
       "      <td>c05nmvb</td>\n",
       "      <td>1222838683</td>\n",
       "      <td>Haha!</td>\n",
       "    </tr>\n",
       "    <tr>\n",
       "      <th>24210</th>\n",
       "      <td>MisterEThoughts</td>\n",
       "      <td>c05o9t7</td>\n",
       "      <td>1222941489</td>\n",
       "      <td>haha!</td>\n",
       "    </tr>\n",
       "    <tr>\n",
       "      <th>57190</th>\n",
       "      <td>Bbaily</td>\n",
       "      <td>c05pbcu</td>\n",
       "      <td>1223092654</td>\n",
       "      <td>haha!</td>\n",
       "    </tr>\n",
       "    <tr>\n",
       "      <th>101456</th>\n",
       "      <td>dave</td>\n",
       "      <td>c05qqhm</td>\n",
       "      <td>1223370699</td>\n",
       "      <td>haha!</td>\n",
       "    </tr>\n",
       "    <tr>\n",
       "      <th>137277</th>\n",
       "      <td>andyxyxy</td>\n",
       "      <td>c05ruuj</td>\n",
       "      <td>1223525192</td>\n",
       "      <td>HA!</td>\n",
       "    </tr>\n",
       "    <tr>\n",
       "      <th>139728</th>\n",
       "      <td>Bbaily</td>\n",
       "      <td>c05rxn3</td>\n",
       "      <td>1223542336</td>\n",
       "      <td>haha!</td>\n",
       "    </tr>\n",
       "    <tr>\n",
       "      <th>166685</th>\n",
       "      <td>SND_Crow</td>\n",
       "      <td>c05sshf</td>\n",
       "      <td>1223666903</td>\n",
       "      <td>Haha!</td>\n",
       "    </tr>\n",
       "    <tr>\n",
       "      <th>361664</th>\n",
       "      <td>ellieD</td>\n",
       "      <td>c05yzgd</td>\n",
       "      <td>1224671588</td>\n",
       "      <td>haaa!</td>\n",
       "    </tr>\n",
       "    <tr>\n",
       "      <th>452757</th>\n",
       "      <td>cheddarben</td>\n",
       "      <td>c061v6c</td>\n",
       "      <td>1225134048</td>\n",
       "      <td>HA!</td>\n",
       "    </tr>\n",
       "    <tr>\n",
       "      <th>534981</th>\n",
       "      <td>jilseng4</td>\n",
       "      <td>c064ftq</td>\n",
       "      <td>1225493518</td>\n",
       "      <td>HA!</td>\n",
       "    </tr>\n",
       "  </tbody>\n",
       "</table>\n",
       "</div>"
      ],
      "text/plain": [
       "                 author       id         utc   body\n",
       "4113               dave  c05nmvb  1222838683  Haha!\n",
       "24210   MisterEThoughts  c05o9t7  1222941489  haha!\n",
       "57190            Bbaily  c05pbcu  1223092654  haha!\n",
       "101456             dave  c05qqhm  1223370699  haha!\n",
       "137277         andyxyxy  c05ruuj  1223525192    HA!\n",
       "139728           Bbaily  c05rxn3  1223542336  haha!\n",
       "166685         SND_Crow  c05sshf  1223666903  Haha!\n",
       "361664           ellieD  c05yzgd  1224671588  haaa!\n",
       "452757       cheddarben  c061v6c  1225134048    HA!\n",
       "534981         jilseng4  c064ftq  1225493518    HA!"
      ]
     },
     "execution_count": 95,
     "metadata": {},
     "output_type": "execute_result"
    }
   ],
   "source": [
    "data[data[\"id\"].isin(top_df[\"id\"])]"
   ]
  },
  {
   "cell_type": "code",
   "execution_count": 55,
   "metadata": {},
   "outputs": [
    {
     "data": {
      "text/plain": [
       "'Oh oh, FUD from the pandering right-wing wackos, n'"
      ]
     },
     "execution_count": 55,
     "metadata": {},
     "output_type": "execute_result"
    }
   ],
   "source": [
    "data.iloc[317063, 3]"
   ]
  },
  {
   "cell_type": "markdown",
   "metadata": {},
   "source": [
    "# Deeper clustering"
   ]
  },
  {
   "cell_type": "code",
   "execution_count": 63,
   "metadata": {},
   "outputs": [],
   "source": [
    "from sklearn.cluster import AgglomerativeClustering, Birch"
   ]
  },
  {
   "cell_type": "code",
   "execution_count": 60,
   "metadata": {},
   "outputs": [
    {
     "data": {
      "text/plain": [
       "(535836,)"
      ]
     },
     "execution_count": 60,
     "metadata": {},
     "output_type": "execute_result"
    }
   ],
   "source": [
    "with open(f'{SAVE_PATH}labels/labels_2008-10.npz', 'rb') as f:\n",
    "    labels = np.load(f)['labels']\n",
    "labels.shape"
   ]
  },
  {
   "cell_type": "code",
   "execution_count": 64,
   "metadata": {},
   "outputs": [
    {
     "data": {
      "text/plain": [
       "(50794, 384)"
      ]
     },
     "execution_count": 64,
     "metadata": {},
     "output_type": "execute_result"
    }
   ],
   "source": [
    "embeddings[labels==4].shape"
   ]
  },
  {
   "cell_type": "code",
   "execution_count": 65,
   "metadata": {},
   "outputs": [],
   "source": [
    "dmodel = Birch(n_clusters=10).fit(embeddings[labels==5])"
   ]
  },
  {
   "cell_type": "code",
   "execution_count": 68,
   "metadata": {},
   "outputs": [
    {
     "data": {
      "text/plain": [
       "(2103,)"
      ]
     },
     "execution_count": 68,
     "metadata": {},
     "output_type": "execute_result"
    }
   ],
   "source": [
    "np.where(dmodel.labels_ == 1)[0].shape"
   ]
  },
  {
   "cell_type": "code",
   "execution_count": 82,
   "metadata": {},
   "outputs": [
    {
     "name": "stdout",
     "output_type": "stream",
     "text": [
      "0  -  (10592,)\n",
      "1  -  (2103,)\n",
      "2  -  (7013,)\n",
      "3  -  (3017,)\n",
      "4  -  (6098,)\n",
      "5  -  (3199,)\n",
      "6  -  (2058,)\n",
      "7  -  (2451,)\n",
      "8  -  (710,)\n",
      "9  -  (784,)\n"
     ]
    }
   ],
   "source": [
    "for i in range(10):\n",
    "    print(i, ' - ', np.where(dmodel.labels_ == i)[0].shape)"
   ]
  },
  {
   "cell_type": "code",
   "execution_count": 92,
   "metadata": {},
   "outputs": [
    {
     "data": {
      "text/html": [
       "<div>\n",
       "<style scoped>\n",
       "    .dataframe tbody tr th:only-of-type {\n",
       "        vertical-align: middle;\n",
       "    }\n",
       "\n",
       "    .dataframe tbody tr th {\n",
       "        vertical-align: top;\n",
       "    }\n",
       "\n",
       "    .dataframe thead th {\n",
       "        text-align: right;\n",
       "    }\n",
       "</style>\n",
       "<table border=\"1\" class=\"dataframe\">\n",
       "  <thead>\n",
       "    <tr style=\"text-align: right;\">\n",
       "      <th></th>\n",
       "      <th>author</th>\n",
       "      <th>id</th>\n",
       "      <th>utc</th>\n",
       "      <th>body</th>\n",
       "    </tr>\n",
       "  </thead>\n",
       "  <tbody>\n",
       "    <tr>\n",
       "      <th>262</th>\n",
       "      <td>Sqwirl</td>\n",
       "      <td>c05nifr</td>\n",
       "      <td>1222820436</td>\n",
       "      <td>That reminds me of that popular song from back...</td>\n",
       "    </tr>\n",
       "    <tr>\n",
       "      <th>494</th>\n",
       "      <td>scared1</td>\n",
       "      <td>c05nip4</td>\n",
       "      <td>1222821425</td>\n",
       "      <td>The only thing I can't stand more than Jim Rom...</td>\n",
       "    </tr>\n",
       "    <tr>\n",
       "      <th>578</th>\n",
       "      <td>aeon2012</td>\n",
       "      <td>c05nisp</td>\n",
       "      <td>1222821838</td>\n",
       "      <td>old but still funny</td>\n",
       "    </tr>\n",
       "    <tr>\n",
       "      <th>621</th>\n",
       "      <td>palalab</td>\n",
       "      <td>c05niua</td>\n",
       "      <td>1222821990</td>\n",
       "      <td>Why is his face all fuzzed out?</td>\n",
       "    </tr>\n",
       "    <tr>\n",
       "      <th>1076</th>\n",
       "      <td>bs9tmw</td>\n",
       "      <td>c05njd8</td>\n",
       "      <td>1222824145</td>\n",
       "      <td>I was thinking along the lines of Sacha Baron ...</td>\n",
       "    </tr>\n",
       "    <tr>\n",
       "      <th>1228</th>\n",
       "      <td>dubyabinlyin</td>\n",
       "      <td>c05njj4</td>\n",
       "      <td>1222824799</td>\n",
       "      <td>I think it's performance art...  Like Bill O'R...</td>\n",
       "    </tr>\n",
       "    <tr>\n",
       "      <th>1249</th>\n",
       "      <td>bobcat</td>\n",
       "      <td>c05njjx</td>\n",
       "      <td>1222824894</td>\n",
       "      <td>And that \"Under the Sea\" tune.</td>\n",
       "    </tr>\n",
       "    <tr>\n",
       "      <th>1488</th>\n",
       "      <td>wwabc</td>\n",
       "      <td>c05njtc</td>\n",
       "      <td>1222825961</td>\n",
       "      <td>meh...maybe, like, three of them are 'Great', ...</td>\n",
       "    </tr>\n",
       "    <tr>\n",
       "      <th>1572</th>\n",
       "      <td>pastanoose</td>\n",
       "      <td>c05njwi</td>\n",
       "      <td>1222826331</td>\n",
       "      <td>why did they let granpa outta the home?</td>\n",
       "    </tr>\n",
       "    <tr>\n",
       "      <th>1581</th>\n",
       "      <td>akinoyeshua</td>\n",
       "      <td>c05njwv</td>\n",
       "      <td>1222826370</td>\n",
       "      <td>that's awesome for you to have observed that a...</td>\n",
       "    </tr>\n",
       "  </tbody>\n",
       "</table>\n",
       "</div>"
      ],
      "text/plain": [
       "            author       id         utc  \\\n",
       "262         Sqwirl  c05nifr  1222820436   \n",
       "494        scared1  c05nip4  1222821425   \n",
       "578       aeon2012  c05nisp  1222821838   \n",
       "621        palalab  c05niua  1222821990   \n",
       "1076        bs9tmw  c05njd8  1222824145   \n",
       "1228  dubyabinlyin  c05njj4  1222824799   \n",
       "1249        bobcat  c05njjx  1222824894   \n",
       "1488         wwabc  c05njtc  1222825961   \n",
       "1572    pastanoose  c05njwi  1222826331   \n",
       "1581   akinoyeshua  c05njwv  1222826370   \n",
       "\n",
       "                                                   body  \n",
       "262   That reminds me of that popular song from back...  \n",
       "494   The only thing I can't stand more than Jim Rom...  \n",
       "578                                 old but still funny  \n",
       "621                     Why is his face all fuzzed out?  \n",
       "1076  I was thinking along the lines of Sacha Baron ...  \n",
       "1228  I think it's performance art...  Like Bill O'R...  \n",
       "1249                     And that \"Under the Sea\" tune.  \n",
       "1488  meh...maybe, like, three of them are 'Great', ...  \n",
       "1572            why did they let granpa outta the home?  \n",
       "1581  that's awesome for you to have observed that a...  "
      ]
     },
     "execution_count": 92,
     "metadata": {},
     "output_type": "execute_result"
    }
   ],
   "source": [
    "sublabels = dmodel.labels_\n",
    "\n",
    "# this is the original indices in embeddings \n",
    "ix = np.where(labels==4)[0]\n",
    "\n",
    "# this is the sublabel indices in the slice of embeddings\n",
    "subix = np.where(sublabels==4)[0]\n",
    "\n",
    "data.iloc[ix[subix],:].head(10)"
   ]
  }
 ],
 "metadata": {
  "kernelspec": {
   "display_name": "Python 3",
   "language": "python",
   "name": "python3"
  },
  "language_info": {
   "codemirror_mode": {
    "name": "ipython",
    "version": 3
   },
   "file_extension": ".py",
   "mimetype": "text/x-python",
   "name": "python",
   "nbconvert_exporter": "python",
   "pygments_lexer": "ipython3",
   "version": "3.12.0"
  }
 },
 "nbformat": 4,
 "nbformat_minor": 2
}
