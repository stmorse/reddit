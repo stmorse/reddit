{
 "cells": [
  {
   "cell_type": "markdown",
   "metadata": {},
   "source": [
    "# Check file size"
   ]
  },
  {
   "cell_type": "code",
   "execution_count": 2,
   "metadata": {},
   "outputs": [],
   "source": [
    "import os\n",
    "import sys\n",
    "import bz2\n",
    "import json"
   ]
  },
  {
   "cell_type": "code",
   "execution_count": 6,
   "metadata": {},
   "outputs": [
    {
     "name": "stdout",
     "output_type": "stream",
     "text": [
      "File size: 251.51 MB\n",
      "Memory size of sentences array (1000000): 8.06 MB\n",
      "Memory size of sentences array (2000000): 16.33 MB\n",
      "2884096 2884096 2208243\n"
     ]
    }
   ],
   "source": [
    "LOAD_PATH = '/sciclone/data10/twford/reddit/reddit/comments/'\n",
    "\n",
    "year = 2010\n",
    "month = '01'\n",
    "\n",
    "file_path = f'{LOAD_PATH}RC_{year}-{month}.bz2'\n",
    "\n",
    "file_size = os.path.getsize(file_path)\n",
    "print(f'File size: {file_size / (1024 * 1024):.2f} MB')\n",
    "\n",
    "total, nonblank, nondeleted = 0, 0, 0\n",
    "sentences = []\n",
    "with bz2.open(file_path, 'rb') as f:\n",
    "    for line in f:\n",
    "        entry = json.loads(line)\n",
    "        total += 1\n",
    "        if 'body' in entry:\n",
    "            nonblank += 1\n",
    "            if entry['author'] != '[deleted]':\n",
    "                nondeleted += 1\n",
    "                sentences.append(entry['body'])\n",
    "\n",
    "        if nondeleted % 1000000 == 0:\n",
    "            memory_size = sys.getsizeof(sentences)\n",
    "            print(f'Memory size of sentences array ({nondeleted}): {memory_size / (1024 * 1024):.2f} MB')\n",
    "\n",
    "print(total, nonblank, nondeleted)"
   ]
  },
  {
   "cell_type": "code",
   "execution_count": null,
   "metadata": {},
   "outputs": [],
   "source": []
  },
  {
   "cell_type": "code",
   "execution_count": null,
   "metadata": {},
   "outputs": [],
   "source": []
  },
  {
   "cell_type": "markdown",
   "metadata": {},
   "source": [
    "# EDA"
   ]
  },
  {
   "cell_type": "code",
   "execution_count": 11,
   "metadata": {},
   "outputs": [],
   "source": [
    "import matplotlib.pyplot as plt\n",
    "import numpy as np\n",
    "import pandas as pd"
   ]
  },
  {
   "cell_type": "code",
   "execution_count": 2,
   "metadata": {},
   "outputs": [],
   "source": [
    "PATH = '/sciclone/geograd/stmorse/reddit'"
   ]
  },
  {
   "cell_type": "markdown",
   "metadata": {},
   "source": [
    "```\n",
    "find /sciclone/data10/twford/reddit/reddit/comments -maxdepth 1 -type f -exec du -k {} + | awk '{print $2, $1}' > filesizes.txt\n",
    "```"
   ]
  },
  {
   "cell_type": "code",
   "execution_count": 19,
   "metadata": {},
   "outputs": [
    {
     "data": {
      "text/html": [
       "<div>\n",
       "<style scoped>\n",
       "    .dataframe tbody tr th:only-of-type {\n",
       "        vertical-align: middle;\n",
       "    }\n",
       "\n",
       "    .dataframe tbody tr th {\n",
       "        vertical-align: top;\n",
       "    }\n",
       "\n",
       "    .dataframe thead th {\n",
       "        text-align: right;\n",
       "    }\n",
       "</style>\n",
       "<table border=\"1\" class=\"dataframe\">\n",
       "  <thead>\n",
       "    <tr style=\"text-align: right;\">\n",
       "      <th></th>\n",
       "      <th>Date</th>\n",
       "      <th>Size</th>\n",
       "    </tr>\n",
       "  </thead>\n",
       "  <tbody>\n",
       "    <tr>\n",
       "      <th>1</th>\n",
       "      <td>2005-12</td>\n",
       "      <td>0.000111</td>\n",
       "    </tr>\n",
       "    <tr>\n",
       "      <th>3</th>\n",
       "      <td>2006-01</td>\n",
       "      <td>0.000328</td>\n",
       "    </tr>\n",
       "    <tr>\n",
       "      <th>5</th>\n",
       "      <td>2006-02</td>\n",
       "      <td>0.000854</td>\n",
       "    </tr>\n",
       "    <tr>\n",
       "      <th>7</th>\n",
       "      <td>2006-03</td>\n",
       "      <td>0.001183</td>\n",
       "    </tr>\n",
       "    <tr>\n",
       "      <th>9</th>\n",
       "      <td>2006-04</td>\n",
       "      <td>0.001850</td>\n",
       "    </tr>\n",
       "  </tbody>\n",
       "</table>\n",
       "</div>"
      ],
      "text/plain": [
       "      Date      Size\n",
       "1  2005-12  0.000111\n",
       "3  2006-01  0.000328\n",
       "5  2006-02  0.000854\n",
       "7  2006-03  0.001183\n",
       "9  2006-04  0.001850"
      ]
     },
     "execution_count": 19,
     "metadata": {},
     "output_type": "execute_result"
    }
   ],
   "source": [
    "res = []\n",
    "with open(PATH + '/filesizes.txt', 'r') as f:\n",
    "    for line in f:\n",
    "        fname, fsize = line.split(' ')\n",
    "        fname = fname.split('/')[-1]\n",
    "        if fname[:2] != 'RC':\n",
    "            continue\n",
    "\n",
    "        fdate = fname.split('.')[0][3:]\n",
    "\n",
    "        res.append([fdate, int(fsize)])\n",
    "\n",
    "df = pd.DataFrame(res, columns=['Date', 'Size'])\n",
    "df['Date'] = pd.to_datetime(df['Date']).dt.to_period('M')\n",
    "df = df.sort_values(by='Date', ascending=True)\n",
    "df['Size'] = df['Size'] / (1024*1024)\n",
    "\n",
    "df.head()"
   ]
  },
  {
   "cell_type": "code",
   "execution_count": 24,
   "metadata": {},
   "outputs": [
    {
     "data": {
      "text/plain": [
       "Text(0, 0.5, 'Filesize (Gb)')"
      ]
     },
     "execution_count": 24,
     "metadata": {},
     "output_type": "execute_result"
    },
    {
     "data": {
      "image/png": "[encoded data removed]",
      "text/plain": [
       "<Figure size 800x400 with 1 Axes>"
      ]
     },
     "metadata": {},
     "output_type": "display_data"
    }
   ],
   "source": [
    "fig, ax = plt.subplots(1,1, figsize=(8,4))\n",
    "\n",
    "df.plot('Date', 'Size', color='b', linestyle='-', ax=ax, legend=False)\n",
    "ax.set_xlabel('')\n",
    "ax.set_ylabel('Filesize (Gb)')"
   ]
  },
  {
   "cell_type": "code",
   "execution_count": null,
   "metadata": {},
   "outputs": [],
   "source": []
  },
  {
   "cell_type": "code",
   "execution_count": null,
   "metadata": {},
   "outputs": [],
   "source": []
  },
  {
   "cell_type": "markdown",
   "metadata": {},
   "source": [
    "# Testing SentenceTransformer stability"
   ]
  },
  {
   "cell_type": "code",
   "execution_count": 1,
   "metadata": {},
   "outputs": [
    {
     "name": "stderr",
     "output_type": "stream",
     "text": [
      "/sciclone/home/stmorse/.conda/envs/torch-tik-env/lib/python3.12/site-packages/sentence_transformers/cross_encoder/CrossEncoder.py:13: TqdmExperimentalWarning: Using `tqdm.autonotebook.tqdm` in notebook mode. Use `tqdm.tqdm` instead to force console mode (e.g. in jupyter console)\n",
      "  from tqdm.autonotebook import tqdm, trange\n"
     ]
    }
   ],
   "source": [
    "from sentence_transformers import SentenceTransformer"
   ]
  },
  {
   "cell_type": "code",
   "execution_count": 2,
   "metadata": {},
   "outputs": [],
   "source": [
    "sentences = [\"Hello this is a test\", \"Im testing stability\"]\n",
    "\n",
    "model = SentenceTransformer('all-MiniLM-L6-v2', model_kwargs={'torch_dtype': 'float16'})\n",
    "\n",
    "encoded1 = model.encode(sentences)\n",
    "\n",
    "model2 = SentenceTransformer('all-MiniLM-L6-v2', model_kwargs={'torch_dtype': 'float16'})\n",
    "\n",
    "encoded2 = model2.encode(sentences)"
   ]
  },
  {
   "cell_type": "code",
   "execution_count": 3,
   "metadata": {},
   "outputs": [
    {
     "name": "stdout",
     "output_type": "stream",
     "text": [
      "[[-0.02673   0.04538  -0.01756 ]\n",
      " [-0.006775 -0.02313  -0.06976 ]]\n",
      "[[-0.02673   0.04538  -0.01756 ]\n",
      " [-0.006775 -0.02313  -0.06976 ]]\n"
     ]
    }
   ],
   "source": [
    "print(encoded1[:,:3])\n",
    "print(encoded2[:,:3])"
   ]
  },
  {
   "cell_type": "code",
   "execution_count": null,
   "metadata": {},
   "outputs": [],
   "source": []
  },
  {
   "cell_type": "markdown",
   "metadata": {},
   "source": [
    "# Testing clustering algorithms"
   ]
  },
  {
   "cell_type": "code",
   "execution_count": 13,
   "metadata": {},
   "outputs": [],
   "source": [
    "from copy import deepcopy\n",
    "\n",
    "import matplotlib.pyplot as plt\n",
    "import numpy as np\n",
    "\n",
    "from sklearn.cluster import Birch\n",
    "from sklearn.datasets import make_blobs"
   ]
  },
  {
   "cell_type": "code",
   "execution_count": 9,
   "metadata": {},
   "outputs": [
    {
     "data": {
      "image/png": "[encoded data removed]",
      "text/plain": [
       "<Figure size 500x500 with 1 Axes>"
      ]
     },
     "metadata": {},
     "output_type": "display_data"
    }
   ],
   "source": [
    "X, labels_true = make_blobs(\n",
    "    n_samples=100,\n",
    "    centers=3,\n",
    "    cluster_std=[1, 1, 0.1],\n",
    "    random_state=123\n",
    ")\n",
    "\n",
    "fig, ax = plt.subplots(1,1, figsize=(5,5))\n",
    "unique_labels = np.unique(labels_true)\n",
    "colors = [plt.cm.Spectral(each) for each in np.linspace(0, 1, len(unique_labels))]\n",
    "for k, color in zip(unique_labels, colors):\n",
    "    ci = np.where(labels_true == k)[0]\n",
    "    ax.scatter(X[ci, 0], X[ci, 1], c=[color], s=50, edgecolors='k', alpha=0.8, label=k)\n",
    "\n",
    "plt.show()"
   ]
  },
  {
   "cell_type": "code",
   "execution_count": 17,
   "metadata": {},
   "outputs": [
    {
     "data": {
      "image/png": "[encoded data removed]",
      "text/plain": [
       "<Figure size 2000x500 with 4 Axes>"
      ]
     },
     "metadata": {},
     "output_type": "display_data"
    }
   ],
   "source": [
    "cm = Birch(n_clusters=3, threshold=0.2)\n",
    "\n",
    "fig, axs = plt.subplots(1,4, figsize=(20,5))\n",
    "colors = [plt.cm.Spectral(each) for each in np.linspace(0, 1, len(unique_labels))]\n",
    "\n",
    "# partition the data into 5 chunks, do partial_fit, and plot the labels\n",
    "for i, ax in enumerate(axs):\n",
    "    start = i*25\n",
    "    end = (i+1)*25\n",
    "\n",
    "    cm.partial_fit(X[start:end])\n",
    "    partial_labs = cm.predict(X[:end])\n",
    "    partial_unique = np.unique(partial_labs)\n",
    "    \n",
    "    for k, color in zip(partial_unique, colors):\n",
    "        ci = np.where(partial_labs == k)[0]\n",
    "        ax.scatter(X[:end][ci, 0], X[:end][ci, 1], \n",
    "                   c=[color], s=50, edgecolors='k', alpha=0.8, label=k)\n",
    "    \n",
    "    ax.scatter(X[end:, 0], X[end:, 1], \n",
    "               c='gray', s=50, alpha=0.5)\n",
    "\n",
    "plt.show()"
   ]
  },
  {
   "cell_type": "code",
   "execution_count": null,
   "metadata": {},
   "outputs": [],
   "source": []
  },
  {
   "cell_type": "code",
   "execution_count": null,
   "metadata": {},
   "outputs": [],
   "source": []
  },
  {
   "cell_type": "markdown",
   "metadata": {},
   "source": [
    "# Loading / checking data"
   ]
  },
  {
   "cell_type": "code",
   "execution_count": 2,
   "metadata": {},
   "outputs": [],
   "source": [
    "import matplotlib.pyplot as plt\n",
    "import pandas as pd\n",
    "import numpy as np\n",
    "\n",
    "import bz2   # bzip2 for .bz2\n",
    "import lzma  # xz for .xz\n",
    "# import zstandard as zstd  # zstd for .zst\n",
    "\n",
    "import json\n",
    "import os"
   ]
  },
  {
   "cell_type": "code",
   "execution_count": 3,
   "metadata": {},
   "outputs": [],
   "source": [
    "path = '/sciclone/data10/twford/reddit/reddit/'"
   ]
  },
  {
   "cell_type": "code",
   "execution_count": 4,
   "metadata": {},
   "outputs": [
    {
     "name": "stdout",
     "output_type": "stream",
     "text": [
      "RC_2006-01.bz2...\n",
      "RC_2006-02.bz2...\n",
      "RC_2006-03.bz2...\n",
      "RC_2006-04.bz2...\n",
      "RC_2006-05.bz2...\n",
      "RC_2006-06.bz2...\n",
      "RC_2006-07.bz2...\n",
      "RC_2006-08.bz2...\n",
      "RC_2006-09.bz2...\n",
      "RC_2006-10.bz2...\n",
      "RC_2006-11.bz2...\n",
      "RC_2006-12.bz2...\n",
      "RC_2007-01.bz2...\n",
      "RC_2007-02.bz2...\n",
      "RC_2007-03.bz2...\n",
      "RC_2007-04.bz2...\n",
      "RC_2007-05.bz2...\n",
      "RC_2007-06.bz2...\n",
      "RC_2007-07.bz2...\n",
      "RC_2007-08.bz2...\n",
      "RC_2007-09.bz2...\n",
      "RC_2007-10.bz2...\n",
      "RC_2007-11.bz2...\n",
      "RC_2007-12.bz2...\n"
     ]
    }
   ],
   "source": [
    "# this will store all JSON objects\n",
    "res = []\n",
    "\n",
    "# yrs and dates to search\n",
    "yrs = [2006, 2007]\n",
    "mos = ['01', '02', '03', '04', '05', '06', '07', '08', '09', '10', '11', '12']\n",
    "\n",
    "# loop through all years and months\n",
    "for yr in yrs:\n",
    "    for mo in mos:\n",
    "        filename = f'RC_{yr}-{mo}.bz2'\n",
    "        print(f'{filename}...')\n",
    "        with bz2.BZ2File(path + 'comments/' + filename, 'rb') as file:\n",
    "            for line in file:\n",
    "                if len(line) < 10:\n",
    "                    continue\n",
    "                res.append(json.loads(line))\n"
   ]
  },
  {
   "cell_type": "code",
   "execution_count": 5,
   "metadata": {},
   "outputs": [
    {
     "data": {
      "text/plain": [
       "{'parent_id': 't3_22554',\n",
       " 'edited': False,\n",
       " 'id': 'c2728',\n",
       " 'author': 'dfranke',\n",
       " 'author_flair_text': None,\n",
       " 'distinguished': None,\n",
       " 'retrieved_on': 1473821517,\n",
       " 'gilded': 0,\n",
       " 'subreddit_id': 't5_6',\n",
       " 'link_id': 't3_22554',\n",
       " 'stickied': False,\n",
       " 'body': \"I'm looking forward to the reaction from the ID crowd if this succeeds.\",\n",
       " 'controversiality': 0,\n",
       " 'score': 3,\n",
       " 'ups': 3,\n",
       " 'author_flair_css_class': None,\n",
       " 'created_utc': 1136091198,\n",
       " 'subreddit': 'reddit.com'}"
      ]
     },
     "execution_count": 5,
     "metadata": {},
     "output_type": "execute_result"
    }
   ],
   "source": [
    "res[10]"
   ]
  },
  {
   "cell_type": "code",
   "execution_count": 19,
   "metadata": {},
   "outputs": [
    {
     "data": {
      "text/html": [
       "<div>\n",
       "<style scoped>\n",
       "    .dataframe tbody tr th:only-of-type {\n",
       "        vertical-align: middle;\n",
       "    }\n",
       "\n",
       "    .dataframe tbody tr th {\n",
       "        vertical-align: top;\n",
       "    }\n",
       "\n",
       "    .dataframe thead th {\n",
       "        text-align: right;\n",
       "    }\n",
       "</style>\n",
       "<table border=\"1\" class=\"dataframe\">\n",
       "  <thead>\n",
       "    <tr style=\"text-align: right;\">\n",
       "      <th></th>\n",
       "      <th>user</th>\n",
       "      <th>count</th>\n",
       "    </tr>\n",
       "  </thead>\n",
       "  <tbody>\n",
       "    <tr>\n",
       "      <th>1</th>\n",
       "      <td>cartooncorpse</td>\n",
       "      <td>7736</td>\n",
       "    </tr>\n",
       "    <tr>\n",
       "      <th>2</th>\n",
       "      <td>redditcensoredme</td>\n",
       "      <td>7464</td>\n",
       "    </tr>\n",
       "    <tr>\n",
       "      <th>3</th>\n",
       "      <td>NoMoreNicksLeft</td>\n",
       "      <td>6746</td>\n",
       "    </tr>\n",
       "    <tr>\n",
       "      <th>4</th>\n",
       "      <td>bobcat</td>\n",
       "      <td>5912</td>\n",
       "    </tr>\n",
       "    <tr>\n",
       "      <th>5</th>\n",
       "      <td>newton_dave</td>\n",
       "      <td>5404</td>\n",
       "    </tr>\n",
       "  </tbody>\n",
       "</table>\n",
       "</div>"
      ],
      "text/plain": [
       "               user  count\n",
       "1     cartooncorpse   7736\n",
       "2  redditcensoredme   7464\n",
       "3   NoMoreNicksLeft   6746\n",
       "4            bobcat   5912\n",
       "5       newton_dave   5404"
      ]
     },
     "execution_count": 19,
     "metadata": {},
     "output_type": "execute_result"
    }
   ],
   "source": [
    "users = {}\n",
    "for r in res:\n",
    "    if r['author'] not in users:\n",
    "        users[r['author']] = 1\n",
    "    else:\n",
    "        users[r['author']] += 1\n",
    "\n",
    "user_df = pd.DataFrame(users.items(), columns=['user', 'count'])\n",
    "user_df = user_df.sort_values(by='count', ascending=False).reset_index(drop=True)\n",
    "\n",
    "# remove the '[deleted]' user\n",
    "user_df = user_df[user_df['user'] != '[deleted]']\n",
    "\n",
    "user_df.head()"
   ]
  },
  {
   "cell_type": "code",
   "execution_count": 32,
   "metadata": {},
   "outputs": [
    {
     "name": "stdout",
     "output_type": "stream",
     "text": [
      "The White House translation says \"large mouth bass\".\n",
      "http://www.whitehouse.gov/news/releases/2006/05/20060507-2.html\n",
      "\n",
      "Don't let that stop the bashing, guys. Look at what ELSE he said: \n",
      "\"I like to tell people, you're equally American whether you're a Jew, Muslim, Christian, or Atheist -- you're equally all Americans -- and that if we ever lose that, we begin to look like the Taliban.\"\n",
      "\n",
      "Goddamn atheist-lover!\n",
      "I can hear that playing through my desktop system from the next room, and I'm 46. My notebook doesn't make a peep, though.\n",
      "In other news, 50% of Americans have below average intelligence.\n",
      "No one executed in the US has ever been exonerated posthumously. Can you supply some names and prove me wrong?\n",
      "How about a couple of paragraphs so I don't have to sit through a long video?\n",
      "Thank you. I was indeed correct then. I see I got lots of downvotes for it.\n",
      "\n",
      "\n",
      "There is no video of the interview. Care to recant?\n",
      "http://en.wikipedia.org/wiki/Citigroup_Center\n",
      "This soldier is featured at length in \"Michael Moore Hates America\". Well worth seeing - especially if you agree with Moore.\n",
      "\n",
      "So, how many of you would like to be used in a movie without your permission? As an example of a war criminal? Let's not mince words, that what a soldier is who follows unlawful orders. If Moore is going to call Bush a war criminal, he's calling every soldier one too.\n",
      "Don't go cluttering up the thread with FACTS! ;)\n"
     ]
    }
   ],
   "source": [
    "uoi = 'bobcat'\n",
    "k = 10\n",
    "for r in res:\n",
    "    if r['author'] == uoi:\n",
    "        print(r['body'])\n",
    "        k -= 1\n",
    "    if k == 0:\n",
    "        break"
   ]
  },
  {
   "cell_type": "code",
   "execution_count": 33,
   "metadata": {},
   "outputs": [
    {
     "data": {
      "image/png": "[encoded data removed]",
      "text/plain": [
       "<Figure size 1000x600 with 1 Axes>"
      ]
     },
     "metadata": {},
     "output_type": "display_data"
    }
   ],
   "source": [
    "plt.figure(figsize=(10, 6))\n",
    "user_df['count'].hist(bins=50, log=True)\n",
    "plt.xlabel('Count')\n",
    "plt.ylabel('Frequency')\n",
    "plt.title('User counts (2006-07)')\n",
    "plt.show()"
   ]
  },
  {
   "cell_type": "code",
   "execution_count": 20,
   "metadata": {},
   "outputs": [
    {
     "data": {
      "text/html": [
       "<div>\n",
       "<style scoped>\n",
       "    .dataframe tbody tr th:only-of-type {\n",
       "        vertical-align: middle;\n",
       "    }\n",
       "\n",
       "    .dataframe tbody tr th {\n",
       "        vertical-align: top;\n",
       "    }\n",
       "\n",
       "    .dataframe thead th {\n",
       "        text-align: right;\n",
       "    }\n",
       "</style>\n",
       "<table border=\"1\" class=\"dataframe\">\n",
       "  <thead>\n",
       "    <tr style=\"text-align: right;\">\n",
       "      <th></th>\n",
       "      <th>author</th>\n",
       "      <th>created_utc</th>\n",
       "      <th>created_dt</th>\n",
       "    </tr>\n",
       "  </thead>\n",
       "  <tbody>\n",
       "    <tr>\n",
       "      <th>0</th>\n",
       "      <td>jh99</td>\n",
       "      <td>1136074029</td>\n",
       "      <td>2006-01-01 00:07:09</td>\n",
       "    </tr>\n",
       "    <tr>\n",
       "      <th>1</th>\n",
       "      <td>jpb</td>\n",
       "      <td>1136076410</td>\n",
       "      <td>2006-01-01 00:46:50</td>\n",
       "    </tr>\n",
       "    <tr>\n",
       "      <th>2</th>\n",
       "      <td>Pichu0102</td>\n",
       "      <td>1136078623</td>\n",
       "      <td>2006-01-01 01:23:43</td>\n",
       "    </tr>\n",
       "    <tr>\n",
       "      <th>3</th>\n",
       "      <td>libertas</td>\n",
       "      <td>1136079346</td>\n",
       "      <td>2006-01-01 01:35:46</td>\n",
       "    </tr>\n",
       "    <tr>\n",
       "      <th>4</th>\n",
       "      <td>mdmurray</td>\n",
       "      <td>1136081389</td>\n",
       "      <td>2006-01-01 02:09:49</td>\n",
       "    </tr>\n",
       "  </tbody>\n",
       "</table>\n",
       "</div>"
      ],
      "text/plain": [
       "      author  created_utc          created_dt\n",
       "0       jh99   1136074029 2006-01-01 00:07:09\n",
       "1        jpb   1136076410 2006-01-01 00:46:50\n",
       "2  Pichu0102   1136078623 2006-01-01 01:23:43\n",
       "3   libertas   1136079346 2006-01-01 01:35:46\n",
       "4   mdmurray   1136081389 2006-01-01 02:09:49"
      ]
     },
     "execution_count": 20,
     "metadata": {},
     "output_type": "execute_result"
    }
   ],
   "source": [
    "# grab created_utc and author from raw json\n",
    "created = []\n",
    "for r in res:\n",
    "    created.append((r['author'], r['created_utc']))\n",
    "\n",
    "# convert to dataframe\n",
    "created_df = pd.DataFrame(created, columns=['author', 'created_utc'])\n",
    "\n",
    "# convert created_utc to datetime\n",
    "created_df['created_utc'] = created_df['created_utc'].astype(int)\n",
    "created_df['created_dt'] = pd.to_datetime(created_df['created_utc'], unit='s')\n",
    "\n",
    "created_df.head()\n"
   ]
  },
  {
   "cell_type": "code",
   "execution_count": 23,
   "metadata": {},
   "outputs": [
    {
     "data": {
      "text/html": [
       "<div>\n",
       "<style scoped>\n",
       "    .dataframe tbody tr th:only-of-type {\n",
       "        vertical-align: middle;\n",
       "    }\n",
       "\n",
       "    .dataframe tbody tr th {\n",
       "        vertical-align: top;\n",
       "    }\n",
       "\n",
       "    .dataframe thead th {\n",
       "        text-align: right;\n",
       "    }\n",
       "</style>\n",
       "<table border=\"1\" class=\"dataframe\">\n",
       "  <thead>\n",
       "    <tr style=\"text-align: right;\">\n",
       "      <th></th>\n",
       "      <th>user</th>\n",
       "      <th>count</th>\n",
       "    </tr>\n",
       "  </thead>\n",
       "  <tbody>\n",
       "    <tr>\n",
       "      <th>5408</th>\n",
       "      <td>chh</td>\n",
       "      <td>50</td>\n",
       "    </tr>\n",
       "    <tr>\n",
       "      <th>5409</th>\n",
       "      <td>Joe091</td>\n",
       "      <td>50</td>\n",
       "    </tr>\n",
       "    <tr>\n",
       "      <th>5410</th>\n",
       "      <td>spockbaggins</td>\n",
       "      <td>50</td>\n",
       "    </tr>\n",
       "    <tr>\n",
       "      <th>5411</th>\n",
       "      <td>yuubi</td>\n",
       "      <td>50</td>\n",
       "    </tr>\n",
       "    <tr>\n",
       "      <th>5412</th>\n",
       "      <td>pqs</td>\n",
       "      <td>50</td>\n",
       "    </tr>\n",
       "  </tbody>\n",
       "</table>\n",
       "</div>"
      ],
      "text/plain": [
       "              user  count\n",
       "5408           chh     50\n",
       "5409        Joe091     50\n",
       "5410  spockbaggins     50\n",
       "5411         yuubi     50\n",
       "5412           pqs     50"
      ]
     },
     "execution_count": 23,
     "metadata": {},
     "output_type": "execute_result"
    }
   ],
   "source": [
    "user_df.query('count >= 40 and count <= 50').head()"
   ]
  },
  {
   "cell_type": "code",
   "execution_count": 26,
   "metadata": {},
   "outputs": [
    {
     "data": {
      "image/png": "[encoded data removed]",
      "text/plain": [
       "<Figure size 1000x700 with 3 Axes>"
      ]
     },
     "metadata": {},
     "output_type": "display_data"
    }
   ],
   "source": [
    "# pull all timestamps for a user and plot on a timeline\n",
    "users = ['libertas', 'Joe091', 'yuubi']\n",
    "\n",
    "fig, axs = plt.subplots(3,1, figsize=(10, 7), sharex=True)\n",
    "\n",
    "for ax, user in zip(axs, users):\n",
    "    u_df = created_df[created_df['author'] == user]\n",
    "    u_df = u_df.sort_values(by='created_dt').reset_index(drop=True)\n",
    "\n",
    "    ax.scatter(u_df['created_dt'], [0]*len(u_df['created_dt']), \n",
    "               s=40, c='b', alpha=0.5)\n",
    "    ax.set_yticks([])\n",
    "    ax.set_title(f'{user}')\n",
    "\n",
    "plt.tight_layout()\n",
    "plt.show()"
   ]
  },
  {
   "cell_type": "code",
   "execution_count": null,
   "metadata": {},
   "outputs": [],
   "source": []
  },
  {
   "cell_type": "markdown",
   "metadata": {},
   "source": [
    "# ZST files"
   ]
  },
  {
   "cell_type": "code",
   "execution_count": 4,
   "metadata": {},
   "outputs": [
    {
     "ename": "UnsupportedOperation",
     "evalue": "",
     "output_type": "error",
     "traceback": [
      "\u001b[0;31m---------------------------------------------------------------------------\u001b[0m",
      "\u001b[0;31mUnsupportedOperation\u001b[0m                      Traceback (most recent call last)",
      "Cell \u001b[0;32mIn[4], line 2\u001b[0m\n\u001b[1;32m      1\u001b[0m \u001b[38;5;28;01mwith\u001b[39;00m zstd\u001b[38;5;241m.\u001b[39mopen(os\u001b[38;5;241m.\u001b[39mpath\u001b[38;5;241m.\u001b[39mjoin(path, \u001b[38;5;124m'\u001b[39m\u001b[38;5;124mcomments/RC_2018-11.zst\u001b[39m\u001b[38;5;124m'\u001b[39m), \u001b[38;5;124m'\u001b[39m\u001b[38;5;124mrb\u001b[39m\u001b[38;5;124m'\u001b[39m) \u001b[38;5;28;01mas\u001b[39;00m file:\n\u001b[0;32m----> 2\u001b[0m \u001b[43m    \u001b[49m\u001b[38;5;28;43;01mfor\u001b[39;49;00m\u001b[43m \u001b[49m\u001b[43mline\u001b[49m\u001b[43m \u001b[49m\u001b[38;5;129;43;01min\u001b[39;49;00m\u001b[43m \u001b[49m\u001b[43mfile\u001b[49m\u001b[43m:\u001b[49m\n\u001b[1;32m      3\u001b[0m \u001b[43m        \u001b[49m\u001b[38;5;28;43mprint\u001b[39;49m\u001b[43m(\u001b[49m\u001b[43mline\u001b[49m\u001b[43m)\u001b[49m\n\u001b[1;32m      4\u001b[0m \u001b[43m        \u001b[49m\u001b[38;5;28;43;01mbreak\u001b[39;49;00m\n",
      "\u001b[0;31mUnsupportedOperation\u001b[0m: "
     ]
    }
   ],
   "source": [
    "with zstd.open(os.path.join(path, 'comments/RC_2018-11.zst'), 'rb') as file:\n",
    "    for line in file:\n",
    "        print(line)\n",
    "        break\n",
    "\n",
    "# with open(os.path.join(path, 'comments/RC_2018-11.zst'), 'rb') as file:\n",
    "#     dctx = zstd.ZstdDecompressor()\n",
    "#     with dctx.stream_reader(file) as reader:\n",
    "#         for line in reader:\n",
    "#             print(line.decode('utf-8'))\n",
    "#             break"
   ]
  },
  {
   "cell_type": "code",
   "execution_count": null,
   "metadata": {},
   "outputs": [],
   "source": []
  }
 ],
 "metadata": {
  "kernelspec": {
   "display_name": "Python 3",
   "language": "python",
   "name": "python3"
  },
  "language_info": {
   "codemirror_mode": {
    "name": "ipython",
    "version": 3
   },
   "file_extension": ".py",
   "mimetype": "text/x-python",
   "name": "python",
   "nbconvert_exporter": "python",
   "pygments_lexer": "ipython3",
   "version": "3.12.0"
  }
 },
 "nbformat": 4,
 "nbformat_minor": 2
}
