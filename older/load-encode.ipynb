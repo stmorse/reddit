{
 "cells": [
  {
   "cell_type": "code",
   "execution_count": 1,
   "metadata": {},
   "outputs": [
    {
     "name": "stderr",
     "output_type": "stream",
     "text": [
      "/sciclone/home/stmorse/.conda/envs/torch-tik-env/lib/python3.12/site-packages/sentence_transformers/cross_encoder/CrossEncoder.py:13: TqdmExperimentalWarning: Using `tqdm.autonotebook.tqdm` in notebook mode. Use `tqdm.tqdm` instead to force console mode (e.g. in jupyter console)\n",
      "  from tqdm.autonotebook import tqdm, trange\n"
     ]
    }
   ],
   "source": [
    "import json\n",
    "import bz2\n",
    "from joblib import load\n",
    "\n",
    "import torch\n",
    "from sentence_transformers import SentenceTransformer\n",
    "\n",
    "import matplotlib.pyplot as plt\n",
    "import numpy as np\n",
    "import pandas as pd\n",
    "\n",
    "from sklearn.manifold import TSNE\n",
    "from sklearn.cluster import KMeans"
   ]
  },
  {
   "cell_type": "code",
   "execution_count": 2,
   "metadata": {},
   "outputs": [
    {
     "data": {
      "text/plain": [
       "False"
      ]
     },
     "execution_count": 2,
     "metadata": {},
     "output_type": "execute_result"
    }
   ],
   "source": [
    "# test if CUDA enabled\n",
    "torch.cuda.is_available()"
   ]
  },
  {
   "cell_type": "code",
   "execution_count": 3,
   "metadata": {},
   "outputs": [],
   "source": [
    "path = '/sciclone/data10/twford/reddit/reddit/'"
   ]
  },
  {
   "cell_type": "code",
   "execution_count": 4,
   "metadata": {},
   "outputs": [
    {
     "name": "stdout",
     "output_type": "stream",
     "text": [
      "RC_2006-01.bz2...\n",
      "RC_2006-02.bz2...\n",
      "RC_2006-03.bz2...\n",
      "RC_2006-04.bz2...\n",
      "RC_2006-05.bz2...\n",
      "RC_2006-06.bz2...\n",
      "RC_2006-07.bz2...\n",
      "RC_2006-08.bz2...\n",
      "RC_2006-09.bz2...\n",
      "RC_2006-10.bz2...\n",
      "RC_2006-11.bz2...\n",
      "RC_2006-12.bz2...\n"
     ]
    }
   ],
   "source": [
    "# this will store all JSON objects\n",
    "res = []\n",
    "\n",
    "# yrs and dates to search\n",
    "# yrs = [2006, 2007]\n",
    "yrs = [2006]\n",
    "mos = ['01', '02', '03', '04', '05', '06', '07', '08', '09', '10', '11', '12']\n",
    "\n",
    "# loop through all years and months\n",
    "for yr in yrs:\n",
    "    for mo in mos:\n",
    "        filename = f'RC_{yr}-{mo}.bz2'\n",
    "        print(f'{filename}...')\n",
    "        with bz2.BZ2File(path + 'comments/' + filename, 'rb') as file:\n",
    "            for line in file:\n",
    "                if len(line) < 10:\n",
    "                    continue\n",
    "                res.append(json.loads(line))"
   ]
  },
  {
   "cell_type": "code",
   "execution_count": 6,
   "metadata": {},
   "outputs": [
    {
     "data": {
      "text/plain": [
       "{'author_flair_css_class': None,\n",
       " 'created_utc': 1167609532,\n",
       " 'score': 1,\n",
       " 'ups': 1,\n",
       " 'subreddit': 'reddit.com',\n",
       " 'link_id': 't3_wl3p',\n",
       " 'stickied': False,\n",
       " 'subreddit_id': 't5_6',\n",
       " 'controversiality': 0,\n",
       " 'body': 'Awsome strategy game!1',\n",
       " 'retrieved_on': 1473809765,\n",
       " 'distinguished': None,\n",
       " 'gilded': 0,\n",
       " 'id': 'cwl3q',\n",
       " 'parent_id': 't3_wl3p',\n",
       " 'edited': False,\n",
       " 'author_flair_text': None,\n",
       " 'author': 'teamphp'}"
      ]
     },
     "execution_count": 6,
     "metadata": {},
     "output_type": "execute_result"
    }
   ],
   "source": [
    "res[-1]"
   ]
  },
  {
   "cell_type": "code",
   "execution_count": 5,
   "metadata": {},
   "outputs": [
    {
     "name": "stdout",
     "output_type": "stream",
     "text": [
      "1947633 90843\n"
     ]
    }
   ],
   "source": [
    "# get comment content from each post, store in result\n",
    "comments = []\n",
    "\n",
    "# save user counts separately for convenience\n",
    "users = {}\n",
    "\n",
    "for r in res:\n",
    "    # save author counts\n",
    "    if r['author'] not in users:\n",
    "        users[r['author']] = 1\n",
    "    else:\n",
    "        users[r['author']] += 1\n",
    "\n",
    "    # save comment content\n",
    "    comments.append([\n",
    "        r['author'],\n",
    "        r['body'],\n",
    "        r['created_utc']\n",
    "    ])\n",
    "\n",
    "# convert to DataFrame\n",
    "user_df = pd.DataFrame(users.items(), columns=['user', 'count'])\n",
    "user_df = user_df.sort_values(by='count', ascending=False).reset_index(drop=True)\n",
    "\n",
    "# remove the '[deleted]' user\n",
    "user_df = user_df[user_df['user'] != '[deleted]']\n",
    "\n",
    "# convert comments to DataFrame\n",
    "comm_df = pd.DataFrame(comments, columns=['user', 'body', 'utc'])\n",
    "comm_df['utc'] = comm_df['utc'].astype(int)\n",
    "comm_df['date'] = pd.to_datetime(comm_df['utc'], unit='s')\n",
    "\n",
    "# remove deleted user comments\n",
    "comm_df = comm_df[comm_df['user'] != '[deleted]']\n",
    "\n",
    "print(len(comm_df), len(user_df))"
   ]
  },
  {
   "cell_type": "code",
   "execution_count": 6,
   "metadata": {},
   "outputs": [
    {
     "name": "stdout",
     "output_type": "stream",
     "text": [
      "1073744\n"
     ]
    }
   ],
   "source": [
    "# sample users\n",
    "user_trim = user_df.sample(50000, random_state=0)\n",
    "\n",
    "# keep only comments from these users\n",
    "comm_df_trim = comm_df[comm_df['user'].isin(user_trim['user'])]\n",
    "\n",
    "print(len(comm_df_trim))"
   ]
  },
  {
   "cell_type": "code",
   "execution_count": 7,
   "metadata": {},
   "outputs": [],
   "source": [
    "# model 'all-MiniLM-L6-v2' is small/fast\n",
    "# float16 is used to reduce memory usage as a speedup\n",
    "model = SentenceTransformer('all-MiniLM-L6-v2', \n",
    "                            device='cuda',\n",
    "                            model_kwargs={'torch_dtype': 'float16'})"
   ]
  },
  {
   "cell_type": "markdown",
   "metadata": {},
   "source": [
    "Anecdotally, 1M comments takes about 3-4 minutes"
   ]
  },
  {
   "cell_type": "code",
   "execution_count": 8,
   "metadata": {},
   "outputs": [
    {
     "data": {
      "application/vnd.jupyter.widget-view+json": {
       "model_id": "f4b879f33e2e4f95ab8740b3d3464a6d",
       "version_major": 2,
       "version_minor": 0
      },
      "text/plain": [
       "Batches:   0%|          | 0/33555 [00:00<?, ?it/s]"
      ]
     },
     "metadata": {},
     "output_type": "display_data"
    },
    {
     "name": "stdout",
     "output_type": "stream",
     "text": [
      "(1073744, 384)\n"
     ]
    }
   ],
   "source": [
    "embeddings = model.encode(comm_df_trim['body'].values, show_progress_bar=True)\n",
    "print(embeddings.shape)"
   ]
  },
  {
   "cell_type": "code",
   "execution_count": 11,
   "metadata": {},
   "outputs": [],
   "source": [
    "# embeddings is type numpy.ndarray\n",
    "# save embeddings to file\n",
    "with open('embeddings.npy', 'wb') as f:\n",
    "    np.save(f, embeddings, allow_pickle=False, fix_imports=False)"
   ]
  },
  {
   "cell_type": "markdown",
   "metadata": {},
   "source": [
    "## Load the cluster model from file"
   ]
  },
  {
   "cell_type": "code",
   "execution_count": 7,
   "metadata": {},
   "outputs": [],
   "source": [
    "# load clustering model\n",
    "clustering_model = load('clustering_model.joblib')"
   ]
  },
  {
   "cell_type": "code",
   "execution_count": 15,
   "metadata": {},
   "outputs": [
    {
     "name": "stdout",
     "output_type": "stream",
     "text": [
      "(15, 384)\n"
     ]
    }
   ],
   "source": [
    "cluster_centers = clustering_model.cluster_centers_\n",
    "print(cluster_centers.shape)"
   ]
  },
  {
   "cell_type": "code",
   "execution_count": 28,
   "metadata": {},
   "outputs": [
    {
     "name": "stdout",
     "output_type": "stream",
     "text": [
      "[ 972764  771087 1064783 1064782 1065592]\n"
     ]
    }
   ],
   "source": [
    "query_vector = cluster_centers[6]\n",
    "\n",
    "# get the top 5 closest points to the query vector\n",
    "top_k = 5\n",
    "distances = np.linalg.norm(embeddings - query_vector, axis=1)\n",
    "closest_points = np.argsort(distances)[:top_k]\n",
    "\n",
    "print(closest_points)"
   ]
  },
  {
   "cell_type": "code",
   "execution_count": 29,
   "metadata": {},
   "outputs": [
    {
     "data": {
      "text/html": [
       "<div>\n",
       "<style scoped>\n",
       "    .dataframe tbody tr th:only-of-type {\n",
       "        vertical-align: middle;\n",
       "    }\n",
       "\n",
       "    .dataframe tbody tr th {\n",
       "        vertical-align: top;\n",
       "    }\n",
       "\n",
       "    .dataframe thead th {\n",
       "        text-align: right;\n",
       "    }\n",
       "</style>\n",
       "<table border=\"1\" class=\"dataframe\">\n",
       "  <thead>\n",
       "    <tr style=\"text-align: right;\">\n",
       "      <th></th>\n",
       "      <th>user</th>\n",
       "      <th>body</th>\n",
       "    </tr>\n",
       "  </thead>\n",
       "  <tbody>\n",
       "    <tr>\n",
       "      <th>2620618</th>\n",
       "      <td>duus</td>\n",
       "      <td>ha!</td>\n",
       "    </tr>\n",
       "    <tr>\n",
       "      <th>2026419</th>\n",
       "      <td>fangolo</td>\n",
       "      <td>Ha!</td>\n",
       "    </tr>\n",
       "    <tr>\n",
       "      <th>2856696</th>\n",
       "      <td>ChrisMatthews</td>\n",
       "      <td>Ha!</td>\n",
       "    </tr>\n",
       "    <tr>\n",
       "      <th>2856695</th>\n",
       "      <td>ChrisMatthews</td>\n",
       "      <td>Ha!</td>\n",
       "    </tr>\n",
       "    <tr>\n",
       "      <th>2859075</th>\n",
       "      <td>ChrisMatthews</td>\n",
       "      <td>Ha!</td>\n",
       "    </tr>\n",
       "  </tbody>\n",
       "</table>\n",
       "</div>"
      ],
      "text/plain": [
       "                  user body\n",
       "2620618           duus  ha!\n",
       "2026419        fangolo  Ha!\n",
       "2856696  ChrisMatthews  Ha!\n",
       "2856695  ChrisMatthews  Ha!\n",
       "2859075  ChrisMatthews  Ha!"
      ]
     },
     "execution_count": 29,
     "metadata": {},
     "output_type": "execute_result"
    }
   ],
   "source": [
    "# get the sentences for the closest points\n",
    "comm_df_trim[['user', 'body']].iloc[closest_points]"
   ]
  },
  {
   "cell_type": "code",
   "execution_count": 30,
   "metadata": {},
   "outputs": [
    {
     "name": "stdout",
     "output_type": "stream",
     "text": [
      "ha!\n",
      "Ha!\n",
      "Ha!\n",
      "Ha!\n",
      "Ha!\n"
     ]
    }
   ],
   "source": [
    "for i in closest_points:\n",
    "    print(comm_df_trim['body'].iloc[i])"
   ]
  },
  {
   "cell_type": "code",
   "execution_count": 8,
   "metadata": {},
   "outputs": [
    {
     "name": "stdout",
     "output_type": "stream",
     "text": [
      "(1073744,)\n"
     ]
    }
   ],
   "source": [
    "cluster_assignments = clustering_model.labels_\n",
    "print(cluster_assignments.shape)"
   ]
  },
  {
   "cell_type": "code",
   "execution_count": 10,
   "metadata": {},
   "outputs": [
    {
     "data": {
      "text/plain": [
       "1073744"
      ]
     },
     "execution_count": 10,
     "metadata": {},
     "output_type": "execute_result"
    }
   ],
   "source": [
    "len(comm_df_trim)"
   ]
  },
  {
   "cell_type": "code",
   "execution_count": 14,
   "metadata": {},
   "outputs": [
    {
     "name": "stderr",
     "output_type": "stream",
     "text": [
      "/local/scr/stmorse/TMPDIR/ipykernel_170872/2767291540.py:2: SettingWithCopyWarning: \n",
      "A value is trying to be set on a copy of a slice from a DataFrame.\n",
      "Try using .loc[row_indexer,col_indexer] = value instead\n",
      "\n",
      "See the caveats in the documentation: https://pandas.pydata.org/pandas-docs/stable/user_guide/indexing.html#returning-a-view-versus-a-copy\n",
      "  comm_df_trim['cluster'] = cluster_assignments\n"
     ]
    },
    {
     "data": {
      "text/html": [
       "<div>\n",
       "<style scoped>\n",
       "    .dataframe tbody tr th:only-of-type {\n",
       "        vertical-align: middle;\n",
       "    }\n",
       "\n",
       "    .dataframe tbody tr th {\n",
       "        vertical-align: top;\n",
       "    }\n",
       "\n",
       "    .dataframe thead th {\n",
       "        text-align: right;\n",
       "    }\n",
       "</style>\n",
       "<table border=\"1\" class=\"dataframe\">\n",
       "  <thead>\n",
       "    <tr style=\"text-align: right;\">\n",
       "      <th>cluster</th>\n",
       "      <th>0</th>\n",
       "      <th>1</th>\n",
       "      <th>2</th>\n",
       "      <th>3</th>\n",
       "      <th>4</th>\n",
       "      <th>5</th>\n",
       "      <th>6</th>\n",
       "      <th>7</th>\n",
       "      <th>8</th>\n",
       "      <th>9</th>\n",
       "      <th>10</th>\n",
       "      <th>11</th>\n",
       "      <th>12</th>\n",
       "      <th>13</th>\n",
       "      <th>14</th>\n",
       "      <th>total</th>\n",
       "    </tr>\n",
       "    <tr>\n",
       "      <th>user</th>\n",
       "      <th></th>\n",
       "      <th></th>\n",
       "      <th></th>\n",
       "      <th></th>\n",
       "      <th></th>\n",
       "      <th></th>\n",
       "      <th></th>\n",
       "      <th></th>\n",
       "      <th></th>\n",
       "      <th></th>\n",
       "      <th></th>\n",
       "      <th></th>\n",
       "      <th></th>\n",
       "      <th></th>\n",
       "      <th></th>\n",
       "      <th></th>\n",
       "    </tr>\n",
       "  </thead>\n",
       "  <tbody>\n",
       "    <tr>\n",
       "      <th>--k</th>\n",
       "      <td>0.000000</td>\n",
       "      <td>0.0</td>\n",
       "      <td>0.000000</td>\n",
       "      <td>0.000000</td>\n",
       "      <td>0.000000</td>\n",
       "      <td>1.000000</td>\n",
       "      <td>0.000000</td>\n",
       "      <td>0.000000</td>\n",
       "      <td>0.000000</td>\n",
       "      <td>0.000000</td>\n",
       "      <td>0.000000</td>\n",
       "      <td>0.00000</td>\n",
       "      <td>0.00000</td>\n",
       "      <td>0.000000</td>\n",
       "      <td>0.000000</td>\n",
       "      <td>1</td>\n",
       "    </tr>\n",
       "    <tr>\n",
       "      <th>-Farid</th>\n",
       "      <td>0.000000</td>\n",
       "      <td>0.0</td>\n",
       "      <td>0.000000</td>\n",
       "      <td>0.000000</td>\n",
       "      <td>0.000000</td>\n",
       "      <td>0.000000</td>\n",
       "      <td>0.000000</td>\n",
       "      <td>0.000000</td>\n",
       "      <td>0.000000</td>\n",
       "      <td>0.000000</td>\n",
       "      <td>0.000000</td>\n",
       "      <td>0.00000</td>\n",
       "      <td>1.00000</td>\n",
       "      <td>0.000000</td>\n",
       "      <td>0.000000</td>\n",
       "      <td>1</td>\n",
       "    </tr>\n",
       "    <tr>\n",
       "      <th>-J-</th>\n",
       "      <td>0.251397</td>\n",
       "      <td>0.0</td>\n",
       "      <td>0.106145</td>\n",
       "      <td>0.011173</td>\n",
       "      <td>0.134078</td>\n",
       "      <td>0.022346</td>\n",
       "      <td>0.083799</td>\n",
       "      <td>0.000000</td>\n",
       "      <td>0.027933</td>\n",
       "      <td>0.033520</td>\n",
       "      <td>0.005587</td>\n",
       "      <td>0.03352</td>\n",
       "      <td>0.01676</td>\n",
       "      <td>0.212291</td>\n",
       "      <td>0.061453</td>\n",
       "      <td>179</td>\n",
       "    </tr>\n",
       "    <tr>\n",
       "      <th>-Sflynn-</th>\n",
       "      <td>0.000000</td>\n",
       "      <td>0.0</td>\n",
       "      <td>0.000000</td>\n",
       "      <td>0.000000</td>\n",
       "      <td>0.000000</td>\n",
       "      <td>0.000000</td>\n",
       "      <td>1.000000</td>\n",
       "      <td>0.000000</td>\n",
       "      <td>0.000000</td>\n",
       "      <td>0.000000</td>\n",
       "      <td>0.000000</td>\n",
       "      <td>0.00000</td>\n",
       "      <td>0.00000</td>\n",
       "      <td>0.000000</td>\n",
       "      <td>0.000000</td>\n",
       "      <td>1</td>\n",
       "    </tr>\n",
       "    <tr>\n",
       "      <th>-Yawn-</th>\n",
       "      <td>0.000000</td>\n",
       "      <td>0.0</td>\n",
       "      <td>0.000000</td>\n",
       "      <td>0.166667</td>\n",
       "      <td>0.000000</td>\n",
       "      <td>0.000000</td>\n",
       "      <td>0.333333</td>\n",
       "      <td>0.166667</td>\n",
       "      <td>0.000000</td>\n",
       "      <td>0.083333</td>\n",
       "      <td>0.000000</td>\n",
       "      <td>0.25000</td>\n",
       "      <td>0.00000</td>\n",
       "      <td>0.000000</td>\n",
       "      <td>0.000000</td>\n",
       "      <td>12</td>\n",
       "    </tr>\n",
       "  </tbody>\n",
       "</table>\n",
       "</div>"
      ],
      "text/plain": [
       "cluster          0    1         2         3         4         5         6  \\\n",
       "user                                                                        \n",
       "--k       0.000000  0.0  0.000000  0.000000  0.000000  1.000000  0.000000   \n",
       "-Farid    0.000000  0.0  0.000000  0.000000  0.000000  0.000000  0.000000   \n",
       "-J-       0.251397  0.0  0.106145  0.011173  0.134078  0.022346  0.083799   \n",
       "-Sflynn-  0.000000  0.0  0.000000  0.000000  0.000000  0.000000  1.000000   \n",
       "-Yawn-    0.000000  0.0  0.000000  0.166667  0.000000  0.000000  0.333333   \n",
       "\n",
       "cluster          7         8         9        10       11       12        13  \\\n",
       "user                                                                           \n",
       "--k       0.000000  0.000000  0.000000  0.000000  0.00000  0.00000  0.000000   \n",
       "-Farid    0.000000  0.000000  0.000000  0.000000  0.00000  1.00000  0.000000   \n",
       "-J-       0.000000  0.027933  0.033520  0.005587  0.03352  0.01676  0.212291   \n",
       "-Sflynn-  0.000000  0.000000  0.000000  0.000000  0.00000  0.00000  0.000000   \n",
       "-Yawn-    0.166667  0.000000  0.083333  0.000000  0.25000  0.00000  0.000000   \n",
       "\n",
       "cluster         14  total  \n",
       "user                       \n",
       "--k       0.000000      1  \n",
       "-Farid    0.000000      1  \n",
       "-J-       0.061453    179  \n",
       "-Sflynn-  0.000000      1  \n",
       "-Yawn-    0.000000     12  "
      ]
     },
     "execution_count": 14,
     "metadata": {},
     "output_type": "execute_result"
    }
   ],
   "source": [
    "# make cluster label a column\n",
    "comm_df_trim['cluster'] = cluster_assignments\n",
    "\n",
    "# create a DataFrame of cluster counts for each user\n",
    "user_clusters = comm_df_trim.groupby(['user', 'cluster']).size().unstack(fill_value=0)\n",
    "\n",
    "# add a column with total count of comments for each user\n",
    "user_clusters['total'] = user_clusters.sum(axis=1)\n",
    "\n",
    "# normalize each cluster count by the total count\n",
    "for i in range(15):\n",
    "    user_clusters[i] = user_clusters[i] / user_clusters['total']\n",
    "\n",
    "user_clusters.head()"
   ]
  },
  {
   "cell_type": "code",
   "execution_count": 38,
   "metadata": {},
   "outputs": [
    {
     "data": {
      "image/png": "[encoded data removed]",
      "text/plain": [
       "<Figure size 800x500 with 1 Axes>"
      ]
     },
     "metadata": {},
     "output_type": "display_data"
    }
   ],
   "source": [
    "# cluster of interest\n",
    "k = 6\n",
    "\n",
    "# get the users with more than 50 total, and a non-zero count in cluster k\n",
    "# tdf = user_clusters[user_clusters[k] > 0]\n",
    "tdf = user_clusters[user_clusters[k] > 0]\n",
    "tdf = tdf[tdf['total'] > 50]\n",
    "\n",
    "# just keep column k\n",
    "tdf = tdf[[k]]\n",
    "\n",
    "# plot the distribution\n",
    "fig, ax = plt.subplots(1,1, figsize=(8, 5))\n",
    "ax.hist(tdf[k], bins=50, density=True, alpha=0.75)\n",
    "ax.set_xlabel('Fraction of comments in cluster')\n",
    "ax.set_title(f'Cluster {k}')\n",
    "plt.show()"
   ]
  },
  {
   "cell_type": "code",
   "execution_count": 47,
   "metadata": {},
   "outputs": [
    {
     "name": "stderr",
     "output_type": "stream",
     "text": [
      "/local/scr/stmorse/TMPDIR/ipykernel_170872/3039769015.py:5: SettingWithCopyWarning: \n",
      "A value is trying to be set on a copy of a slice from a DataFrame.\n",
      "Try using .loc[row_indexer,col_indexer] = value instead\n",
      "\n",
      "See the caveats in the documentation: https://pandas.pydata.org/pandas-docs/stable/user_guide/indexing.html#returning-a-view-versus-a-copy\n",
      "  tdf['non_zero'] = (tdf > 0.1).sum(axis=1)\n"
     ]
    },
    {
     "data": {
      "image/png": "[encoded data removed]",
      "text/plain": [
       "<Figure size 800x500 with 1 Axes>"
      ]
     },
     "metadata": {},
     "output_type": "display_data"
    }
   ],
   "source": [
    "# get users with more than 50 comments\n",
    "tdf = user_clusters[user_clusters['total'] > 50]\n",
    "\n",
    "# create column with count of clusters with non-zero count\n",
    "tdf['non_zero'] = (tdf > 0.1).sum(axis=1)\n",
    "\n",
    "max_count = tdf['non_zero'].max()\n",
    "\n",
    "tdf.head()\n",
    "\n",
    "fig, ax = plt.subplots(1,1, figsize=(8, 5))\n",
    "\n",
    "# plot the distribution of counts in the non-zero column\n",
    "ax.hist(tdf['non_zero'], bins=max_count-1, color='green', ec='k', lw=1, density=True, alpha=0.75)\n",
    "\n",
    "ax.set_xlabel('Cluster membership')\n",
    "# ax.set_title(f'Cluster {k}')\n",
    "plt.show()"
   ]
  }
 ],
 "metadata": {
  "kernelspec": {
   "display_name": "Python 3",
   "language": "python",
   "name": "python3"
  },
  "language_info": {
   "codemirror_mode": {
    "name": "ipython",
    "version": 3
   },
   "file_extension": ".py",
   "mimetype": "text/x-python",
   "name": "python",
   "nbconvert_exporter": "python",
   "pygments_lexer": "ipython3",
   "version": "3.12.0"
  }
 },
 "nbformat": 4,
 "nbformat_minor": 2
}
