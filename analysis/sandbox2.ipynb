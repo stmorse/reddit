{
 "cells": [
  {
   "cell_type": "markdown",
   "metadata": {},
   "source": [
    "# Topic dynamics (try 1)"
   ]
  },
  {
   "cell_type": "code",
   "execution_count": 1,
   "metadata": {},
   "outputs": [],
   "source": [
    "import time\n",
    "import bz2\n",
    "import json\n",
    "import pickle\n",
    "import gc\n",
    "\n",
    "import matplotlib.pyplot as plt\n",
    "import pandas as pd\n",
    "import numpy as np\n",
    "\n",
    "from sklearn.manifold import TSNE\n",
    "from sklearn.decomposition import PCA\n",
    "from sklearn.cluster import HDBSCAN, Birch, AgglomerativeClustering\n",
    "from sklearn.feature_extraction.text import CountVectorizer, TfidfVectorizer, TfidfTransformer\n",
    "\n",
    "import utils"
   ]
  },
  {
   "cell_type": "code",
   "execution_count": 2,
   "metadata": {},
   "outputs": [],
   "source": [
    "%load_ext autoreload\n",
    "%autoreload 2"
   ]
  },
  {
   "cell_type": "code",
   "execution_count": 3,
   "metadata": {},
   "outputs": [],
   "source": [
    "DATA_PATH = '/sciclone/data10/twford/reddit/reddit/comments/'\n",
    "BASE_PATH = '/sciclone/geograd/stmorse/reddit/'"
   ]
  },
  {
   "cell_type": "code",
   "execution_count": null,
   "metadata": {},
   "outputs": [],
   "source": [
    "\"\"\"\n",
    "COMPUTE KEYWORDS by cluster by year\n",
    "OUTPUT: corpi {cluster #: {corpus, keywords}}\n",
    "\n",
    "COMPUTE CLUSTER MEMBERSHIP for topic\n",
    "OUTPUT: membership {keyword: {year: {clusters, amount}}}\n",
    "\n",
    "CHOOSE TOPIC CLUSTER SEQUENCES\n",
    "compare membership against keywords\n",
    "manually choose sequence for each topic\n",
    "OUTPUT: {topic_word: [cluster seq], ...}\n",
    "\n",
    "CONCAT AND DIM-REDUCE top comments and centroids\n",
    "[\n",
    "    [0-k] top comments for topic 0, cluster 2007\n",
    "    [k-N] top comments for topic 0, cluster 2011\n",
    "    ...\n",
    "    []\n",
    "]\n",
    "\n",
    "VIZ\n",
    "\"\"\""
   ]
  },
  {
   "cell_type": "markdown",
   "metadata": {},
   "source": [
    "### Compute `corpi` (top samples, keywords, by year)"
   ]
  },
  {
   "cell_type": "code",
   "execution_count": 8,
   "metadata": {},
   "outputs": [
    {
     "name": "stdout",
     "output_type": "stream",
     "text": [
      "Loading year  2007\n",
      "Load embeddings...\n",
      "Build corpus...\n",
      "Computing tf-idf...\n",
      "Loading year  2008\n",
      "Load embeddings...\n",
      "Build corpus...\n",
      "Computing tf-idf...\n",
      "Loading year  2009\n",
      "Load embeddings...\n",
      "Build corpus...\n",
      "Computing tf-idf...\n",
      "Loading year  2010\n",
      "Load embeddings...\n",
      "Build corpus...\n",
      "Computing tf-idf...\n",
      "Loading year  2011\n",
      "Load embeddings...\n",
      "Build corpus...\n",
      "Computing tf-idf...\n"
     ]
    }
   ],
   "source": [
    "# number of embeddings/sentences closest to centroid\n",
    "# more allows a better tf-idf estimate of keywords\n",
    "top_k = 100\n",
    "\n",
    "years = [2007, 2008, 2009, 2010, 2011]\n",
    "# years = [2007]\n",
    "\n",
    "# just picking from one month to keep time down\n",
    "month = '03'\n",
    "\n",
    "# main output - will hold {year: {cluster: {corpus_sample, keywords}...}...}\n",
    "corpi = {}\n",
    "\n",
    "for year in years:\n",
    "    print('Loading year ', year)\n",
    "\n",
    "    # load cluster centers\n",
    "    model_cc = utils.load_cc(f'mbkm_40_{year}_td2_cc', base_path=BASE_PATH+'td2/')\n",
    "    num_clusters = model_cc.shape[0]\n",
    "\n",
    "    # load embeddings\n",
    "    print('Load embeddings...')\n",
    "    embeddings = utils.load_npz(BASE_PATH, year, month, 'embeddings')\n",
    "\n",
    "    # get index of closest to centroid\n",
    "    closest_idx = np.zeros((num_clusters, top_k))\n",
    "    for i in range(num_clusters):\n",
    "        closest_idx[i,:] = utils.get_closest_vectors(\n",
    "            model_cc[i], embeddings, top_k=top_k)\n",
    "\n",
    "    # build corpus\n",
    "    # this will hold sentences vic centroid (row=cluster, entry=concat'd sentences)\n",
    "    print('Build corpus...')\n",
    "    corpus = ['' for _ in range(num_clusters)]\n",
    "    sentences = utils.load_sentences_bz2(DATA_PATH, year, month)\n",
    "    for i in range(num_clusters):\n",
    "        corpus[i] += ' --- '.join([sentences[int(j)] for j in closest_idx[i,:]])\n",
    "\n",
    "    print('Computing tf-idf...')\n",
    "    vectorizer = TfidfVectorizer(\n",
    "        input='content',\n",
    "        max_df=0.3,\n",
    "        # max_features=100,  # this seems to get rid of weird/rare words\n",
    "        use_idf=True,\n",
    "        smooth_idf=True\n",
    "    )\n",
    "\n",
    "    X = vectorizer.fit_transform(corpus)\n",
    "    \n",
    "    keywords = []\n",
    "    for i in range(num_clusters):\n",
    "        max_idx = np.argsort(X[i,:].toarray().flatten())[::-1][:5]\n",
    "        keyword = vectorizer.get_feature_names_out()[max_idx]\n",
    "        keywords.append(keyword)\n",
    "\n",
    "    corpi[year] = {\n",
    "        i: {\n",
    "            'corpus': corpus[i],\n",
    "            'keywords': keywords[i]\n",
    "        } for i in range(num_clusters)\n",
    "    }"
   ]
  },
  {
   "cell_type": "code",
   "execution_count": 9,
   "metadata": {},
   "outputs": [],
   "source": [
    "with open('/sciclone/geograd/stmorse/reddit/td2/corpi.pkl', 'wb') as f:\n",
    "    pickle.dump(corpi, f)"
   ]
  },
  {
   "cell_type": "code",
   "execution_count": 14,
   "metadata": {},
   "outputs": [
    {
     "name": "stdout",
     "output_type": "stream",
     "text": [
      "2007\n",
      "0:  ['ron' 'paul' 'republican' 'candidate' 'gop']\n",
      "1:  ['customers' 'companies' 'marketing' 'profits' 'stores']\n",
      "2:  ['firefox' 'browser' 'linkjacked' 'mozilla' 'graphic']\n",
      "3:  ['parents' 'child' 'abortion' 'sex' 'birth']\n",
      "4:  ['lisp' 'language' 'haskell' 'python' 'languages']\n",
      "5:  ['hilarious' 'funniest' 'amused' 'laughing' 'laughed']\n",
      "6:  ['hello' 'hola' 'meh' 'hehe' 'nothng']\n",
      "7:  ['movie' 'documentary' 'borat' 'videos' 'clip']\n",
      "8:  ['himself' 'interview' 'vehicles' 'nut' 'ballmer']\n",
      "9:  ['police' 'cops' 'crime' 'gun' 'legal']\n",
      "10:  ['racism' 'racist' 'white' 'black' 'iq']\n",
      "11:  ['religion' 'religious' 'atheist' 'christianity' 'atheism']\n",
      "12:  ['freedom' 'libertarian' 'citizens' 'capitalism' 'capitalist']\n",
      "13:  ['facts' 'bias' 'scientific' 'warming' 'scientists']\n",
      "14:  ['11' 'media' 'conspiracy' 'fox' 'ap']\n",
      "15:  ['apple' 'price' 'linux' 'os' 'hardware']\n",
      "16:  ['jpg' 'image' 'photo' 'artist' 'images']\n",
      "17:  ['warming' 'global' 'climate' 'carbon' 'gore']\n",
      "18:  ['smoke' 'drink' 'cocaine' 'nitrous' 'wine']\n",
      "19:  ['linux' 'emacs' 'windows' 'lisp' 'os']\n",
      "20:  ['bike' 'walk' 'road' 'traffic' 'transportation']\n",
      "21:  ['israel' 'israeli' 'iran' 'israelis' 'lebanon']\n",
      "22:  ['spelling' 'pedantic' 'spell' 'grammar' 'sentence']\n",
      "23:  ['tax' 'trillion' 'inflation' 'debt' 'economy']\n",
      "24:  ['wealth' 'charity' 'fortune' 'fortunes' 'stock']\n",
      "25:  ['thank' 'awesome' 'overdue' 'fascinating' 'posting']\n",
      "26:  ['ha' 'hahaha' 'haha' 'lol' 'dammit']\n",
      "27:  ['europe' 'canada' 'delusional' 'citizens' 'canadians']\n",
      "28:  ['riaa' 'drm' 'itunes' 'music' 'software']\n",
      "29:  ['health' 'healthcare' 'insurance' 'medical' 'universal']\n",
      "30:  ['food' 'eat' 'corn' 'meat' 'eating']\n",
      "31:  ['iraq' 'invasion' 'military' 'iraqis' 'saddam']\n",
      "32:  ['karma' 'submissions' 'posts' 'blogs' 'stories']\n",
      "33:  ['women' 'men' 'sex' 'sexual' 'woman']\n",
      "34:  ['alan' 'writer' 'insightful' 'ripped' 'novel']\n",
      "35:  ['oil' 'peak' 'production' 'energy' 'coal']\n",
      "36:  ['programming' 'programmer' 'programmers' 'cs' 'language']\n",
      "37:  ['impeachment' 'congress' 'president' 'impeach' 'clinton']\n",
      "38:  ['text' 'firefox' 'click' 'addons' 'css']\n",
      "39:  ['spam' 'ads' 'sites' 'digg' 'users']\n",
      "2008\n",
      "0:  ['code' 'markdown' 'codepad' 'programming' 'projects']\n",
      "1:  ['programming' 'language' 'languages' 'haskell' 'programmers']\n",
      "2:  ['ha' 'lol' 'laugh' 'hahaha' 'laughed']\n",
      "3:  ['woman' 'husband' 'campaign' 'obama' 'politician']\n",
      "4:  ['obama' 'voters' 'voting' 'hillary' 'clinton']\n",
      "5:  ['kill' 'animal' 'animals' 'beasts' 'bastards']\n",
      "6:  ['image' 'jpg' 'picture' 'photo' 'shackspace']\n",
      "7:  ['documentary' 'alex' 'jones' 'spam' 'website']\n",
      "8:  ['campaign' 'supporters' 'republican' 'candidate' 'voting']\n",
      "9:  ['eat' 'tastes' 'bacon' 'food' 'delicious']\n",
      "10:  ['americans' 'invade' 'freedom' 'iraq' 'democracy']\n",
      "11:  ['fox' 'media' 'cnn' 'cia' 'msnbc']\n",
      "12:  ['drive' 'road' 'cars' 'traffic' 'bike']\n",
      "13:  ['english' 'spelling' 'apostrophes' 'spelled' 'apostrophe']\n",
      "14:  ['linux' 'games' 'os' 'vista' 'windows']\n",
      "15:  ['rights' 'law' 'amendment' 'laws' 'gun']\n",
      "16:  ['dollar' 'dollars' '000' 'afford' 'cash']\n",
      "17:  ['women' 'porn' 'nsfw' 'naked' 'girl']\n",
      "18:  ['taxes' 'tax' 'welfare' 'banks' 'fed']\n",
      "19:  ['obama' 'position' 'speech' 'politics' 'bush']\n",
      "20:  ['music' 'song' 'songs' 'album' 'pink']\n",
      "21:  ['link' 'headline' 'facts' 'credible' 'written']\n",
      "22:  ['politics' 'subreddit' 'downmodded' 'putting' 'sub']\n",
      "23:  ['mccain' 'obama' 'clinton' 'john' 'republican']\n",
      "24:  ['insults' 'argument' 'statement' 'calling' 'insulting']\n",
      "25:  ['oil' 'energy' 'prices' 'economy' 'cost']\n",
      "26:  ['author' 'written' 'writing' 'books' 'amazon']\n",
      "27:  ['fixed' 'url' 'browser' 'link' 'bug']\n",
      "28:  ['sigh' 'excerpt' 'exciting' 'excitement' 'excited']\n",
      "29:  ['linux' 'microsoft' 'software' 'windows' 'java']\n",
      "30:  ['capitalism' 'communism' 'nations' 'society' 'poverty']\n",
      "31:  ['medical' 'health' 'children' 'medicine' 'drugs']\n",
      "32:  ['company' 'companies' 'business' 'software' 'market']\n",
      "33:  ['plan' 'advice' 'apartment' 'drink' 'impromptu']\n",
      "34:  ['downmodded' 'downmod' 'downvoted' 'upmod' 'voted']\n",
      "35:  ['yay' 'doh' 'woot' 'nope' 'win']\n",
      "36:  ['police' 'cops' 'crime' 'officers' 'shoot']\n",
      "37:  ['video' 'watched' 'youtube' 'movie' 'watching']\n",
      "38:  ['religion' 'religious' 'atheism' 'atheists' 'christians']\n",
      "39:  ['scientology' 'religion' 'religious' 'universe' 'evidence']\n",
      "2009\n",
      "0:  ['government' 'capitalism' 'market' 'libertarian' 'socialism']\n",
      "1:  ['comedian' 'limbaugh' 'rush' 'stewart' 'political']\n",
      "2:  ['jesus' 'comic' 'jpg' 'art' 'statue']\n",
      "3:  ['programming' 'java' 'python' 'languages' 'language']\n",
      "4:  ['cat' 'dog' 'cute' 'kitty' 'adorable']\n",
      "5:  ['grammar' 'writing' 'written' 'encyclopediadramatica' 'wrote']\n",
      "6:  ['headline' 'woman' 'coulter' 'reuters' '03']\n",
      "7:  ['jews' 'muslims' 'israelis' 'israel' 'ethnic']\n",
      "8:  ['delicious' 'tasty' 'tastes' 'food' 'chicken']\n",
      "9:  ['israel' 'israeli' 'palestinians' 'palestinian' 'jews']\n",
      "10:  ['ah' 'explanation' 'missed' 'wondered' 'technology']\n",
      "11:  ['مجانيه' 'faaahhhhkkk' 'ezimagecatalogue' 'eyessssss' 'eyes']\n",
      "12:  ['billy' 'jackson' 'bill' 'ha' 'captain']\n",
      "13:  ['law' 'cops' 'police' 'illegal' 'laws']\n",
      "14:  ['lonely' 'envy' 'midnighthour' 'smugmug' 'hour']\n",
      "15:  ['movie' 'music' 'song' 'film' 'soundtrack']\n",
      "16:  ['economy' 'prices' 'economic' 'energy' 'spending']\n",
      "17:  ['reply' 'discussion' 'thread' 'trolling' 'irrelevant']\n",
      "18:  ['animals' 'animal' 'zoo' 'predators' 'meerkats']\n",
      "19:  ['car' 'laugh' 'funniest' 'laughed' 'ha']\n",
      "20:  ['obama' 'policies' 'leader' 'administration' 'dccc']\n",
      "21:  ['children' 'child' 'parents' 'parent' 'babies']\n",
      "22:  ['linux' 'utf' 'europass' 'php' 'index']\n",
      "23:  ['atheism' 'atheist' 'religion' 'subreddit' 'religious']\n",
      "24:  ['language' 'programming' 'syntax' 'code' 'programmer']\n",
      "25:  ['afghanistan' 'iraq' 'military' 'weapons' 'civilians']\n",
      "26:  ['riaa' 'content' 'service' 'download' 'music']\n",
      "27:  ['windows' 'os' 'pc' 'hardware' 'apple']\n",
      "28:  ['insurance' 'health' 'hospital' 'doctor' 'afford']\n",
      "29:  ['advice' 'lis' 'pete' 'car' 'slam']\n",
      "30:  ['played' 'games' 'graphics' 'enjoyed' 'series']\n",
      "31:  ['huh' 'duh' 'lame' 'woah' 'eh']\n",
      "32:  ['yay' 'woot' 'outstanding' 'ftw' 'woosh']\n",
      "33:  ['women' 'male' 'woman' 'men' 'female']\n",
      "34:  ['picture' 'photo' 'photos' 'flickr' 'image']\n",
      "35:  ['science' 'scientific' 'scientists' 'theory' 'universe']\n",
      "36:  ['firefox' 'browser' 'chrome' 'click' 'addon']\n",
      "37:  ['site' 'spam' 'digg' 'links' 'posts']\n",
      "38:  ['legal' 'theft' 'receipt' 'fraud' 'license']\n",
      "39:  ['banks' 'government' 'taxpayers' 'companies' 'debt']\n",
      "2010\n",
      "0:  ['libertarian' 'government' 'libertarians' 'libertarianism' 'freedom']\n",
      "1:  ['beck' 'attended' 'audience' 'radio' 'stewart']\n",
      "2:  ['reference' 'art' 'picture' 'uncanny' 'jpg']\n",
      "3:  ['programming' 'python' 'haskell' 'java' 'web']\n",
      "4:  ['cat' 'kitty' 'dog' 'crunchbird' 'pet']\n",
      "5:  ['words' 'text' 'author' 'writer' 'written']\n",
      "6:  ['journalism' 'foxnews' 'source' 'sources' 'headline']\n",
      "7:  ['racist' 'culture' 'muslim' 'cultures' 'country']\n",
      "8:  ['delicious' 'tasty' 'eat' 'cheese' 'foods']\n",
      "9:  ['israel' 'israeli' 'jews' 'palestinians' 'arabs']\n",
      "10:  ['game' 'engineer' 'explanation' 'speed' 'handicap']\n",
      "11:  ['ಠ_ಠ' 'expensive' 'expertise' 'expert' 'experiments']\n",
      "12:  ['steve' 'jobs' 'jack' 'robert' 'michael']\n",
      "13:  ['cops' 'police' 'law' 'enforcement' 'cop']\n",
      "14:  ['met' 'hang' 'drunk' 'lonely' 'bar']\n",
      "15:  ['song' 'movie' 'soundtrack' 'music' 'film']\n",
      "16:  ['prices' 'cost' 'scarcity' 'economy' 'oil']\n",
      "17:  ['insults' 'discussion' 'downvoted' 'reply' 'karma']\n",
      "18:  ['animals' 'animal' 'critters' 'kill' 'legs']\n",
      "19:  ['door' 'car' 'bus' 'looked' 'turned']\n",
      "20:  ['obama' 'republicans' 'bill' 'republican' 'barack']\n",
      "21:  ['children' 'parents' 'kids' 'child' 'baby']\n",
      "22:  ['check' 'dealextreme' 'php' 'amazon' 'sku']\n",
      "23:  ['atheism' 'religion' 'atheist' 'christian' 'atheists']\n",
      "24:  ['typing' 'math' 'write' 'notation' 'syntax']\n",
      "25:  ['military' 'war' 'civilians' 'bomb' 'oil']\n",
      "26:  ['bandwidth' 'content' 'companies' 'cable' 'download']\n",
      "27:  ['pc' 'hardware' 'os' 'mac' 'apple']\n",
      "28:  ['commute' 'distance' 'city' 'san' 'trip']\n",
      "29:  ['advice' 'pickup' 'smoke' 'ego' 'situation']\n",
      "30:  ['game' 'games' 'played' 'series' 'play']\n",
      "31:  ['woah' 'duh' 'eh' 'lols' 'um']\n",
      "32:  ['ftw' 'haha' 'awsome' 'outstanding' 'woof']\n",
      "33:  ['women' 'girl' 'men' 'sex' 'female']\n",
      "34:  ['flickr' 'picture' 'photos' 'pic' 'image']\n",
      "35:  ['science' 'scientific' 'universe' 'scientist' 'theory']\n",
      "36:  ['browser' 'chrome' 'firefox' 'fix' 'page']\n",
      "37:  ['site' 'page' 'posts' 'digg' 'links']\n",
      "38:  ['receipt' 'cash' 'paid' 'fraud' 'card']\n",
      "39:  ['government' 'tax' 'taxes' 'debt' 'bill']\n",
      "2011\n",
      "0:  ['libertarian' 'libertarians' 'rights' 'government' 'political']\n",
      "1:  ['himself' 'character' 'interview' 'interviews' 'listen']\n",
      "2:  ['comic' 'movie' 'reference' 'homage' 'art']\n",
      "3:  ['programming' 'learning' 'tools' 'java' 'experience']\n",
      "4:  ['kitty' 'cute' 'cat' 'fluffy' 'baby']\n",
      "5:  ['text' 'writing' 'written' 'letter' 'churchill']\n",
      "6:  ['article' 'headline' 'report' 'fox' 'npr']\n",
      "7:  ['racist' 'cultural' 'foreigners' 'culture' 'country']\n",
      "8:  ['delicious' 'tasty' 'eat' 'eating' 'syrup']\n",
      "9:  ['israel' 'jews' 'israeli' 'palestinians' 'israelis']\n",
      "10:  ['damage' 'range' 'opponent' 'hit' 'faster']\n",
      "11:  ['ಠ_ಠ' 'exploitive' 'exported' 'exponentially' 'explosives']\n",
      "12:  ['statham' 'jason' 'mike' 'jimmy' 'jack']\n",
      "13:  ['police' 'cops' 'law' 'cop' 'crime']\n",
      "14:  ['hang' 'drunk' 'school' 'spring' 'beer']\n",
      "15:  ['music' 'song' 'movie' 'soundtrack' 'listening']\n",
      "16:  ['demand' 'supply' 'costs' 'prices' 'scarcity']\n",
      "17:  ['internet' 'karma' 'argument' 'insult' 'insulting']\n",
      "18:  ['animal' 'animals' 'critters' 'spiders' 'creatures']\n",
      "19:  ['bus' 'driver' 'door' 'room' 'pants']\n",
      "20:  ['obama' 'republican' 'campaign' 'republicans' 'voters']\n",
      "21:  ['kids' 'children' 'parents' 'child' 'parent']\n",
      "22:  ['amazon' 'buy' 'pm' 'tag' 'php']\n",
      "23:  ['atheism' 'atheist' 'atheists' 'religious' 'religion']\n",
      "24:  ['math' 'numbers' 'decimal' 'letters' 'notation']\n",
      "25:  ['military' 'civilians' 'war' 'cst' 'libya']\n",
      "26:  ['internet' 'streaming' 'content' 'netflix' 'bandwidth']\n",
      "27:  ['pc' 'hardware' 'games' 'os' 'laptop']\n",
      "28:  ['commute' 'downtown' 'drive' 'city' 'miles']\n",
      "29:  ['advice' 'therapy' 'quit' 'recover' 'situations']\n",
      "30:  ['games' 'played' 'sequel' 'graphics' 'rpg']\n",
      "31:  ['woah' 'eh' 'exploitive' 'exported' 'exponentially']\n",
      "32:  ['ya' 'ha' 'exploits' 'exports' 'exported']\n",
      "33:  ['girl' 'women' 'female' 'girls' 'woman']\n",
      "34:  ['imgur' 'picture' 'jpg' 'photos' 'flickr']\n",
      "35:  ['science' 'scientific' 'scientists' 'universe' 'scientist']\n",
      "36:  ['fix' 'settings' 'browser' 'bug' 'click']\n",
      "37:  ['karma' 'reposts' 'page' 'site' 'posts']\n",
      "38:  ['receipt' 'service' 'card' 'customer' 'paying']\n",
      "39:  ['tax' 'rich' 'government' 'taxes' 'wealth']\n"
     ]
    }
   ],
   "source": [
    "for year in years:\n",
    "    print(year)\n",
    "    for i, vals in corpi[year].items():\n",
    "        print(f'{i}: ', vals['keywords'])"
   ]
  },
  {
   "cell_type": "markdown",
   "metadata": {},
   "source": [
    "### Compute `topic_map` (cluster membership for topic words)"
   ]
  },
  {
   "cell_type": "code",
   "execution_count": null,
   "metadata": {},
   "outputs": [],
   "source": [
    "# topic_words = ['war', 'film', 'ha!', 'obama']\n",
    "\n",
    "# membership {keyword: {year: {clusters, amount}}}\n",
    "# topic_map = {term: {} for term in topic_words}\n",
    "\n",
    "# top_k = 3                   # num clusters with this word dominant to grab\n",
    "# month = '03'                # for now just base the doc freq off one month\n",
    "\n",
    "# for term in topic_words:\n",
    "#     print(f'\\nTERM: {term}\\n-----')\n",
    "\n",
    "#     for year in years:\n",
    "#         print(f'Processing {year} ...')\n",
    "\n",
    "#         # grab indices of this term in a given year\n",
    "#         with bz2.BZ2File(f'{DATA_PATH}RC_{year}-{month}.bz2', 'rb') as f:\n",
    "#             idx = []\n",
    "#             k = 0\n",
    "#             for line in f:\n",
    "#                 entry = json.loads(line)\n",
    "#                 if 'body' not in entry or entry['author'] == '[deleted]':\n",
    "#                     continue\n",
    "                \n",
    "#                 # this is very rough -- quotes and many other things mess it up\n",
    "#                 if term in entry['body'].lower():\n",
    "#                     idx.append(k)\n",
    "\n",
    "#                 k += 1\n",
    "\n",
    "#         # this is indices in month to this term\n",
    "#         idx = np.array(idx)\n",
    "\n",
    "#         # grab labels for this term\n",
    "#         labs = utils.load_npz(f'/sciclone/geograd/stmorse/reddit/td2/', \n",
    "#                             year, month, 'labels')\n",
    "\n",
    "#         # grab labels and label count of sentences containing this term\n",
    "#         cluster, count = np.unique(labs[idx], return_counts=True)\n",
    "#         top_c_idx = np.argsort(count)[::-1][:top_k]\n",
    "#         # print(f'All: {[(cl, co) for cl, co in zip(cluster, count)]}')\n",
    "#         print(f'> Found {idx.shape}. Top: ', cluster[top_c_idx], count[top_c_idx])\n",
    "        \n",
    "#         # add to topic_map\n",
    "#         topic_map[term][year] = {\n",
    "#             'labels': cluster[top_c_idx],\n",
    "#             'counts': count[top_c_idx]\n",
    "#         }"
   ]
  },
  {
   "cell_type": "code",
   "execution_count": 17,
   "metadata": {},
   "outputs": [],
   "source": [
    "# created manually\n",
    "topic_words = ['obama', 'police', 'atheism', 'ha']\n",
    "\n",
    "topic_map = {\n",
    "    'obama': {\n",
    "        2007: {'labels': [4]},\n",
    "        2008: {'labels': [19]},\n",
    "        2009: {'labels': [20]},\n",
    "        2010: {'labels': [20]},\n",
    "        2011: {'labels': [20]}\n",
    "    },\n",
    "    'police': {\n",
    "        2007: {'labels': [9]},\n",
    "        2008: {'labels': [36]},\n",
    "        2009: {'labels': [13]},\n",
    "        2010: {'labels': [13]},\n",
    "        2011: {'labels': [13]}\n",
    "    },\n",
    "    'atheism': {\n",
    "        2007: {'labels': [11]},\n",
    "        2008: {'labels': [38]},\n",
    "        2009: {'labels': [23]},\n",
    "        2010: {'labels': [23]},\n",
    "        2011: {'labels': [23]}\n",
    "    },\n",
    "    'ha': {\n",
    "        2007: {'labels': [26]},\n",
    "        2008: {'labels': [2]},\n",
    "        2009: {'labels': [32]},\n",
    "        2010: {'labels': [32]},\n",
    "        2011: {'labels': [32]}\n",
    "    }\n",
    "}"
   ]
  },
  {
   "cell_type": "code",
   "execution_count": null,
   "metadata": {},
   "outputs": [],
   "source": [
    "# with open('/sciclone/geograd/stmorse/reddit/td2/topic_map.pkl', 'wb') as f:\n",
    "#     pickle.dump(topic_map, f)"
   ]
  },
  {
   "cell_type": "markdown",
   "metadata": {},
   "source": [
    "### Compute `topic_sequences`"
   ]
  },
  {
   "cell_type": "code",
   "execution_count": null,
   "metadata": {},
   "outputs": [],
   "source": [
    "# for term, tmap in topic_map.items():\n",
    "#     print(f'TERM: {term}')\n",
    "\n",
    "#     # peek at keywords corresponding to the high-count cluster\n",
    "#     for year in years:\n",
    "#         print(f'Year {year}')\n",
    "#         for label in tmap[year]['labels']:\n",
    "#             print(f'> {label}: ', corpi[year][label]['keywords'])\n",
    "\n",
    "#     print('\\n-----\\n')"
   ]
  },
  {
   "cell_type": "code",
   "execution_count": 18,
   "metadata": {},
   "outputs": [
    {
     "data": {
      "text/plain": [
       "{'obama': [4, 19, 20, 20, 20],\n",
       " 'police': [9, 36, 13, 13, 13],\n",
       " 'atheism': [11, 38, 23, 23, 23],\n",
       " 'ha': [26, 2, 32, 32, 32]}"
      ]
     },
     "execution_count": 18,
     "metadata": {},
     "output_type": "execute_result"
    }
   ],
   "source": [
    "topic_sequences = {\n",
    "    term: [topic_map[term][year]['labels'][0] for year in years] for term in topic_words\n",
    "}\n",
    "topic_sequences"
   ]
  },
  {
   "cell_type": "markdown",
   "metadata": {},
   "source": [
    "### Combine embeddings (sentences and centroids)"
   ]
  },
  {
   "cell_type": "code",
   "execution_count": 23,
   "metadata": {},
   "outputs": [
    {
     "name": "stdout",
     "output_type": "stream",
     "text": [
      "Loading year  2007\n",
      "Load embeddings...\n",
      "Loading year  2008\n",
      "Loading year  2009\n",
      "Loading year  2010\n",
      "Loading year  2011\n",
      "Load embeddings...\n"
     ]
    }
   ],
   "source": [
    "combo = {term: {\n",
    "    'embeddings': np.zeros((200,384)), \n",
    "    'centroids': np.zeros((5,384))\n",
    "    } for term in topic_words\n",
    "}\n",
    "\n",
    "top_k = 100\n",
    "\n",
    "for yx, year in enumerate(years):\n",
    "    print('Loading year ', year)\n",
    "\n",
    "    # load cluster centers\n",
    "    model_cc = utils.load_cc(f'mbkm_40_{year}_td2_cc', base_path=BASE_PATH+'td2/')\n",
    "    num_clusters = model_cc.shape[0]\n",
    "\n",
    "    # store corresponding centroids for each term\n",
    "    for term in topic_words:\n",
    "        label = topic_sequences[term][yx]\n",
    "        combo[term]['centroids'][yx,:] = model_cc[label,:]\n",
    "\n",
    "    if year==2007 or year==2011:\n",
    "        row = 0 if year==2007 else 100\n",
    "\n",
    "        # load embeddings\n",
    "        print('Load embeddings...')\n",
    "        embeddings = utils.load_npz(BASE_PATH, year, month, 'embeddings')\n",
    "\n",
    "        # get index of closest to all centroids\n",
    "        closest_idx = np.zeros((num_clusters, top_k))\n",
    "        for i in range(num_clusters):\n",
    "            closest_idx[i,:] = utils.get_closest_vectors(\n",
    "                model_cc[i], embeddings, top_k=top_k)\n",
    "            \n",
    "        # store the closest embeddings in the right block of combo for each term\n",
    "        for term in topic_words:\n",
    "            cx = topic_sequences[term][yx]\n",
    "            cidx_int = [int(ii) for ii in closest_idx[cx]]\n",
    "            combo[term]['embeddings'][row:row+100,:] = embeddings[cidx_int,:]"
   ]
  },
  {
   "cell_type": "code",
   "execution_count": 24,
   "metadata": {},
   "outputs": [],
   "source": [
    "with open('/sciclone/geograd/stmorse/reddit/td2/combo.pkl', 'wb') as f:\n",
    "    pickle.dump(combo, f)"
   ]
  },
  {
   "cell_type": "markdown",
   "metadata": {},
   "source": [
    "### Dimension reduce and visualize"
   ]
  },
  {
   "cell_type": "code",
   "execution_count": 28,
   "metadata": {},
   "outputs": [
    {
     "data": {
      "text/plain": [
       "(820, 384)"
      ]
     },
     "execution_count": 28,
     "metadata": {},
     "output_type": "execute_result"
    }
   ],
   "source": [
    "bigmat = []\n",
    "for term in topic_words:\n",
    "    bigmat.append(combo[term]['embeddings'])\n",
    "\n",
    "for term in topic_words:\n",
    "    bigmat.append(combo[term]['centroids'])\n",
    "\n",
    "bigmat = np.vstack(bigmat)\n",
    "bigmat.shape"
   ]
  },
  {
   "cell_type": "code",
   "execution_count": null,
   "metadata": {},
   "outputs": [],
   "source": [
    "\"\"\"\n",
    "0:100 - term 0 2007\n",
    "100:200 - term 0 2011\n",
    "...\n",
    ":800\n",
    "800:805 - term 0 centroids\n",
    "\"\"\""
   ]
  },
  {
   "cell_type": "code",
   "execution_count": 33,
   "metadata": {},
   "outputs": [],
   "source": [
    "tsne = TSNE(\n",
    "    n_components=2, \n",
    "    perplexity=12,\n",
    "    early_exaggeration=12)\n",
    "\n",
    "X = tsne.fit_transform(bigmat)"
   ]
  },
  {
   "cell_type": "code",
   "execution_count": 38,
   "metadata": {},
   "outputs": [
    {
     "data": {
      "image/png": "[encoded data removed]",
      "text/plain": [
       "<Figure size 800x800 with 1 Axes>"
      ]
     },
     "metadata": {},
     "output_type": "display_data"
    }
   ],
   "source": [
    "fig, ax = plt.subplots(1,1, figsize=(8,8))\n",
    "\n",
    "colors = plt.get_cmap('viridis_r')(np.linspace(0, 1, len(years)))\n",
    "markers = ['o', '^', 'x', 's', 'P']\n",
    "\n",
    "for i, term in enumerate(topic_words):\n",
    "    # plot data points 2007\n",
    "    bx = i*200\n",
    "    ax.scatter(X[bx:bx+100, 0], X[bx:bx+100, 1], \n",
    "               s=20, color=colors[0], marker=markers[i], alpha=0.4)\n",
    "\n",
    "    # plot data points 2011\n",
    "    bx = i*200 + 100\n",
    "    ax.scatter(X[bx:bx+100, 0], X[bx:bx+100, 1], \n",
    "               s=20, color=colors[4], marker=markers[i], alpha=0.4)\n",
    "    \n",
    "    bx = 800 + i*5\n",
    "\n",
    "    # plot line connecting this terms centroids\n",
    "    ax.plot(X[bx:bx+5, 0], X[bx:bx+5, 1], 'k--', alpha=0.6)\n",
    "\n",
    "    # plot scatter of each centroid to do multi-color\n",
    "    for k in range(5):\n",
    "        ax.scatter(X[bx+k, 0], X[bx+k, 1], \n",
    "                   s=50, color=colors[k], marker=markers[i], alpha=0.9)\n",
    "        \n",
    "    cp = np.average(X[bx:bx+5], axis=0)\n",
    "    ax.text(cp[0], cp[1]+8, term)\n",
    "\n",
    "plt.show()\n"
   ]
  },
  {
   "cell_type": "code",
   "execution_count": 36,
   "metadata": {},
   "outputs": [
    {
     "data": {
      "text/plain": [
       "array([6., 7., 8., 9.])"
      ]
     },
     "execution_count": 36,
     "metadata": {},
     "output_type": "execute_result"
    }
   ],
   "source": [
    "z = np.arange(16).reshape(4,4)\n",
    "np.average(z, axis=0)"
   ]
  },
  {
   "cell_type": "markdown",
   "metadata": {},
   "source": [
    "# Linear regression experiments"
   ]
  },
  {
   "cell_type": "code",
   "execution_count": 2,
   "metadata": {},
   "outputs": [],
   "source": [
    "import matplotlib.pyplot as plt\n",
    "import numpy as np\n",
    "\n",
    "from sklearn.linear_model import LinearRegression\n",
    "from sklearn.pipeline import make_pipeline\n",
    "from sklearn.preprocessing import PolynomialFeatures"
   ]
  },
  {
   "cell_type": "code",
   "execution_count": 14,
   "metadata": {},
   "outputs": [
    {
     "name": "stdout",
     "output_type": "stream",
     "text": [
      "(100, 2)\n",
      "(30, 1) (30, 2)\n"
     ]
    },
    {
     "data": {
      "image/png": "[encoded data removed]",
      "text/plain": [
       "<Figure size 600x600 with 1 Axes>"
      ]
     },
     "metadata": {},
     "output_type": "display_data"
    }
   ],
   "source": [
    "fun = lambda t: (np.cos(t), np.exp(-0.5*t)*np.sin(t))\n",
    "fun = np.vectorize(fun)\n",
    "\n",
    "ts = np.linspace(0, 5, 100)\n",
    "ys_true = np.array(fun(ts)).T\n",
    "\n",
    "print(ys_true.shape)\n",
    "\n",
    "N = 30\n",
    "ts_data = np.linspace(0, 5, N)\n",
    "ys_data = np.array(fun(ts_data)).T + np.random.normal(0, 0.01, size=(N,2))\n",
    "ts_data = ts_data.reshape((N, 1))\n",
    "print(ts_data.shape, ys_data.shape)\n",
    "\n",
    "degree = 5\n",
    "models = [make_pipeline(PolynomialFeatures(degree), LinearRegression()) for _ in range(2)]\n",
    "\n",
    "ys_pred = np.zeros((N, 2))\n",
    "for i in range(2):\n",
    "    models[i].fit(ts_data, ys_data[:,i])\n",
    "    ys_pred[:,i] = models[i].predict(ts_data)\n",
    "\n",
    "fig, ax = plt.subplots(1,1, figsize=(6,6))\n",
    "\n",
    "ax.plot(ys_true[:,0], ys_true[:,1], 'k-', alpha=0.7)\n",
    "ax.scatter(ys_data[:,0], ys_data[:,1], s=50, color='b', alpha=0.4)\n",
    "ax.scatter(ys_pred[:,0], ys_pred[:,1], s=50, color='g', alpha=0.6)\n",
    "\n",
    "plt.show()"
   ]
  },
  {
   "cell_type": "code",
   "execution_count": null,
   "metadata": {},
   "outputs": [],
   "source": []
  }
 ],
 "metadata": {
  "kernelspec": {
   "display_name": "Python 3",
   "language": "python",
   "name": "python3"
  },
  "language_info": {
   "codemirror_mode": {
    "name": "ipython",
    "version": 3
   },
   "file_extension": ".py",
   "mimetype": "text/x-python",
   "name": "python",
   "nbconvert_exporter": "python",
   "pygments_lexer": "ipython3",
   "version": "3.12.0"
  }
 },
 "nbformat": 4,
 "nbformat_minor": 2
}
