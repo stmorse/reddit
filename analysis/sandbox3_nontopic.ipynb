{
 "cells": [
  {
   "cell_type": "code",
   "execution_count": 57,
   "metadata": {},
   "outputs": [],
   "source": [
    "import time\n",
    "import bz2\n",
    "import gzip\n",
    "import json\n",
    "import pickle\n",
    "import gc\n",
    "import re\n",
    "\n",
    "import matplotlib.pyplot as plt\n",
    "import pandas as pd\n",
    "import numpy as np\n",
    "\n",
    "import torch\n",
    "from torch.utils.data import DataLoader\n",
    "\n",
    "from datasets import load_dataset, Dataset\n",
    "from sentence_transformers import (\n",
    "    SentenceTransformer, \n",
    "    SentenceTransformerTrainingArguments,\n",
    "    SentenceTransformerTrainer\n",
    ")\n",
    "from sentence_transformers.losses import SoftmaxLoss\n",
    "from sentence_transformers.training_args import BatchSamplers\n",
    "\n",
    "import transformers\n",
    "from transformers import (\n",
    "    AutoTokenizer, \n",
    "    AutoModelForSequenceClassification, \n",
    "    Trainer, \n",
    "    TrainingArguments\n",
    ")\n",
    "\n",
    "from sklearn.metrics import classification_report\n",
    "from sklearn.metrics import accuracy_score, f1_score\n",
    "from sklearn.feature_extraction.text import TfidfVectorizer\n",
    "from sklearn.manifold import TSNE\n",
    "\n",
    "import utils"
   ]
  },
  {
   "cell_type": "code",
   "execution_count": 2,
   "metadata": {},
   "outputs": [],
   "source": [
    "%load_ext autoreload\n",
    "%autoreload 2"
   ]
  },
  {
   "cell_type": "code",
   "execution_count": 3,
   "metadata": {},
   "outputs": [],
   "source": [
    "DATA_PATH = '/sciclone/data10/twford/reddit/reddit/comments/'\n",
    "BASE_PATH = '/sciclone/geograd/stmorse/reddit/'"
   ]
  },
  {
   "cell_type": "code",
   "execution_count": 4,
   "metadata": {},
   "outputs": [
    {
     "data": {
      "text/plain": [
       "True"
      ]
     },
     "execution_count": 4,
     "metadata": {},
     "output_type": "execute_result"
    }
   ],
   "source": [
    "torch.cuda.is_available()"
   ]
  },
  {
   "cell_type": "markdown",
   "metadata": {},
   "source": [
    "# Personality"
   ]
  },
  {
   "cell_type": "markdown",
   "metadata": {},
   "source": [
    "## Preprocessing data"
   ]
  },
  {
   "cell_type": "code",
   "execution_count": 84,
   "metadata": {},
   "outputs": [
    {
     "data": {
      "text/html": [
       "<div>\n",
       "<style scoped>\n",
       "    .dataframe tbody tr th:only-of-type {\n",
       "        vertical-align: middle;\n",
       "    }\n",
       "\n",
       "    .dataframe tbody tr th {\n",
       "        vertical-align: top;\n",
       "    }\n",
       "\n",
       "    .dataframe thead th {\n",
       "        text-align: right;\n",
       "    }\n",
       "</style>\n",
       "<table border=\"1\" class=\"dataframe\">\n",
       "  <thead>\n",
       "    <tr style=\"text-align: right;\">\n",
       "      <th></th>\n",
       "      <th>author_flair_text</th>\n",
       "      <th>body</th>\n",
       "      <th>subreddit</th>\n",
       "    </tr>\n",
       "  </thead>\n",
       "  <tbody>\n",
       "    <tr>\n",
       "      <th>0</th>\n",
       "      <td>INTJ</td>\n",
       "      <td>Knowing you're in INTJ is a tool for you to us...</td>\n",
       "      <td>intj</td>\n",
       "    </tr>\n",
       "    <tr>\n",
       "      <th>1</th>\n",
       "      <td>INTJ</td>\n",
       "      <td>You are truly an enlightened mastermind.</td>\n",
       "      <td>intj</td>\n",
       "    </tr>\n",
       "    <tr>\n",
       "      <th>2</th>\n",
       "      <td>INFJ, 26F</td>\n",
       "      <td>You should :) it will help if you have a down ...</td>\n",
       "      <td>infj</td>\n",
       "    </tr>\n",
       "    <tr>\n",
       "      <th>3</th>\n",
       "      <td>INTP</td>\n",
       "      <td>I watch a bit of everything (including hentai)...</td>\n",
       "      <td>INTP</td>\n",
       "    </tr>\n",
       "    <tr>\n",
       "      <th>4</th>\n",
       "      <td>INTJ</td>\n",
       "      <td>I don't know if I would count this as a pet pe...</td>\n",
       "      <td>intj</td>\n",
       "    </tr>\n",
       "  </tbody>\n",
       "</table>\n",
       "</div>"
      ],
      "text/plain": [
       "  author_flair_text                                               body  \\\n",
       "0              INTJ  Knowing you're in INTJ is a tool for you to us...   \n",
       "1              INTJ           You are truly an enlightened mastermind.   \n",
       "2         INFJ, 26F  You should :) it will help if you have a down ...   \n",
       "3              INTP  I watch a bit of everything (including hentai)...   \n",
       "4              INTJ  I don't know if I would count this as a pet pe...   \n",
       "\n",
       "  subreddit  \n",
       "0      intj  \n",
       "1      intj  \n",
       "2      infj  \n",
       "3      INTP  \n",
       "4      intj  "
      ]
     },
     "execution_count": 84,
     "metadata": {},
     "output_type": "execute_result"
    }
   ],
   "source": [
    "df = pd.read_csv(f'{BASE_PATH}mbti_data/mbti_full_pull.csv')\n",
    "df.head()"
   ]
  },
  {
   "cell_type": "code",
   "execution_count": 85,
   "metadata": {},
   "outputs": [
    {
     "data": {
      "text/plain": [
       "(1794016, 3)"
      ]
     },
     "execution_count": 85,
     "metadata": {},
     "output_type": "execute_result"
    }
   ],
   "source": [
    "df.shape"
   ]
  },
  {
   "cell_type": "code",
   "execution_count": 86,
   "metadata": {},
   "outputs": [
    {
     "name": "stdout",
     "output_type": "stream",
     "text": [
      "['ESFP', 'ISFP', 'ENFP', 'INFP', 'ESTP', 'ISTP', 'ENTP', 'INTP', 'ESFJ', 'ISFJ', 'ENFJ', 'INFJ', 'ESTJ', 'ISTJ', 'ENTJ', 'INTJ']\n"
     ]
    }
   ],
   "source": [
    "mbti_pairs = [('E', 'I'), ('S', 'N'), ('F', 'T'), ('P', 'J')]\n",
    "mbti_types = []\n",
    "for k in range(16):\n",
    "    t = ''\n",
    "    for i, pair in enumerate(mbti_pairs):\n",
    "        t += pair[(k >> i) & 1]\n",
    "    mbti_types.append(t)\n",
    "print(mbti_types)"
   ]
  },
  {
   "cell_type": "code",
   "execution_count": 87,
   "metadata": {},
   "outputs": [
    {
     "data": {
      "text/html": [
       "<div>\n",
       "<style scoped>\n",
       "    .dataframe tbody tr th:only-of-type {\n",
       "        vertical-align: middle;\n",
       "    }\n",
       "\n",
       "    .dataframe tbody tr th {\n",
       "        vertical-align: top;\n",
       "    }\n",
       "\n",
       "    .dataframe thead th {\n",
       "        text-align: right;\n",
       "    }\n",
       "</style>\n",
       "<table border=\"1\" class=\"dataframe\">\n",
       "  <thead>\n",
       "    <tr style=\"text-align: right;\">\n",
       "      <th></th>\n",
       "      <th>author_flair_text</th>\n",
       "      <th>body</th>\n",
       "      <th>subreddit</th>\n",
       "      <th>mbti_type</th>\n",
       "    </tr>\n",
       "  </thead>\n",
       "  <tbody>\n",
       "    <tr>\n",
       "      <th>0</th>\n",
       "      <td>INTJ</td>\n",
       "      <td>Knowing you're in INTJ is a tool for you to us...</td>\n",
       "      <td>intj</td>\n",
       "      <td>INTJ</td>\n",
       "    </tr>\n",
       "    <tr>\n",
       "      <th>1</th>\n",
       "      <td>INTJ</td>\n",
       "      <td>You are truly an enlightened mastermind.</td>\n",
       "      <td>intj</td>\n",
       "      <td>INTJ</td>\n",
       "    </tr>\n",
       "    <tr>\n",
       "      <th>2</th>\n",
       "      <td>INFJ, 26F</td>\n",
       "      <td>You should :) it will help if you have a down ...</td>\n",
       "      <td>infj</td>\n",
       "      <td>INFJ</td>\n",
       "    </tr>\n",
       "    <tr>\n",
       "      <th>3</th>\n",
       "      <td>INTP</td>\n",
       "      <td>I watch a bit of everything (including hentai)...</td>\n",
       "      <td>INTP</td>\n",
       "      <td>INTP</td>\n",
       "    </tr>\n",
       "    <tr>\n",
       "      <th>4</th>\n",
       "      <td>INTJ</td>\n",
       "      <td>I don't know if I would count this as a pet pe...</td>\n",
       "      <td>intj</td>\n",
       "      <td>INTJ</td>\n",
       "    </tr>\n",
       "  </tbody>\n",
       "</table>\n",
       "</div>"
      ],
      "text/plain": [
       "  author_flair_text                                               body  \\\n",
       "0              INTJ  Knowing you're in INTJ is a tool for you to us...   \n",
       "1              INTJ           You are truly an enlightened mastermind.   \n",
       "2         INFJ, 26F  You should :) it will help if you have a down ...   \n",
       "3              INTP  I watch a bit of everything (including hentai)...   \n",
       "4              INTJ  I don't know if I would count this as a pet pe...   \n",
       "\n",
       "  subreddit mbti_type  \n",
       "0      intj      INTJ  \n",
       "1      intj      INTJ  \n",
       "2      infj      INFJ  \n",
       "3      INTP      INTP  \n",
       "4      intj      INTJ  "
      ]
     },
     "execution_count": 87,
     "metadata": {},
     "output_type": "execute_result"
    }
   ],
   "source": [
    "def find_mbti_type(text):\n",
    "    for mbti_type in mbti_types:\n",
    "        if mbti_type.lower() in text.lower():\n",
    "            return mbti_type\n",
    "    return None\n",
    "\n",
    "df['mbti_type'] = df.apply(lambda row: find_mbti_type(row['author_flair_text']) or find_mbti_type(row['subreddit']), axis=1)\n",
    "df.head()"
   ]
  },
  {
   "cell_type": "code",
   "execution_count": 88,
   "metadata": {},
   "outputs": [
    {
     "data": {
      "text/plain": [
       "array(['INTJ', 'INFJ', 'INTP', 'ENTP', 'ENFP', 'ENTJ', 'ISTP', 'ESTP',\n",
       "       'ISTJ', 'INFP', 'ISFP', 'ENFJ', 'ESTJ', 'ISFJ', 'ESFJ', 'ESFP'],\n",
       "      dtype=object)"
      ]
     },
     "execution_count": 88,
     "metadata": {},
     "output_type": "execute_result"
    }
   ],
   "source": [
    "df['mbti_type'].unique()"
   ]
  },
  {
   "cell_type": "code",
   "execution_count": 89,
   "metadata": {},
   "outputs": [
    {
     "data": {
      "text/html": [
       "<div>\n",
       "<style scoped>\n",
       "    .dataframe tbody tr th:only-of-type {\n",
       "        vertical-align: middle;\n",
       "    }\n",
       "\n",
       "    .dataframe tbody tr th {\n",
       "        vertical-align: top;\n",
       "    }\n",
       "\n",
       "    .dataframe thead th {\n",
       "        text-align: right;\n",
       "    }\n",
       "</style>\n",
       "<table border=\"1\" class=\"dataframe\">\n",
       "  <thead>\n",
       "    <tr style=\"text-align: right;\">\n",
       "      <th></th>\n",
       "      <th>sentence</th>\n",
       "      <th>label</th>\n",
       "    </tr>\n",
       "  </thead>\n",
       "  <tbody>\n",
       "    <tr>\n",
       "      <th>0</th>\n",
       "      <td>Knowing you're in INTJ is a tool for you to us...</td>\n",
       "      <td>INTJ</td>\n",
       "    </tr>\n",
       "    <tr>\n",
       "      <th>1</th>\n",
       "      <td>You are truly an enlightened mastermind.</td>\n",
       "      <td>INTJ</td>\n",
       "    </tr>\n",
       "    <tr>\n",
       "      <th>2</th>\n",
       "      <td>You should :) it will help if you have a down ...</td>\n",
       "      <td>INFJ</td>\n",
       "    </tr>\n",
       "    <tr>\n",
       "      <th>3</th>\n",
       "      <td>I watch a bit of everything (including hentai)...</td>\n",
       "      <td>INTP</td>\n",
       "    </tr>\n",
       "    <tr>\n",
       "      <th>4</th>\n",
       "      <td>I don't know if I would count this as a pet pe...</td>\n",
       "      <td>INTJ</td>\n",
       "    </tr>\n",
       "  </tbody>\n",
       "</table>\n",
       "</div>"
      ],
      "text/plain": [
       "                                            sentence label\n",
       "0  Knowing you're in INTJ is a tool for you to us...  INTJ\n",
       "1           You are truly an enlightened mastermind.  INTJ\n",
       "2  You should :) it will help if you have a down ...  INFJ\n",
       "3  I watch a bit of everything (including hentai)...  INTP\n",
       "4  I don't know if I would count this as a pet pe...  INTJ"
      ]
     },
     "execution_count": 89,
     "metadata": {},
     "output_type": "execute_result"
    }
   ],
   "source": [
    "df = (df\n",
    "      .rename(columns={'body': 'sentence', 'mbti_type': 'label'})\n",
    "      .drop(columns=['author_flair_text', 'subreddit'])\n",
    ")\n",
    "\n",
    "# df['sentence'] = df['sentence'].astype(str)\n",
    "df['label'] = df['label'].astype(str)\n",
    "\n",
    "df.head()"
   ]
  },
  {
   "cell_type": "code",
   "execution_count": 90,
   "metadata": {},
   "outputs": [
    {
     "name": "stdout",
     "output_type": "stream",
     "text": [
      "{0: 'ENFJ', 1: 'ENFP', 2: 'ENTJ', 3: 'ENTP', 4: 'ESFJ', 5: 'ESFP', 6: 'ESTJ', 7: 'ESTP', 8: 'INFJ', 9: 'INFP', 10: 'INTJ', 11: 'INTP', 12: 'ISFJ', 13: 'ISFP', 14: 'ISTJ', 15: 'ISTP'}\n"
     ]
    },
    {
     "data": {
      "text/html": [
       "<div>\n",
       "<style scoped>\n",
       "    .dataframe tbody tr th:only-of-type {\n",
       "        vertical-align: middle;\n",
       "    }\n",
       "\n",
       "    .dataframe tbody tr th {\n",
       "        vertical-align: top;\n",
       "    }\n",
       "\n",
       "    .dataframe thead th {\n",
       "        text-align: right;\n",
       "    }\n",
       "</style>\n",
       "<table border=\"1\" class=\"dataframe\">\n",
       "  <thead>\n",
       "    <tr style=\"text-align: right;\">\n",
       "      <th></th>\n",
       "      <th>sentence</th>\n",
       "      <th>label</th>\n",
       "      <th>label_code</th>\n",
       "    </tr>\n",
       "  </thead>\n",
       "  <tbody>\n",
       "    <tr>\n",
       "      <th>0</th>\n",
       "      <td>Knowing you're in INTJ is a tool for you to us...</td>\n",
       "      <td>INTJ</td>\n",
       "      <td>10</td>\n",
       "    </tr>\n",
       "    <tr>\n",
       "      <th>1</th>\n",
       "      <td>You are truly an enlightened mastermind.</td>\n",
       "      <td>INTJ</td>\n",
       "      <td>10</td>\n",
       "    </tr>\n",
       "    <tr>\n",
       "      <th>2</th>\n",
       "      <td>You should :) it will help if you have a down ...</td>\n",
       "      <td>INFJ</td>\n",
       "      <td>8</td>\n",
       "    </tr>\n",
       "    <tr>\n",
       "      <th>3</th>\n",
       "      <td>I watch a bit of everything (including hentai)...</td>\n",
       "      <td>INTP</td>\n",
       "      <td>11</td>\n",
       "    </tr>\n",
       "    <tr>\n",
       "      <th>4</th>\n",
       "      <td>I don't know if I would count this as a pet pe...</td>\n",
       "      <td>INTJ</td>\n",
       "      <td>10</td>\n",
       "    </tr>\n",
       "  </tbody>\n",
       "</table>\n",
       "</div>"
      ],
      "text/plain": [
       "                                            sentence label  label_code\n",
       "0  Knowing you're in INTJ is a tool for you to us...  INTJ          10\n",
       "1           You are truly an enlightened mastermind.  INTJ          10\n",
       "2  You should :) it will help if you have a down ...  INFJ           8\n",
       "3  I watch a bit of everything (including hentai)...  INTP          11\n",
       "4  I don't know if I would count this as a pet pe...  INTJ          10"
      ]
     },
     "execution_count": 90,
     "metadata": {},
     "output_type": "execute_result"
    }
   ],
   "source": [
    "# Add label_code column using category codes\n",
    "df['label_code'] = df['label'].astype('category').cat.codes\n",
    "\n",
    "# Save the codes to a dictionary\n",
    "label_code_dict = dict(enumerate(df['label'].astype('category').cat.categories))\n",
    "\n",
    "print(label_code_dict)\n",
    "df.head()"
   ]
  },
  {
   "cell_type": "code",
   "execution_count": 92,
   "metadata": {},
   "outputs": [],
   "source": [
    "with open(f'{BASE_PATH}mbti_data/code_dict.pkl', 'wb') as f:\n",
    "    pickle.dump(label_code_dict, f)"
   ]
  },
  {
   "cell_type": "code",
   "execution_count": 93,
   "metadata": {},
   "outputs": [
    {
     "data": {
      "text/html": [
       "<div>\n",
       "<style scoped>\n",
       "    .dataframe tbody tr th:only-of-type {\n",
       "        vertical-align: middle;\n",
       "    }\n",
       "\n",
       "    .dataframe tbody tr th {\n",
       "        vertical-align: top;\n",
       "    }\n",
       "\n",
       "    .dataframe thead th {\n",
       "        text-align: right;\n",
       "    }\n",
       "</style>\n",
       "<table border=\"1\" class=\"dataframe\">\n",
       "  <thead>\n",
       "    <tr style=\"text-align: right;\">\n",
       "      <th></th>\n",
       "      <th>sentence</th>\n",
       "      <th>label</th>\n",
       "    </tr>\n",
       "  </thead>\n",
       "  <tbody>\n",
       "    <tr>\n",
       "      <th>0</th>\n",
       "      <td>Knowing you're in INTJ is a tool for you to us...</td>\n",
       "      <td>10</td>\n",
       "    </tr>\n",
       "    <tr>\n",
       "      <th>1</th>\n",
       "      <td>You are truly an enlightened mastermind.</td>\n",
       "      <td>10</td>\n",
       "    </tr>\n",
       "    <tr>\n",
       "      <th>2</th>\n",
       "      <td>You should :) it will help if you have a down ...</td>\n",
       "      <td>8</td>\n",
       "    </tr>\n",
       "    <tr>\n",
       "      <th>3</th>\n",
       "      <td>I watch a bit of everything (including hentai)...</td>\n",
       "      <td>11</td>\n",
       "    </tr>\n",
       "    <tr>\n",
       "      <th>4</th>\n",
       "      <td>I don't know if I would count this as a pet pe...</td>\n",
       "      <td>10</td>\n",
       "    </tr>\n",
       "  </tbody>\n",
       "</table>\n",
       "</div>"
      ],
      "text/plain": [
       "                                            sentence  label\n",
       "0  Knowing you're in INTJ is a tool for you to us...     10\n",
       "1           You are truly an enlightened mastermind.     10\n",
       "2  You should :) it will help if you have a down ...      8\n",
       "3  I watch a bit of everything (including hentai)...     11\n",
       "4  I don't know if I would count this as a pet pe...     10"
      ]
     },
     "execution_count": 93,
     "metadata": {},
     "output_type": "execute_result"
    }
   ],
   "source": [
    "df = df.drop(columns=['label']).rename(columns={'label_code': 'label'})\n",
    "df.head()"
   ]
  },
  {
   "cell_type": "code",
   "execution_count": 94,
   "metadata": {},
   "outputs": [
    {
     "data": {
      "text/plain": [
       "(1793949, 2)"
      ]
     },
     "execution_count": 94,
     "metadata": {},
     "output_type": "execute_result"
    }
   ],
   "source": [
    "# drop na's\n",
    "df = df.dropna()\n",
    "df.shape"
   ]
  },
  {
   "cell_type": "code",
   "execution_count": 95,
   "metadata": {},
   "outputs": [],
   "source": [
    "df.to_csv(f'{BASE_PATH}mbti_data/mbti_clean_v2.csv', index=False, quoting=2)"
   ]
  },
  {
   "cell_type": "code",
   "execution_count": 96,
   "metadata": {},
   "outputs": [],
   "source": [
    "df.iloc[:1000,:].to_csv(f'{BASE_PATH}mbti_data/little_clean_v2_train.csv', index=False, quoting=2)\n",
    "df.iloc[1000:1200,:].to_csv(f'{BASE_PATH}mbti_data/little_clean_v2_test.csv', index=False, quoting=2)"
   ]
  },
  {
   "cell_type": "markdown",
   "metadata": {},
   "source": [
    "## Train model"
   ]
  },
  {
   "cell_type": "code",
   "execution_count": 45,
   "metadata": {},
   "outputs": [
    {
     "data": {
      "text/plain": [
       "(1794016, 2)"
      ]
     },
     "execution_count": 45,
     "metadata": {},
     "output_type": "execute_result"
    }
   ],
   "source": [
    "df_clean = pd.read_csv(f'{BASE_PATH}mbti_data/mbti_clean.csv', \n",
    "                       dtype={'sentence': str, 'label': str})\n",
    "df_clean.shape"
   ]
  },
  {
   "cell_type": "code",
   "execution_count": 46,
   "metadata": {},
   "outputs": [
    {
     "data": {
      "text/html": [
       "<div>\n",
       "<style scoped>\n",
       "    .dataframe tbody tr th:only-of-type {\n",
       "        vertical-align: middle;\n",
       "    }\n",
       "\n",
       "    .dataframe tbody tr th {\n",
       "        vertical-align: top;\n",
       "    }\n",
       "\n",
       "    .dataframe thead th {\n",
       "        text-align: right;\n",
       "    }\n",
       "</style>\n",
       "<table border=\"1\" class=\"dataframe\">\n",
       "  <thead>\n",
       "    <tr style=\"text-align: right;\">\n",
       "      <th></th>\n",
       "      <th>sentence</th>\n",
       "      <th>label</th>\n",
       "    </tr>\n",
       "  </thead>\n",
       "  <tbody>\n",
       "    <tr>\n",
       "      <th>0</th>\n",
       "      <td>Knowing you're in INTJ is a tool for you to us...</td>\n",
       "      <td>10</td>\n",
       "    </tr>\n",
       "    <tr>\n",
       "      <th>1</th>\n",
       "      <td>You are truly an enlightened mastermind.</td>\n",
       "      <td>10</td>\n",
       "    </tr>\n",
       "    <tr>\n",
       "      <th>2</th>\n",
       "      <td>You should :) it will help if you have a down ...</td>\n",
       "      <td>8</td>\n",
       "    </tr>\n",
       "    <tr>\n",
       "      <th>3</th>\n",
       "      <td>I watch a bit of everything (including hentai)...</td>\n",
       "      <td>11</td>\n",
       "    </tr>\n",
       "    <tr>\n",
       "      <th>4</th>\n",
       "      <td>I don't know if I would count this as a pet pe...</td>\n",
       "      <td>10</td>\n",
       "    </tr>\n",
       "  </tbody>\n",
       "</table>\n",
       "</div>"
      ],
      "text/plain": [
       "                                            sentence  label\n",
       "0  Knowing you're in INTJ is a tool for you to us...     10\n",
       "1           You are truly an enlightened mastermind.     10\n",
       "2  You should :) it will help if you have a down ...      8\n",
       "3  I watch a bit of everything (including hentai)...     11\n",
       "4  I don't know if I would count this as a pet pe...     10"
      ]
     },
     "execution_count": 46,
     "metadata": {},
     "output_type": "execute_result"
    }
   ],
   "source": [
    "df_clean['label'] = df_clean['label'].astype('category').cat.codes\n",
    "df_clean.head()"
   ]
  },
  {
   "cell_type": "code",
   "execution_count": 63,
   "metadata": {},
   "outputs": [
    {
     "data": {
      "text/plain": [
       "(1793949, 2)"
      ]
     },
     "execution_count": 63,
     "metadata": {},
     "output_type": "execute_result"
    }
   ],
   "source": [
    "df_clean = df_clean.dropna()\n",
    "df_clean.shape"
   ]
  },
  {
   "cell_type": "code",
   "execution_count": 64,
   "metadata": {},
   "outputs": [
    {
     "data": {
      "text/plain": [
       "array([10,  8, 11,  3,  1,  2, 15,  7, 14,  9, 13,  0,  6, 12,  4,  5],\n",
       "      dtype=int8)"
      ]
     },
     "execution_count": 64,
     "metadata": {},
     "output_type": "execute_result"
    }
   ],
   "source": [
    "df_clean['label'].unique()"
   ]
  },
  {
   "cell_type": "code",
   "execution_count": 48,
   "metadata": {},
   "outputs": [
    {
     "data": {
      "text/plain": [
       "dtype('O')"
      ]
     },
     "execution_count": 48,
     "metadata": {},
     "output_type": "execute_result"
    }
   ],
   "source": [
    "df_clean['sentence'].dtype"
   ]
  },
  {
   "cell_type": "code",
   "execution_count": 75,
   "metadata": {},
   "outputs": [],
   "source": [
    "# dataset = load_dataset('csv', data_files=f'{BASE_PATH}mbti_data/mbti_clean.csv')\n",
    "train_ds = Dataset.from_pandas(df_clean.iloc[:10000], split='train')\n",
    "test_ds = Dataset.from_pandas(df_clean.iloc[10000:12000], split='test')"
   ]
  },
  {
   "cell_type": "code",
   "execution_count": 27,
   "metadata": {},
   "outputs": [],
   "source": [
    "import os\n",
    "os.environ[\"TOKENIZERS_PARALLELISM\"] = \"false\""
   ]
  },
  {
   "cell_type": "code",
   "execution_count": 73,
   "metadata": {},
   "outputs": [],
   "source": [
    "# Load the tokenizer\n",
    "# model_name = \"distilbert-base-uncased\"\n",
    "model_name = \"sentence-transformers/all-MiniLM-L6-v2\"\n",
    "tokenizer = AutoTokenizer.from_pretrained(model_name)"
   ]
  },
  {
   "cell_type": "code",
   "execution_count": 76,
   "metadata": {},
   "outputs": [
    {
     "data": {
      "application/vnd.jupyter.widget-view+json": {
       "model_id": "e52d52f44f954435b2ab2be422c7a4d8",
       "version_major": 2,
       "version_minor": 0
      },
      "text/plain": [
       "Map:   0%|          | 0/10000 [00:00<?, ? examples/s]"
      ]
     },
     "metadata": {},
     "output_type": "display_data"
    },
    {
     "data": {
      "application/vnd.jupyter.widget-view+json": {
       "model_id": "6d71e85cc1a14c12910523da947691e1",
       "version_major": 2,
       "version_minor": 0
      },
      "text/plain": [
       "Map:   0%|          | 0/2000 [00:00<?, ? examples/s]"
      ]
     },
     "metadata": {},
     "output_type": "display_data"
    }
   ],
   "source": [
    "def sanitize_text(text):\n",
    "    # Remove escape characters like \\n, \\t, etc.\n",
    "    text = text.replace(\"\\n\", \" \").replace(\"\\t\", \" \")\n",
    "    # Optionally remove non-printable characters\n",
    "    text = re.sub(r'[^\\x20-\\x7E]', '', text)\n",
    "    return text\n",
    "\n",
    "# Tokenize the data\n",
    "def preprocess_function(examples):\n",
    "    # examples[\"sentence\"] = [sanitize_text(sentence) for sentence in examples[\"sentence\"]]\n",
    "    return tokenizer(examples[\"sentence\"], truncation=True, padding=True)\n",
    "\n",
    "tokenized_dataset = train_ds.map(preprocess_function, batched=True)\n",
    "tokenized_test_dataset = test_ds.map(preprocess_function, batched=True)"
   ]
  },
  {
   "cell_type": "code",
   "execution_count": 77,
   "metadata": {},
   "outputs": [
    {
     "name": "stderr",
     "output_type": "stream",
     "text": [
      "Some weights of BertForSequenceClassification were not initialized from the model checkpoint at sentence-transformers/all-MiniLM-L6-v2 and are newly initialized: ['classifier.bias', 'classifier.weight']\n",
      "You should probably TRAIN this model on a down-stream task to be able to use it for predictions and inference.\n"
     ]
    }
   ],
   "source": [
    "# Load the model with a classification head\n",
    "num_labels = 16 \n",
    "model = AutoModelForSequenceClassification.from_pretrained(model_name, num_labels=num_labels)"
   ]
  },
  {
   "cell_type": "code",
   "execution_count": 80,
   "metadata": {},
   "outputs": [],
   "source": [
    "# Define training arguments\n",
    "training_args = TrainingArguments(\n",
    "    output_dir=\"./results\",         # Directory to save checkpoints\n",
    "    # evaluation_strategy=\"epoch\",    # Evaluate at the end of each epoch\n",
    "    # learning_rate=5e-5,\n",
    "    # per_device_train_batch_size=16,\n",
    "    # num_train_epochs=3,\n",
    "    # weight_decay=0.01,\n",
    "    # logging_dir=\"./logs\",            # Directory for logs\n",
    "    # logging_steps=10,\n",
    "    # save_steps=500,\n",
    "    # save_total_limit=2,\n",
    "    # load_best_model_at_end=True,\n",
    ")"
   ]
  },
  {
   "cell_type": "code",
   "execution_count": 81,
   "metadata": {},
   "outputs": [],
   "source": [
    "def compute_metrics(eval_pred):\n",
    "    logits, labels = eval_pred\n",
    "    predictions = torch.argmax(torch.tensor(logits), axis=1)\n",
    "    return {\n",
    "        \"accuracy\": accuracy_score(labels, predictions),\n",
    "        \"f1\": f1_score(labels, predictions, average=\"weighted\"),\n",
    "    }\n",
    "\n",
    "# Initialize the Trainer\n",
    "trainer = Trainer(\n",
    "    model=model,\n",
    "    args=training_args,\n",
    "    train_dataset=tokenized_dataset,\n",
    "    eval_dataset=tokenized_test_dataset,\n",
    "    tokenizer=tokenizer,\n",
    "    compute_metrics=compute_metrics,\n",
    ")"
   ]
  },
  {
   "cell_type": "code",
   "execution_count": 82,
   "metadata": {},
   "outputs": [
    {
     "data": {
      "text/html": [
       "\n",
       "    <div>\n",
       "      \n",
       "      <progress value='3750' max='3750' style='width:300px; height:20px; vertical-align: middle;'></progress>\n",
       "      [3750/3750 04:15, Epoch 3/3]\n",
       "    </div>\n",
       "    <table border=\"1\" class=\"dataframe\">\n",
       "  <thead>\n",
       " <tr style=\"text-align: left;\">\n",
       "      <th>Step</th>\n",
       "      <th>Training Loss</th>\n",
       "    </tr>\n",
       "  </thead>\n",
       "  <tbody>\n",
       "    <tr>\n",
       "      <td>500</td>\n",
       "      <td>2.179200</td>\n",
       "    </tr>\n",
       "    <tr>\n",
       "      <td>1000</td>\n",
       "      <td>2.091500</td>\n",
       "    </tr>\n",
       "    <tr>\n",
       "      <td>1500</td>\n",
       "      <td>1.990300</td>\n",
       "    </tr>\n",
       "    <tr>\n",
       "      <td>2000</td>\n",
       "      <td>1.951700</td>\n",
       "    </tr>\n",
       "    <tr>\n",
       "      <td>2500</td>\n",
       "      <td>1.937800</td>\n",
       "    </tr>\n",
       "    <tr>\n",
       "      <td>3000</td>\n",
       "      <td>1.797800</td>\n",
       "    </tr>\n",
       "    <tr>\n",
       "      <td>3500</td>\n",
       "      <td>1.817100</td>\n",
       "    </tr>\n",
       "  </tbody>\n",
       "</table><p>"
      ],
      "text/plain": [
       "<IPython.core.display.HTML object>"
      ]
     },
     "metadata": {},
     "output_type": "display_data"
    },
    {
     "data": {
      "text/plain": [
       "TrainOutput(global_step=3750, training_loss=1.9536769368489584, metrics={'train_runtime': 256.2089, 'train_samples_per_second': 117.092, 'train_steps_per_second': 14.636, 'total_flos': 995471032320000.0, 'train_loss': 1.9536769368489584, 'epoch': 3.0})"
      ]
     },
     "execution_count": 82,
     "metadata": {},
     "output_type": "execute_result"
    }
   ],
   "source": [
    "trainer.train()"
   ]
  },
  {
   "cell_type": "code",
   "execution_count": 83,
   "metadata": {},
   "outputs": [
    {
     "data": {
      "text/html": [
       "\n",
       "    <div>\n",
       "      \n",
       "      <progress value='250' max='250' style='width:300px; height:20px; vertical-align: middle;'></progress>\n",
       "      [250/250 00:05]\n",
       "    </div>\n",
       "    "
      ],
      "text/plain": [
       "<IPython.core.display.HTML object>"
      ]
     },
     "metadata": {},
     "output_type": "display_data"
    },
    {
     "data": {
      "text/plain": [
       "{'eval_loss': 2.038999557495117,\n",
       " 'eval_accuracy': 0.302,\n",
       " 'eval_f1': 0.2551153977522228,\n",
       " 'eval_runtime': 5.583,\n",
       " 'eval_samples_per_second': 358.23,\n",
       " 'eval_steps_per_second': 44.779,\n",
       " 'epoch': 3.0}"
      ]
     },
     "execution_count": 83,
     "metadata": {},
     "output_type": "execute_result"
    }
   ],
   "source": [
    "trainer.evaluate()"
   ]
  },
  {
   "cell_type": "markdown",
   "metadata": {},
   "source": [
    "### Using SBERT sentence-transformers"
   ]
  },
  {
   "cell_type": "code",
   "execution_count": 11,
   "metadata": {},
   "outputs": [
    {
     "name": "stderr",
     "output_type": "stream",
     "text": [
      "No sentence-transformers model found with name distilbert-base-uncased. Creating a new one with mean pooling.\n"
     ]
    }
   ],
   "source": [
    "model = SentenceTransformer('distilbert-base-uncased',\n",
    "                            device='cuda')"
   ]
  },
  {
   "cell_type": "code",
   "execution_count": 14,
   "metadata": {},
   "outputs": [],
   "source": [
    "# Define the custom loss class\n",
    "class CrossEntropyLossWithHead(torch.nn.Module):\n",
    "    def __init__(self, model, num_classes):\n",
    "        super(CrossEntropyLossWithHead, self).__init__()\n",
    "        \n",
    "        # SBERT model\n",
    "        self.model = model  \n",
    "        \n",
    "        # Classification head\n",
    "        self.classifier = torch.nn.Linear(\n",
    "            model.get_sentence_embedding_dimension(), \n",
    "            num_classes)  \n",
    "        \n",
    "        self.loss = torch.nn.CrossEntropyLoss()\n",
    "\n",
    "    def forward(self, sentence_features, labels):\n",
    "        # Compute sentence embeddings\n",
    "        embeddings = self.model(sentence_features)['sentence_embedding']\n",
    "        \n",
    "        # Apply classifier head\n",
    "        logits = self.classifier(embeddings)\n",
    "        \n",
    "        # Compute cross-entropy loss\n",
    "        return self.loss(logits, labels)"
   ]
  },
  {
   "cell_type": "code",
   "execution_count": 15,
   "metadata": {},
   "outputs": [],
   "source": [
    "# Define number of MBTI types (16 in this case)\n",
    "num_classes = 16\n",
    "# loss = SoftmaxLoss(\n",
    "#     model=model,\n",
    "#     sentence_embedding_dimension=model.get_sentence_embedding_dimension(),\n",
    "#     num_labels=num_classes\n",
    "# )\n",
    "loss = CrossEntropyLossWithHead(model, num_classes)"
   ]
  },
  {
   "cell_type": "code",
   "execution_count": null,
   "metadata": {},
   "outputs": [],
   "source": [
    "# import os\n",
    "# os.environ[\"TOKENIZERS_PARALLELISM\"] = \"false\""
   ]
  },
  {
   "cell_type": "code",
   "execution_count": 16,
   "metadata": {},
   "outputs": [],
   "source": [
    "args = SentenceTransformerTrainingArguments(\n",
    "    # Required parameter:\n",
    "    output_dir=\"distilbert-base-personality\",\n",
    "    \n",
    "    # Optional training parameters:\n",
    "    num_train_epochs=4,\n",
    "    per_device_train_batch_size=16,\n",
    "    # learning_rate=2e-5,\n",
    "    # warmup_ratio=0.1,\n",
    "    # fp16=True,  # Set to False if you get an error that your GPU can't run on FP16\n",
    "    # bf16=False,  # Set to True if you have a GPU that supports BF16\n",
    "    # batch_sampler=BatchSamplers.NO_DUPLICATES,\n",
    "\n",
    "    # Optional tracking/debugging parameters:\n",
    "    logging_steps=100,\n",
    "    run_name=\"distilbert-base-personality\"\n",
    ")"
   ]
  },
  {
   "cell_type": "code",
   "execution_count": 17,
   "metadata": {},
   "outputs": [],
   "source": [
    "trainer = SentenceTransformerTrainer(\n",
    "    model=model,\n",
    "    args=args,\n",
    "    train_dataset=train_ds,\n",
    "    loss=loss\n",
    ")"
   ]
  },
  {
   "cell_type": "code",
   "execution_count": 18,
   "metadata": {},
   "outputs": [
    {
     "name": "stderr",
     "output_type": "stream",
     "text": [
      "\u001b[34m\u001b[1mwandb\u001b[0m: \u001b[33mWARNING\u001b[0m The `run_name` is currently set to the same value as `TrainingArguments.output_dir`. If this was not intended, please specify a different run name by setting the `TrainingArguments.run_name` parameter.\n",
      "Failed to detect the name of this notebook, you can set it manually with the WANDB_NOTEBOOK_NAME environment variable to enable code saving.\n",
      "huggingface/tokenizers: The current process just got forked, after parallelism has already been used. Disabling parallelism to avoid deadlocks...\n",
      "To disable this warning, you can either:\n",
      "\t- Avoid using `tokenizers` before the fork if possible\n",
      "\t- Explicitly set the environment variable TOKENIZERS_PARALLELISM=(true | false)\n",
      "\u001b[34m\u001b[1mwandb\u001b[0m: Currently logged in as: \u001b[33mstmorse\u001b[0m (\u001b[33mstmorse-wm\u001b[0m). Use \u001b[1m`wandb login --relogin`\u001b[0m to force relogin\n",
      "huggingface/tokenizers: The current process just got forked, after parallelism has already been used. Disabling parallelism to avoid deadlocks...\n",
      "To disable this warning, you can either:\n",
      "\t- Avoid using `tokenizers` before the fork if possible\n",
      "\t- Explicitly set the environment variable TOKENIZERS_PARALLELISM=(true | false)\n",
      "huggingface/tokenizers: The current process just got forked, after parallelism has already been used. Disabling parallelism to avoid deadlocks...\n",
      "To disable this warning, you can either:\n",
      "\t- Avoid using `tokenizers` before the fork if possible\n",
      "\t- Explicitly set the environment variable TOKENIZERS_PARALLELISM=(true | false)\n"
     ]
    },
    {
     "data": {
      "text/html": [
       "wandb version 0.18.7 is available!  To upgrade, please run:\n",
       " $ pip install wandb --upgrade"
      ],
      "text/plain": [
       "<IPython.core.display.HTML object>"
      ]
     },
     "metadata": {},
     "output_type": "display_data"
    },
    {
     "data": {
      "text/html": [
       "Tracking run with wandb version 0.16.6"
      ],
      "text/plain": [
       "<IPython.core.display.HTML object>"
      ]
     },
     "metadata": {},
     "output_type": "display_data"
    },
    {
     "data": {
      "text/html": [
       "Run data is saved locally in <code>/sciclone/home/stmorse/projects/reddit/analysis/wandb/run-20241202_090813-eqyklbru</code>"
      ],
      "text/plain": [
       "<IPython.core.display.HTML object>"
      ]
     },
     "metadata": {},
     "output_type": "display_data"
    },
    {
     "data": {
      "text/html": [
       "Syncing run <strong><a href='https://wandb.ai/stmorse-wm/sentence-transformers/runs/eqyklbru' target=\"_blank\">distilbert-base-personality</a></strong> to <a href='https://wandb.ai/stmorse-wm/sentence-transformers' target=\"_blank\">Weights & Biases</a> (<a href='https://wandb.me/run' target=\"_blank\">docs</a>)<br/>"
      ],
      "text/plain": [
       "<IPython.core.display.HTML object>"
      ]
     },
     "metadata": {},
     "output_type": "display_data"
    },
    {
     "data": {
      "text/html": [
       " View project at <a href='https://wandb.ai/stmorse-wm/sentence-transformers' target=\"_blank\">https://wandb.ai/stmorse-wm/sentence-transformers</a>"
      ],
      "text/plain": [
       "<IPython.core.display.HTML object>"
      ]
     },
     "metadata": {},
     "output_type": "display_data"
    },
    {
     "data": {
      "text/html": [
       " View run at <a href='https://wandb.ai/stmorse-wm/sentence-transformers/runs/eqyklbru' target=\"_blank\">https://wandb.ai/stmorse-wm/sentence-transformers/runs/eqyklbru</a>"
      ],
      "text/plain": [
       "<IPython.core.display.HTML object>"
      ]
     },
     "metadata": {},
     "output_type": "display_data"
    },
    {
     "ename": "TypeError",
     "evalue": "list indices must be integers or slices, not str",
     "output_type": "error",
     "traceback": [
      "\u001b[0;31m---------------------------------------------------------------------------\u001b[0m",
      "\u001b[0;31mTypeError\u001b[0m                                 Traceback (most recent call last)",
      "Cell \u001b[0;32mIn[18], line 1\u001b[0m\n\u001b[0;32m----> 1\u001b[0m trainer\u001b[38;5;241m.\u001b[39mtrain()\n",
      "File \u001b[0;32m~/.conda/envs/torch-tik-env/lib/python3.12/site-packages/transformers/trainer.py:2052\u001b[0m, in \u001b[0;36mTrainer.train\u001b[0;34m(self, resume_from_checkpoint, trial, ignore_keys_for_eval, **kwargs)\u001b[0m\n\u001b[1;32m   2050\u001b[0m         hf_hub_utils\u001b[38;5;241m.\u001b[39menable_progress_bars()\n\u001b[1;32m   2051\u001b[0m \u001b[38;5;28;01melse\u001b[39;00m:\n\u001b[0;32m-> 2052\u001b[0m     \u001b[38;5;28;01mreturn\u001b[39;00m inner_training_loop(\n\u001b[1;32m   2053\u001b[0m         args\u001b[38;5;241m=\u001b[39margs,\n\u001b[1;32m   2054\u001b[0m         resume_from_checkpoint\u001b[38;5;241m=\u001b[39mresume_from_checkpoint,\n\u001b[1;32m   2055\u001b[0m         trial\u001b[38;5;241m=\u001b[39mtrial,\n\u001b[1;32m   2056\u001b[0m         ignore_keys_for_eval\u001b[38;5;241m=\u001b[39mignore_keys_for_eval,\n\u001b[1;32m   2057\u001b[0m     )\n",
      "File \u001b[0;32m~/.conda/envs/torch-tik-env/lib/python3.12/site-packages/transformers/trainer.py:2388\u001b[0m, in \u001b[0;36mTrainer._inner_training_loop\u001b[0;34m(self, batch_size, args, resume_from_checkpoint, trial, ignore_keys_for_eval)\u001b[0m\n\u001b[1;32m   2385\u001b[0m     \u001b[38;5;28mself\u001b[39m\u001b[38;5;241m.\u001b[39mcontrol \u001b[38;5;241m=\u001b[39m \u001b[38;5;28mself\u001b[39m\u001b[38;5;241m.\u001b[39mcallback_handler\u001b[38;5;241m.\u001b[39mon_step_begin(args, \u001b[38;5;28mself\u001b[39m\u001b[38;5;241m.\u001b[39mstate, \u001b[38;5;28mself\u001b[39m\u001b[38;5;241m.\u001b[39mcontrol)\n\u001b[1;32m   2387\u001b[0m \u001b[38;5;28;01mwith\u001b[39;00m \u001b[38;5;28mself\u001b[39m\u001b[38;5;241m.\u001b[39maccelerator\u001b[38;5;241m.\u001b[39maccumulate(model):\n\u001b[0;32m-> 2388\u001b[0m     tr_loss_step \u001b[38;5;241m=\u001b[39m \u001b[38;5;28mself\u001b[39m\u001b[38;5;241m.\u001b[39mtraining_step(model, inputs)\n\u001b[1;32m   2390\u001b[0m \u001b[38;5;28;01mif\u001b[39;00m (\n\u001b[1;32m   2391\u001b[0m     args\u001b[38;5;241m.\u001b[39mlogging_nan_inf_filter\n\u001b[1;32m   2392\u001b[0m     \u001b[38;5;129;01mand\u001b[39;00m \u001b[38;5;129;01mnot\u001b[39;00m is_torch_xla_available()\n\u001b[1;32m   2393\u001b[0m     \u001b[38;5;129;01mand\u001b[39;00m (torch\u001b[38;5;241m.\u001b[39misnan(tr_loss_step) \u001b[38;5;129;01mor\u001b[39;00m torch\u001b[38;5;241m.\u001b[39misinf(tr_loss_step))\n\u001b[1;32m   2394\u001b[0m ):\n\u001b[1;32m   2395\u001b[0m     \u001b[38;5;66;03m# if loss is nan or inf simply add the average of previous logged losses\u001b[39;00m\n\u001b[1;32m   2396\u001b[0m     tr_loss \u001b[38;5;241m+\u001b[39m\u001b[38;5;241m=\u001b[39m tr_loss \u001b[38;5;241m/\u001b[39m (\u001b[38;5;241m1\u001b[39m \u001b[38;5;241m+\u001b[39m \u001b[38;5;28mself\u001b[39m\u001b[38;5;241m.\u001b[39mstate\u001b[38;5;241m.\u001b[39mglobal_step \u001b[38;5;241m-\u001b[39m \u001b[38;5;28mself\u001b[39m\u001b[38;5;241m.\u001b[39m_globalstep_last_logged)\n",
      "File \u001b[0;32m~/.conda/envs/torch-tik-env/lib/python3.12/site-packages/transformers/trainer.py:3485\u001b[0m, in \u001b[0;36mTrainer.training_step\u001b[0;34m(self, model, inputs)\u001b[0m\n\u001b[1;32m   3482\u001b[0m     \u001b[38;5;28;01mreturn\u001b[39;00m loss_mb\u001b[38;5;241m.\u001b[39mreduce_mean()\u001b[38;5;241m.\u001b[39mdetach()\u001b[38;5;241m.\u001b[39mto(\u001b[38;5;28mself\u001b[39m\u001b[38;5;241m.\u001b[39margs\u001b[38;5;241m.\u001b[39mdevice)\n\u001b[1;32m   3484\u001b[0m \u001b[38;5;28;01mwith\u001b[39;00m \u001b[38;5;28mself\u001b[39m\u001b[38;5;241m.\u001b[39mcompute_loss_context_manager():\n\u001b[0;32m-> 3485\u001b[0m     loss \u001b[38;5;241m=\u001b[39m \u001b[38;5;28mself\u001b[39m\u001b[38;5;241m.\u001b[39mcompute_loss(model, inputs)\n\u001b[1;32m   3487\u001b[0m \u001b[38;5;28;01mdel\u001b[39;00m inputs\n\u001b[1;32m   3488\u001b[0m \u001b[38;5;28;01mif\u001b[39;00m (\n\u001b[1;32m   3489\u001b[0m     \u001b[38;5;28mself\u001b[39m\u001b[38;5;241m.\u001b[39margs\u001b[38;5;241m.\u001b[39mtorch_empty_cache_steps \u001b[38;5;129;01mis\u001b[39;00m \u001b[38;5;129;01mnot\u001b[39;00m \u001b[38;5;28;01mNone\u001b[39;00m\n\u001b[1;32m   3490\u001b[0m     \u001b[38;5;129;01mand\u001b[39;00m \u001b[38;5;28mself\u001b[39m\u001b[38;5;241m.\u001b[39mstate\u001b[38;5;241m.\u001b[39mglobal_step \u001b[38;5;241m%\u001b[39m \u001b[38;5;28mself\u001b[39m\u001b[38;5;241m.\u001b[39margs\u001b[38;5;241m.\u001b[39mtorch_empty_cache_steps \u001b[38;5;241m==\u001b[39m \u001b[38;5;241m0\u001b[39m\n\u001b[1;32m   3491\u001b[0m ):\n",
      "File \u001b[0;32m~/.conda/envs/torch-tik-env/lib/python3.12/site-packages/sentence_transformers/trainer.py:344\u001b[0m, in \u001b[0;36mSentenceTransformerTrainer.compute_loss\u001b[0;34m(self, model, inputs, return_outputs)\u001b[0m\n\u001b[1;32m    337\u001b[0m \u001b[38;5;28;01mif\u001b[39;00m (\n\u001b[1;32m    338\u001b[0m     model \u001b[38;5;241m==\u001b[39m \u001b[38;5;28mself\u001b[39m\u001b[38;5;241m.\u001b[39mmodel_wrapped\n\u001b[1;32m    339\u001b[0m     \u001b[38;5;129;01mand\u001b[39;00m model \u001b[38;5;241m!=\u001b[39m \u001b[38;5;28mself\u001b[39m\u001b[38;5;241m.\u001b[39mmodel  \u001b[38;5;66;03m# Only if the model is wrapped\u001b[39;00m\n\u001b[1;32m    340\u001b[0m     \u001b[38;5;129;01mand\u001b[39;00m \u001b[38;5;28mhasattr\u001b[39m(loss_fn, \u001b[38;5;124m\"\u001b[39m\u001b[38;5;124mmodel\u001b[39m\u001b[38;5;124m\"\u001b[39m)  \u001b[38;5;66;03m# Only if the loss stores the model\u001b[39;00m\n\u001b[1;32m    341\u001b[0m     \u001b[38;5;129;01mand\u001b[39;00m loss_fn\u001b[38;5;241m.\u001b[39mmodel \u001b[38;5;241m!=\u001b[39m model  \u001b[38;5;66;03m# Only if the wrapped model is not already stored\u001b[39;00m\n\u001b[1;32m    342\u001b[0m ):\n\u001b[1;32m    343\u001b[0m     loss_fn \u001b[38;5;241m=\u001b[39m \u001b[38;5;28mself\u001b[39m\u001b[38;5;241m.\u001b[39moverride_model_in_loss(loss_fn, model)\n\u001b[0;32m--> 344\u001b[0m loss \u001b[38;5;241m=\u001b[39m loss_fn(features, labels)\n\u001b[1;32m    345\u001b[0m \u001b[38;5;28;01mif\u001b[39;00m return_outputs:\n\u001b[1;32m    346\u001b[0m     \u001b[38;5;66;03m# During prediction/evaluation, `compute_loss` will be called with `return_outputs=True`.\u001b[39;00m\n\u001b[1;32m    347\u001b[0m     \u001b[38;5;66;03m# However, Sentence Transformer losses do not return outputs, so we return an empty dictionary.\u001b[39;00m\n\u001b[1;32m    348\u001b[0m     \u001b[38;5;66;03m# This does not result in any problems, as the SentenceTransformerTrainingArguments sets\u001b[39;00m\n\u001b[1;32m    349\u001b[0m     \u001b[38;5;66;03m# `prediction_loss_only=True` which means that the output is not used.\u001b[39;00m\n\u001b[1;32m    350\u001b[0m     \u001b[38;5;28;01mreturn\u001b[39;00m loss, {}\n",
      "File \u001b[0;32m~/.conda/envs/torch-tik-env/lib/python3.12/site-packages/torch/nn/modules/module.py:1553\u001b[0m, in \u001b[0;36mModule._wrapped_call_impl\u001b[0;34m(self, *args, **kwargs)\u001b[0m\n\u001b[1;32m   1551\u001b[0m     \u001b[38;5;28;01mreturn\u001b[39;00m \u001b[38;5;28mself\u001b[39m\u001b[38;5;241m.\u001b[39m_compiled_call_impl(\u001b[38;5;241m*\u001b[39margs, \u001b[38;5;241m*\u001b[39m\u001b[38;5;241m*\u001b[39mkwargs)  \u001b[38;5;66;03m# type: ignore[misc]\u001b[39;00m\n\u001b[1;32m   1552\u001b[0m \u001b[38;5;28;01melse\u001b[39;00m:\n\u001b[0;32m-> 1553\u001b[0m     \u001b[38;5;28;01mreturn\u001b[39;00m \u001b[38;5;28mself\u001b[39m\u001b[38;5;241m.\u001b[39m_call_impl(\u001b[38;5;241m*\u001b[39margs, \u001b[38;5;241m*\u001b[39m\u001b[38;5;241m*\u001b[39mkwargs)\n",
      "File \u001b[0;32m~/.conda/envs/torch-tik-env/lib/python3.12/site-packages/torch/nn/modules/module.py:1562\u001b[0m, in \u001b[0;36mModule._call_impl\u001b[0;34m(self, *args, **kwargs)\u001b[0m\n\u001b[1;32m   1557\u001b[0m \u001b[38;5;66;03m# If we don't have any hooks, we want to skip the rest of the logic in\u001b[39;00m\n\u001b[1;32m   1558\u001b[0m \u001b[38;5;66;03m# this function, and just call forward.\u001b[39;00m\n\u001b[1;32m   1559\u001b[0m \u001b[38;5;28;01mif\u001b[39;00m \u001b[38;5;129;01mnot\u001b[39;00m (\u001b[38;5;28mself\u001b[39m\u001b[38;5;241m.\u001b[39m_backward_hooks \u001b[38;5;129;01mor\u001b[39;00m \u001b[38;5;28mself\u001b[39m\u001b[38;5;241m.\u001b[39m_backward_pre_hooks \u001b[38;5;129;01mor\u001b[39;00m \u001b[38;5;28mself\u001b[39m\u001b[38;5;241m.\u001b[39m_forward_hooks \u001b[38;5;129;01mor\u001b[39;00m \u001b[38;5;28mself\u001b[39m\u001b[38;5;241m.\u001b[39m_forward_pre_hooks\n\u001b[1;32m   1560\u001b[0m         \u001b[38;5;129;01mor\u001b[39;00m _global_backward_pre_hooks \u001b[38;5;129;01mor\u001b[39;00m _global_backward_hooks\n\u001b[1;32m   1561\u001b[0m         \u001b[38;5;129;01mor\u001b[39;00m _global_forward_hooks \u001b[38;5;129;01mor\u001b[39;00m _global_forward_pre_hooks):\n\u001b[0;32m-> 1562\u001b[0m     \u001b[38;5;28;01mreturn\u001b[39;00m forward_call(\u001b[38;5;241m*\u001b[39margs, \u001b[38;5;241m*\u001b[39m\u001b[38;5;241m*\u001b[39mkwargs)\n\u001b[1;32m   1564\u001b[0m \u001b[38;5;28;01mtry\u001b[39;00m:\n\u001b[1;32m   1565\u001b[0m     result \u001b[38;5;241m=\u001b[39m \u001b[38;5;28;01mNone\u001b[39;00m\n",
      "Cell \u001b[0;32mIn[14], line 18\u001b[0m, in \u001b[0;36mCrossEntropyLossWithHead.forward\u001b[0;34m(self, sentence_features, labels)\u001b[0m\n\u001b[1;32m     16\u001b[0m \u001b[38;5;28;01mdef\u001b[39;00m \u001b[38;5;21mforward\u001b[39m(\u001b[38;5;28mself\u001b[39m, sentence_features, labels):\n\u001b[1;32m     17\u001b[0m     \u001b[38;5;66;03m# Compute sentence embeddings\u001b[39;00m\n\u001b[0;32m---> 18\u001b[0m     embeddings \u001b[38;5;241m=\u001b[39m \u001b[38;5;28mself\u001b[39m\u001b[38;5;241m.\u001b[39mmodel(sentence_features)[\u001b[38;5;124m'\u001b[39m\u001b[38;5;124msentence_embedding\u001b[39m\u001b[38;5;124m'\u001b[39m]\n\u001b[1;32m     20\u001b[0m     \u001b[38;5;66;03m# Apply classifier head\u001b[39;00m\n\u001b[1;32m     21\u001b[0m     logits \u001b[38;5;241m=\u001b[39m \u001b[38;5;28mself\u001b[39m\u001b[38;5;241m.\u001b[39mclassifier(embeddings)\n",
      "File \u001b[0;32m~/.conda/envs/torch-tik-env/lib/python3.12/site-packages/torch/nn/modules/module.py:1553\u001b[0m, in \u001b[0;36mModule._wrapped_call_impl\u001b[0;34m(self, *args, **kwargs)\u001b[0m\n\u001b[1;32m   1551\u001b[0m     \u001b[38;5;28;01mreturn\u001b[39;00m \u001b[38;5;28mself\u001b[39m\u001b[38;5;241m.\u001b[39m_compiled_call_impl(\u001b[38;5;241m*\u001b[39margs, \u001b[38;5;241m*\u001b[39m\u001b[38;5;241m*\u001b[39mkwargs)  \u001b[38;5;66;03m# type: ignore[misc]\u001b[39;00m\n\u001b[1;32m   1552\u001b[0m \u001b[38;5;28;01melse\u001b[39;00m:\n\u001b[0;32m-> 1553\u001b[0m     \u001b[38;5;28;01mreturn\u001b[39;00m \u001b[38;5;28mself\u001b[39m\u001b[38;5;241m.\u001b[39m_call_impl(\u001b[38;5;241m*\u001b[39margs, \u001b[38;5;241m*\u001b[39m\u001b[38;5;241m*\u001b[39mkwargs)\n",
      "File \u001b[0;32m~/.conda/envs/torch-tik-env/lib/python3.12/site-packages/torch/nn/modules/module.py:1562\u001b[0m, in \u001b[0;36mModule._call_impl\u001b[0;34m(self, *args, **kwargs)\u001b[0m\n\u001b[1;32m   1557\u001b[0m \u001b[38;5;66;03m# If we don't have any hooks, we want to skip the rest of the logic in\u001b[39;00m\n\u001b[1;32m   1558\u001b[0m \u001b[38;5;66;03m# this function, and just call forward.\u001b[39;00m\n\u001b[1;32m   1559\u001b[0m \u001b[38;5;28;01mif\u001b[39;00m \u001b[38;5;129;01mnot\u001b[39;00m (\u001b[38;5;28mself\u001b[39m\u001b[38;5;241m.\u001b[39m_backward_hooks \u001b[38;5;129;01mor\u001b[39;00m \u001b[38;5;28mself\u001b[39m\u001b[38;5;241m.\u001b[39m_backward_pre_hooks \u001b[38;5;129;01mor\u001b[39;00m \u001b[38;5;28mself\u001b[39m\u001b[38;5;241m.\u001b[39m_forward_hooks \u001b[38;5;129;01mor\u001b[39;00m \u001b[38;5;28mself\u001b[39m\u001b[38;5;241m.\u001b[39m_forward_pre_hooks\n\u001b[1;32m   1560\u001b[0m         \u001b[38;5;129;01mor\u001b[39;00m _global_backward_pre_hooks \u001b[38;5;129;01mor\u001b[39;00m _global_backward_hooks\n\u001b[1;32m   1561\u001b[0m         \u001b[38;5;129;01mor\u001b[39;00m _global_forward_hooks \u001b[38;5;129;01mor\u001b[39;00m _global_forward_pre_hooks):\n\u001b[0;32m-> 1562\u001b[0m     \u001b[38;5;28;01mreturn\u001b[39;00m forward_call(\u001b[38;5;241m*\u001b[39margs, \u001b[38;5;241m*\u001b[39m\u001b[38;5;241m*\u001b[39mkwargs)\n\u001b[1;32m   1564\u001b[0m \u001b[38;5;28;01mtry\u001b[39;00m:\n\u001b[1;32m   1565\u001b[0m     result \u001b[38;5;241m=\u001b[39m \u001b[38;5;28;01mNone\u001b[39;00m\n",
      "File \u001b[0;32m~/.conda/envs/torch-tik-env/lib/python3.12/site-packages/sentence_transformers/SentenceTransformer.py:683\u001b[0m, in \u001b[0;36mSentenceTransformer.forward\u001b[0;34m(self, input, **kwargs)\u001b[0m\n\u001b[1;32m    681\u001b[0m \u001b[38;5;28;01mdef\u001b[39;00m \u001b[38;5;21mforward\u001b[39m(\u001b[38;5;28mself\u001b[39m, \u001b[38;5;28minput\u001b[39m: \u001b[38;5;28mdict\u001b[39m[\u001b[38;5;28mstr\u001b[39m, Tensor], \u001b[38;5;241m*\u001b[39m\u001b[38;5;241m*\u001b[39mkwargs) \u001b[38;5;241m-\u001b[39m\u001b[38;5;241m>\u001b[39m \u001b[38;5;28mdict\u001b[39m[\u001b[38;5;28mstr\u001b[39m, Tensor]:\n\u001b[1;32m    682\u001b[0m     \u001b[38;5;28;01mif\u001b[39;00m \u001b[38;5;28mself\u001b[39m\u001b[38;5;241m.\u001b[39mmodule_kwargs \u001b[38;5;129;01mis\u001b[39;00m \u001b[38;5;28;01mNone\u001b[39;00m:\n\u001b[0;32m--> 683\u001b[0m         \u001b[38;5;28;01mreturn\u001b[39;00m \u001b[38;5;28msuper\u001b[39m()\u001b[38;5;241m.\u001b[39mforward(\u001b[38;5;28minput\u001b[39m)\n\u001b[1;32m    685\u001b[0m     \u001b[38;5;28;01mfor\u001b[39;00m module_name, module \u001b[38;5;129;01min\u001b[39;00m \u001b[38;5;28mself\u001b[39m\u001b[38;5;241m.\u001b[39mnamed_children():\n\u001b[1;32m    686\u001b[0m         module_kwarg_keys \u001b[38;5;241m=\u001b[39m \u001b[38;5;28mself\u001b[39m\u001b[38;5;241m.\u001b[39mmodule_kwargs\u001b[38;5;241m.\u001b[39mget(module_name, [])\n",
      "File \u001b[0;32m~/.conda/envs/torch-tik-env/lib/python3.12/site-packages/torch/nn/modules/container.py:219\u001b[0m, in \u001b[0;36mSequential.forward\u001b[0;34m(self, input)\u001b[0m\n\u001b[1;32m    217\u001b[0m \u001b[38;5;28;01mdef\u001b[39;00m \u001b[38;5;21mforward\u001b[39m(\u001b[38;5;28mself\u001b[39m, \u001b[38;5;28minput\u001b[39m):\n\u001b[1;32m    218\u001b[0m     \u001b[38;5;28;01mfor\u001b[39;00m module \u001b[38;5;129;01min\u001b[39;00m \u001b[38;5;28mself\u001b[39m:\n\u001b[0;32m--> 219\u001b[0m         \u001b[38;5;28minput\u001b[39m \u001b[38;5;241m=\u001b[39m module(\u001b[38;5;28minput\u001b[39m)\n\u001b[1;32m    220\u001b[0m     \u001b[38;5;28;01mreturn\u001b[39;00m \u001b[38;5;28minput\u001b[39m\n",
      "File \u001b[0;32m~/.conda/envs/torch-tik-env/lib/python3.12/site-packages/torch/nn/modules/module.py:1553\u001b[0m, in \u001b[0;36mModule._wrapped_call_impl\u001b[0;34m(self, *args, **kwargs)\u001b[0m\n\u001b[1;32m   1551\u001b[0m     \u001b[38;5;28;01mreturn\u001b[39;00m \u001b[38;5;28mself\u001b[39m\u001b[38;5;241m.\u001b[39m_compiled_call_impl(\u001b[38;5;241m*\u001b[39margs, \u001b[38;5;241m*\u001b[39m\u001b[38;5;241m*\u001b[39mkwargs)  \u001b[38;5;66;03m# type: ignore[misc]\u001b[39;00m\n\u001b[1;32m   1552\u001b[0m \u001b[38;5;28;01melse\u001b[39;00m:\n\u001b[0;32m-> 1553\u001b[0m     \u001b[38;5;28;01mreturn\u001b[39;00m \u001b[38;5;28mself\u001b[39m\u001b[38;5;241m.\u001b[39m_call_impl(\u001b[38;5;241m*\u001b[39margs, \u001b[38;5;241m*\u001b[39m\u001b[38;5;241m*\u001b[39mkwargs)\n",
      "File \u001b[0;32m~/.conda/envs/torch-tik-env/lib/python3.12/site-packages/torch/nn/modules/module.py:1562\u001b[0m, in \u001b[0;36mModule._call_impl\u001b[0;34m(self, *args, **kwargs)\u001b[0m\n\u001b[1;32m   1557\u001b[0m \u001b[38;5;66;03m# If we don't have any hooks, we want to skip the rest of the logic in\u001b[39;00m\n\u001b[1;32m   1558\u001b[0m \u001b[38;5;66;03m# this function, and just call forward.\u001b[39;00m\n\u001b[1;32m   1559\u001b[0m \u001b[38;5;28;01mif\u001b[39;00m \u001b[38;5;129;01mnot\u001b[39;00m (\u001b[38;5;28mself\u001b[39m\u001b[38;5;241m.\u001b[39m_backward_hooks \u001b[38;5;129;01mor\u001b[39;00m \u001b[38;5;28mself\u001b[39m\u001b[38;5;241m.\u001b[39m_backward_pre_hooks \u001b[38;5;129;01mor\u001b[39;00m \u001b[38;5;28mself\u001b[39m\u001b[38;5;241m.\u001b[39m_forward_hooks \u001b[38;5;129;01mor\u001b[39;00m \u001b[38;5;28mself\u001b[39m\u001b[38;5;241m.\u001b[39m_forward_pre_hooks\n\u001b[1;32m   1560\u001b[0m         \u001b[38;5;129;01mor\u001b[39;00m _global_backward_pre_hooks \u001b[38;5;129;01mor\u001b[39;00m _global_backward_hooks\n\u001b[1;32m   1561\u001b[0m         \u001b[38;5;129;01mor\u001b[39;00m _global_forward_hooks \u001b[38;5;129;01mor\u001b[39;00m _global_forward_pre_hooks):\n\u001b[0;32m-> 1562\u001b[0m     \u001b[38;5;28;01mreturn\u001b[39;00m forward_call(\u001b[38;5;241m*\u001b[39margs, \u001b[38;5;241m*\u001b[39m\u001b[38;5;241m*\u001b[39mkwargs)\n\u001b[1;32m   1564\u001b[0m \u001b[38;5;28;01mtry\u001b[39;00m:\n\u001b[1;32m   1565\u001b[0m     result \u001b[38;5;241m=\u001b[39m \u001b[38;5;28;01mNone\u001b[39;00m\n",
      "File \u001b[0;32m~/.conda/envs/torch-tik-env/lib/python3.12/site-packages/sentence_transformers/models/Transformer.py:346\u001b[0m, in \u001b[0;36mTransformer.forward\u001b[0;34m(self, features, **kwargs)\u001b[0m\n\u001b[1;32m    344\u001b[0m \u001b[38;5;28;01mdef\u001b[39;00m \u001b[38;5;21mforward\u001b[39m(\u001b[38;5;28mself\u001b[39m, features: \u001b[38;5;28mdict\u001b[39m[\u001b[38;5;28mstr\u001b[39m, torch\u001b[38;5;241m.\u001b[39mTensor], \u001b[38;5;241m*\u001b[39m\u001b[38;5;241m*\u001b[39mkwargs) \u001b[38;5;241m-\u001b[39m\u001b[38;5;241m>\u001b[39m \u001b[38;5;28mdict\u001b[39m[\u001b[38;5;28mstr\u001b[39m, torch\u001b[38;5;241m.\u001b[39mTensor]:\n\u001b[1;32m    345\u001b[0m \u001b[38;5;250m    \u001b[39m\u001b[38;5;124;03m\"\"\"Returns token_embeddings, cls_token\"\"\"\u001b[39;00m\n\u001b[0;32m--> 346\u001b[0m     trans_features \u001b[38;5;241m=\u001b[39m {\u001b[38;5;124m\"\u001b[39m\u001b[38;5;124minput_ids\u001b[39m\u001b[38;5;124m\"\u001b[39m: features[\u001b[38;5;124m\"\u001b[39m\u001b[38;5;124minput_ids\u001b[39m\u001b[38;5;124m\"\u001b[39m], \u001b[38;5;124m\"\u001b[39m\u001b[38;5;124mattention_mask\u001b[39m\u001b[38;5;124m\"\u001b[39m: features[\u001b[38;5;124m\"\u001b[39m\u001b[38;5;124mattention_mask\u001b[39m\u001b[38;5;124m\"\u001b[39m]}\n\u001b[1;32m    347\u001b[0m     \u001b[38;5;28;01mif\u001b[39;00m \u001b[38;5;124m\"\u001b[39m\u001b[38;5;124mtoken_type_ids\u001b[39m\u001b[38;5;124m\"\u001b[39m \u001b[38;5;129;01min\u001b[39;00m features:\n\u001b[1;32m    348\u001b[0m         trans_features[\u001b[38;5;124m\"\u001b[39m\u001b[38;5;124mtoken_type_ids\u001b[39m\u001b[38;5;124m\"\u001b[39m] \u001b[38;5;241m=\u001b[39m features[\u001b[38;5;124m\"\u001b[39m\u001b[38;5;124mtoken_type_ids\u001b[39m\u001b[38;5;124m\"\u001b[39m]\n",
      "\u001b[0;31mTypeError\u001b[0m: list indices must be integers or slices, not str"
     ]
    }
   ],
   "source": [
    "trainer.train()"
   ]
  },
  {
   "cell_type": "code",
   "execution_count": null,
   "metadata": {},
   "outputs": [],
   "source": [
    "predictions = []\n",
    "for sentence in test_sentences:\n",
    "    embedding = model.encode(sentence)\n",
    "    predictions.append(model.predict(embedding))  # Or use a classifier layer\n",
    "\n",
    "print(classification_report(test_labels, predictions))"
   ]
  },
  {
   "cell_type": "code",
   "execution_count": null,
   "metadata": {},
   "outputs": [],
   "source": []
  },
  {
   "cell_type": "markdown",
   "metadata": {},
   "source": [
    "## Off-the-shelf model"
   ]
  },
  {
   "cell_type": "code",
   "execution_count": 2,
   "metadata": {},
   "outputs": [],
   "source": [
    "def softmax(logits):\n",
    "    exp_logits = np.exp(logits) \n",
    "    return exp_logits / np.sum(exp_logits)"
   ]
  },
  {
   "cell_type": "code",
   "execution_count": 11,
   "metadata": {},
   "outputs": [],
   "source": [
    "def personality_detection(text):\n",
    "    tokenizer = transformers.BertTokenizer.from_pretrained(\"Minej/bert-base-personality\")\n",
    "    model = transformers.BertForSequenceClassification.from_pretrained(\"Minej/bert-base-personality\")\n",
    "\n",
    "    inputs = tokenizer(text, truncation=True, padding=True, return_tensors=\"pt\")\n",
    "    outputs = model(**inputs)\n",
    "    predictions = outputs.logits.squeeze().detach().numpy()\n",
    "    \n",
    "    # convert logit to prob (??)\n",
    "    # predictions = softmax(predictions)\n",
    "\n",
    "    label_names = ['Extroversion', 'Neuroticism', 'Agreeableness', 'Conscientiousness', 'Openness']\n",
    "    result = {label_names[i]: predictions[i] for i in range(len(label_names))}\n",
    "\n",
    "    return result"
   ]
  },
  {
   "cell_type": "code",
   "execution_count": 13,
   "metadata": {},
   "outputs": [
    {
     "name": "stdout",
     "output_type": "stream",
     "text": [
      "Extroversion: -0.13\n",
      "Neuroticism: 0.28\n",
      "Agreeableness: -0.23\n",
      "Conscientiousness: -0.82\n",
      "Openness: -0.07\n"
     ]
    }
   ],
   "source": [
    "text_input = \"Being around people fills me with energy\"\n",
    "personality_prediction = personality_detection(text_input)\n",
    "\n",
    "print('\\n'.join([f'{k}: {v:.2f}' for k,v in personality_prediction.items()]))"
   ]
  },
  {
   "cell_type": "code",
   "execution_count": 4,
   "metadata": {},
   "outputs": [
    {
     "data": {
      "text/plain": [
       "{'Extroversion': -0.060873274,\n",
       " 'Neuroticism': 0.13655815,\n",
       " 'Agreeableness': -0.27149466,\n",
       " 'Conscientiousness': -0.8811069,\n",
       " 'Openness': -0.20495062}"
      ]
     },
     "execution_count": 4,
     "metadata": {},
     "output_type": "execute_result"
    }
   ],
   "source": [
    "personality_detection('This is another really amazing test of this classifier!!')"
   ]
  },
  {
   "cell_type": "markdown",
   "metadata": {},
   "source": [
    "# Sentiment embedding"
   ]
  },
  {
   "cell_type": "markdown",
   "metadata": {},
   "source": [
    "## Clustering sentiment (base) embeddings"
   ]
  },
  {
   "cell_type": "code",
   "execution_count": 111,
   "metadata": {},
   "outputs": [],
   "source": [
    "# Specify the pre-trained model name or path\n",
    "model_name = \"bhadresh-savani/distilbert-base-uncased-emotion\"\n",
    "tokenizer = AutoTokenizer.from_pretrained(model_name)\n",
    "\n",
    "# Load the pre-trained sentiment classification model\n",
    "model = AutoModelForSequenceClassification.from_pretrained(model_name)\n",
    "\n",
    "# Extract the fine-tuned base model\n",
    "base_model = model.base_model\n",
    "\n",
    "def get_sentiment_base_embedding(sentences):\n",
    "    # Tokenize the input\n",
    "    inputs = tokenizer(sentences, return_tensors=\"pt\", truncation=True, padding=True)\n",
    "\n",
    "    # Get the hidden states from the fine-tuned base model\n",
    "    with torch.no_grad():\n",
    "        outputs = base_model(**inputs)\n",
    "        hidden_states = outputs.last_hidden_state  # Shape: [batch_size, seq_length, hidden_size]\n",
    "\n",
    "    # mean pooling\n",
    "    attention_mask = inputs['attention_mask']  # Shape: [batch_size, seq_length]\n",
    "    sentence_embedding = (hidden_states * attention_mask.unsqueeze(-1)).sum(dim=1) / \\\n",
    "        attention_mask.sum(dim=1, keepdim=True)\n",
    "\n",
    "    return sentences"
   ]
  },
  {
   "cell_type": "code",
   "execution_count": null,
   "metadata": {},
   "outputs": [],
   "source": [
    "2+2"
   ]
  },
  {
   "cell_type": "code",
   "execution_count": 112,
   "metadata": {},
   "outputs": [
    {
     "name": "stdout",
     "output_type": "stream",
     "text": [
      "Load sentences\n",
      "Compute sentiment embeddings\n"
     ]
    },
    {
     "ename": "",
     "evalue": "",
     "output_type": "error",
     "traceback": [
      "\u001b[1;31mThe Kernel crashed while executing code in the current cell or a previous cell. \n",
      "\u001b[1;31mPlease review the code in the cell(s) to identify a possible cause of the failure. \n",
      "\u001b[1;31mClick <a href='https://aka.ms/vscodeJupyterKernelCrash'>here</a> for more info. \n",
      "\u001b[1;31mView Jupyter <a href='command:jupyter.viewOutput'>log</a> for further details."
     ]
    }
   ],
   "source": [
    "print('Load sentences')\n",
    "raw_sentences = utils.load_sentences_bz2(DATA_PATH, 2007, '01')\n",
    "\n",
    "print('Compute sentiment embeddings')\n",
    "sentiment_embeddings = get_sentiment_base_embedding(raw_sentences)\n",
    "sentiment_embeddings.shape"
   ]
  },
  {
   "cell_type": "markdown",
   "metadata": {},
   "source": [
    "## Comparing sentiment (base) embeddings to original embeddings"
   ]
  },
  {
   "cell_type": "code",
   "execution_count": 97,
   "metadata": {},
   "outputs": [],
   "source": [
    "# Specify the pre-trained model name or path\n",
    "model_name = \"bhadresh-savani/distilbert-base-uncased-emotion\"\n",
    "tokenizer = AutoTokenizer.from_pretrained(model_name)\n",
    "\n",
    "# Load the pre-trained sentiment classification model\n",
    "model = AutoModelForSequenceClassification.from_pretrained(model_name)"
   ]
  },
  {
   "cell_type": "code",
   "execution_count": 98,
   "metadata": {},
   "outputs": [],
   "source": [
    "# Extract the fine-tuned base model\n",
    "base_model = model.base_model"
   ]
  },
  {
   "cell_type": "code",
   "execution_count": 110,
   "metadata": {},
   "outputs": [
    {
     "data": {
      "text/plain": [
       "torch.Size([2, 768])"
      ]
     },
     "execution_count": 110,
     "metadata": {},
     "output_type": "execute_result"
    }
   ],
   "source": [
    "# Example sentence\n",
    "sentence = [\"This is a great product!\", \"What a fantastic model\"]\n",
    "\n",
    "# Tokenize the input\n",
    "inputs = tokenizer(sentence, return_tensors=\"pt\", truncation=True, padding=True)\n",
    "\n",
    "# Get the hidden states from the fine-tuned base model\n",
    "with torch.no_grad():\n",
    "    outputs = base_model(**inputs)\n",
    "    hidden_states = outputs.last_hidden_state  # Shape: [batch_size, seq_length, hidden_size]\n",
    "\n",
    "# mean pooling\n",
    "attention_mask = inputs['attention_mask']  # Shape: [batch_size, seq_length]\n",
    "sentence_embedding = (hidden_states * attention_mask.unsqueeze(-1)).sum(dim=1) / attention_mask.sum(dim=1, keepdim=True)\n",
    "\n",
    "sentence_embedding.shape"
   ]
  },
  {
   "cell_type": "code",
   "execution_count": 106,
   "metadata": {},
   "outputs": [],
   "source": [
    "def mean_pooling(model_output, attention_mask):\n",
    "    token_embeddings = model_output[0] #First element of model_output contains all token embeddings\n",
    "    input_mask_expanded = attention_mask.unsqueeze(-1).expand(token_embeddings.size()).float()\n",
    "    return torch.sum(token_embeddings * input_mask_expanded, 1) / \\\n",
    "        torch.clamp(input_mask_expanded.sum(1), min=1e-9)"
   ]
  },
  {
   "cell_type": "code",
   "execution_count": 101,
   "metadata": {},
   "outputs": [],
   "source": [
    "tokenizer_original = transformers.DistilBertTokenizer.from_pretrained('distilbert-base-uncased')\n",
    "model_original = transformers.DistilBertModel.from_pretrained(\"distilbert-base-uncased\")"
   ]
  },
  {
   "cell_type": "code",
   "execution_count": 107,
   "metadata": {},
   "outputs": [
    {
     "data": {
      "text/plain": [
       "torch.Size([1, 768])"
      ]
     },
     "execution_count": 107,
     "metadata": {},
     "output_type": "execute_result"
    }
   ],
   "source": [
    "inputs_original = tokenizer_original(sentence, return_tensors='pt')\n",
    "\n",
    "with torch.no_grad():\n",
    "    outputs_original = model_original(**inputs_original)\n",
    "\n",
    "# pooling\n",
    "sentence_embedding_original = mean_pooling(outputs_original, inputs_original['attention_mask'])\n",
    "\n",
    "sentence_embedding_original.shape"
   ]
  },
  {
   "cell_type": "code",
   "execution_count": 108,
   "metadata": {},
   "outputs": [
    {
     "data": {
      "text/plain": [
       "13.598646"
      ]
     },
     "execution_count": 108,
     "metadata": {},
     "output_type": "execute_result"
    }
   ],
   "source": [
    "np.linalg.norm(sentence_embedding - sentence_embedding_original)"
   ]
  },
  {
   "cell_type": "code",
   "execution_count": 109,
   "metadata": {},
   "outputs": [
    {
     "data": {
      "text/plain": [
       "<matplotlib.image.AxesImage at 0x1499b4dbd6a0>"
      ]
     },
     "execution_count": 109,
     "metadata": {},
     "output_type": "execute_result"
    },
    {
     "data": {
      "image/png": "[encoded data removed]",
      "text/plain": [
       "<Figure size 640x480 with 1 Axes>"
      ]
     },
     "metadata": {},
     "output_type": "display_data"
    }
   ],
   "source": [
    "z = np.vstack((sentence_embedding, sentence_embedding_original))\n",
    "\n",
    "plt.imshow(z[:,:40], cmap='Blues')"
   ]
  },
  {
   "cell_type": "code",
   "execution_count": null,
   "metadata": {},
   "outputs": [],
   "source": []
  },
  {
   "cell_type": "markdown",
   "metadata": {},
   "source": [
    "## Basic classification of sentiment"
   ]
  },
  {
   "cell_type": "code",
   "execution_count": 20,
   "metadata": {},
   "outputs": [],
   "source": [
    "classifier = transformers.pipeline(\n",
    "    'text-classification', \n",
    "    model='bhadresh-savani/distilbert-base-uncased-emotion',\n",
    "    device='cuda',\n",
    "    top_k=None)"
   ]
  },
  {
   "cell_type": "code",
   "execution_count": 26,
   "metadata": {},
   "outputs": [
    {
     "name": "stdout",
     "output_type": "stream",
     "text": [
      "Loading sentences...\n",
      "Trimming...\n",
      "Computing sentiment...\n"
     ]
    }
   ],
   "source": [
    "years = [2007]\n",
    "months = ['01']\n",
    "\n",
    "labels = ['sadness', 'joy', 'love', 'anger', 'fear', 'surprise']\n",
    "\n",
    "for year, month in [(yr, mo) for yr in years for mo in months]:\n",
    "    embeddings = []\n",
    "    \n",
    "    print('Loading sentences...')\n",
    "    sentences = utils.load_sentences_bz2(DATA_PATH, year, month)\n",
    "\n",
    "    # crude truncate so we don't exceed max sequence length\n",
    "    print('Trimming...')\n",
    "    sentences = [s[:500] for s in sentences]\n",
    "\n",
    "    print('Computing sentiment...')\n",
    "    predictions = classifier(sentences)\n",
    "    \n",
    "    for p in predictions:\n",
    "        label_to_score = {entry['label']: entry['score'] for entry in p}\n",
    "        embeddings.append([label_to_score[label] for label in labels])\n"
   ]
  },
  {
   "cell_type": "code",
   "execution_count": 27,
   "metadata": {},
   "outputs": [
    {
     "data": {
      "text/plain": [
       "(58954, 58954)"
      ]
     },
     "execution_count": 27,
     "metadata": {},
     "output_type": "execute_result"
    }
   ],
   "source": [
    "len(sentences), len(embeddings)"
   ]
  },
  {
   "cell_type": "code",
   "execution_count": 32,
   "metadata": {},
   "outputs": [],
   "source": [
    "embeddings = np.array(embeddings)"
   ]
  },
  {
   "cell_type": "code",
   "execution_count": 33,
   "metadata": {},
   "outputs": [
    {
     "data": {
      "text/plain": [
       "(58954, 6)"
      ]
     },
     "execution_count": 33,
     "metadata": {},
     "output_type": "execute_result"
    }
   ],
   "source": [
    "embeddings.shape"
   ]
  },
  {
   "cell_type": "code",
   "execution_count": 95,
   "metadata": {},
   "outputs": [],
   "source": [
    "with open(f'{BASE_PATH}sentiment/sentiment_2007_01.npz', 'wb') as f:\n",
    "    np.savez_compressed(f, sentiment=embeddings, allow_pickle=False)"
   ]
  },
  {
   "cell_type": "code",
   "execution_count": 50,
   "metadata": {},
   "outputs": [
    {
     "data": {
      "image/png": "[encoded data removed]",
      "text/plain": [
       "<Figure size 1200x1200 with 36 Axes>"
      ]
     },
     "metadata": {},
     "output_type": "display_data"
    }
   ],
   "source": [
    "fig, axs = plt.subplots(6,6, figsize=(12,12))\n",
    "\n",
    "sample_rate = 0.01\n",
    "L = embeddings.shape[0]\n",
    "rng = np.random.default_rng(seed=123)\n",
    "sidx = rng.choice(L, size=int(sample_rate * L), replace=False)\n",
    "\n",
    "for i, j in [(ii, jj) for ii in range(6) for jj in range(6)]:\n",
    "    if i==j:\n",
    "        axs[i,j].hist(embeddings[sidx, i], \n",
    "                      density=True, facecolor='cyan', \n",
    "                      edgecolor='k', linewidth=0.5)\n",
    "    else:\n",
    "        axs[i,j].scatter(embeddings[sidx, i], embeddings[sidx, j], s=30, c='b', alpha=0.3)\n",
    "\n",
    "    if i==5:\n",
    "        axs[5,j].set_xlabel(labels[j])\n",
    "    if j==0:\n",
    "        axs[i,0].set_ylabel(labels[i])\n",
    "\n",
    "plt.show()"
   ]
  },
  {
   "cell_type": "code",
   "execution_count": null,
   "metadata": {},
   "outputs": [],
   "source": []
  },
  {
   "cell_type": "code",
   "execution_count": 56,
   "metadata": {},
   "outputs": [
    {
     "data": {
      "text/plain": [
       "(40, 384)"
      ]
     },
     "execution_count": 56,
     "metadata": {},
     "output_type": "execute_result"
    }
   ],
   "source": [
    "cluster_centers = utils.load_cc('mbkm_40_2007_td2_cc', base_path=BASE_PATH+'td2/')\n",
    "num_clusters = cluster_centers.shape[0]\n",
    "cluster_centers.shape"
   ]
  },
  {
   "cell_type": "code",
   "execution_count": 30,
   "metadata": {},
   "outputs": [
    {
     "data": {
      "text/plain": [
       "(58954, 384)"
      ]
     },
     "execution_count": 30,
     "metadata": {},
     "output_type": "execute_result"
    }
   ],
   "source": [
    "topic_embeddings = utils.load_npz(BASE_PATH, 2007, '01', 'embeddings')\n",
    "topic_embeddings.shape"
   ]
  },
  {
   "cell_type": "code",
   "execution_count": 60,
   "metadata": {},
   "outputs": [
    {
     "data": {
      "text/plain": [
       "(58954,)"
      ]
     },
     "execution_count": 60,
     "metadata": {},
     "output_type": "execute_result"
    }
   ],
   "source": [
    "topic_labels = utils.load_npz(BASE_PATH+'td2/', 2007, '01', 'labels')\n",
    "topic_labels.shape"
   ]
  },
  {
   "cell_type": "code",
   "execution_count": 61,
   "metadata": {},
   "outputs": [],
   "source": [
    "top_k = 100\n",
    "closest_idx = np.zeros((num_clusters, top_k))\n",
    "for i in range(num_clusters):\n",
    "    idx = np.where(topic_labels==i)[0]\n",
    "    closest_idx[i,:] = utils.get_closest_vectors_from_subset(\n",
    "        cluster_centers[i], topic_embeddings, idx, top_k=top_k)"
   ]
  },
  {
   "cell_type": "code",
   "execution_count": 62,
   "metadata": {},
   "outputs": [],
   "source": [
    "corpus = ['' for _ in range(num_clusters)]\n",
    "for i in range(num_clusters):\n",
    "    corpus[i] += ' --- '.join([sentences[int(j)] for j in closest_idx[i,:]])"
   ]
  },
  {
   "cell_type": "code",
   "execution_count": 71,
   "metadata": {},
   "outputs": [],
   "source": [
    "closest_idx = closest_idx.astype(int)"
   ]
  },
  {
   "cell_type": "code",
   "execution_count": 64,
   "metadata": {},
   "outputs": [
    {
     "name": "stdout",
     "output_type": "stream",
     "text": [
      "(40, 13229)\n"
     ]
    }
   ],
   "source": [
    "vectorizer = TfidfVectorizer(\n",
    "    input='content',\n",
    "    max_df=0.3,\n",
    "    # max_features=100,\n",
    "    use_idf=True,\n",
    "    smooth_idf=True\n",
    ")\n",
    "\n",
    "X = vectorizer.fit_transform(corpus)\n",
    "print(X.shape)"
   ]
  },
  {
   "cell_type": "code",
   "execution_count": 65,
   "metadata": {},
   "outputs": [
    {
     "name": "stdout",
     "output_type": "stream",
     "text": [
      "0: ['paul' 'ron' 'republican' 'mccain' 'party']\n",
      "1: ['mart' 'companies' 'wal' 'walmart' 'employees']\n",
      "2: ['firefox' 'browser' 'linkjacked' 'adblock' 'url']\n",
      "3: ['child' 'children' 'abortion' 'parents' 'woman']\n",
      "4: ['haskell' 'languages' 'lisp' 'language' 'python']\n",
      "5: ['hilarious' 'funniest' 'laugh' 'handicapped' 'humor']\n",
      "6: ['hello' 'hola' 'sup' 'bäh' 'ni']\n",
      "7: ['youtube' 'film' 'movie' 'docid' 'videoplay']\n",
      "8: ['character' 'answers' 'steve' 'style' 'technology']\n",
      "9: ['cops' 'police' 'crime' 'gun' 'officers']\n",
      "10: ['racism' 'racist' 'blacks' 'bigotry' 'americans']\n",
      "11: ['religion' 'atheism' 'religious' 'atheists' 'atheist']\n",
      "12: ['wealth' 'libertarians' 'trade' 'communism' 'poverty']\n",
      "13: ['science' 'scientists' 'evidence' 'hominem' 'credibility']\n",
      "14: ['11' '911' 'conspiracy' 'report' 'plutarch']\n",
      "15: ['apple' 'price' 'iphone' 'laptop' 'contract']\n",
      "16: ['7c0' 'photos' 'photo' 'picture' 'pictures']\n",
      "17: ['warming' 'global' 'co2' 'scientists' 'emissions']\n",
      "18: ['drink' 'rope' 'acid' 'burn' 'drug']\n",
      "19: ['java' 'linux' 'os' 'mac' 'software']\n",
      "20: ['traffic' 'park' 'road' 'parking' 'highway']\n",
      "21: ['israel' 'iran' 'ahmadinejad' 'nuclear' 'palestine']\n",
      "22: ['spelling' 'grammar' 'pedantic' 'sarcasm' 'punctuation']\n",
      "23: ['wage' 'minimum' 'inflation' 'economy' 'debt']\n",
      "24: ['wealth' 'pie' 'wealthy' 'million' 'sum']\n",
      "25: ['awesome' 'links' 'impressive' 'brilliant' 'welcome']\n",
      "26: ['na' 'ha' 'haw' 'baby' 'boing']\n",
      "27: ['americans' 'canada' 'europe' 'usa' 'countries']\n",
      "28: ['piracy' 'drm' 'microsoft' 'riaa' 'windows']\n",
      "29: ['health' 'insurance' 'healthcare' 'medical' 'costs']\n",
      "30: ['food' 'eat' 'meat' 'eating' 'tasty']\n",
      "31: ['military' 'terror' 'troops' 'iraqis' 'saddam']\n",
      "32: ['digg' 'karma' 'posts' 'submitted' 'submission']\n",
      "33: ['women' 'woman' 'female' 'her' 'male']\n",
      "34: ['cgi' 'dtl' 'sfgate' 'review' 'published']\n",
      "35: ['oil' 'ethanol' 'energy' 'gas' 'prices']\n",
      "36: ['programming' 'programmers' 'programmer' 'computer' 'language']\n",
      "37: ['congress' 'impeachment' 'president' 'senate' 'cheney']\n",
      "38: ['print' 'pdf' 'font' 'version' 'browser']\n",
      "39: ['spam' 'sites' 'spammers' 'websites' 'social']\n"
     ]
    }
   ],
   "source": [
    "for i in range(X.shape[0]):\n",
    "    max_idx = np.argsort(X[i,:].toarray().flatten())[::-1][:5]\n",
    "    keyword = vectorizer.get_feature_names_out()[max_idx]\n",
    "    # print(f'CLUSTER: {i}\\n-----\\n')\n",
    "    # print(corpus[i][:100])\n",
    "    # print(f'KEYWORD: {keyword}\\n-----\\n\\n')\n",
    "    print(f'{i}: {keyword}')"
   ]
  },
  {
   "cell_type": "code",
   "execution_count": 83,
   "metadata": {},
   "outputs": [],
   "source": [
    "t0, t1 = 5, 21\n",
    "title0, title1 = 'funny', 'israel'\n",
    "\n",
    "Y = np.vstack((\n",
    "    topic_embeddings[closest_idx[t0],:],\n",
    "    topic_embeddings[closest_idx[t1],:]\n",
    "))\n",
    "\n",
    "tsne = TSNE(\n",
    "    n_components=2,\n",
    "    perplexity=30,\n",
    "    early_exaggeration=12\n",
    ")\n",
    "\n",
    "Yz = tsne.fit_transform(Y)"
   ]
  },
  {
   "cell_type": "code",
   "execution_count": 94,
   "metadata": {},
   "outputs": [
    {
     "data": {
      "image/png": "[encoded data removed]",
      "text/plain": [
       "<Figure size 800x800 with 1 Axes>"
      ]
     },
     "metadata": {},
     "output_type": "display_data"
    }
   ],
   "source": [
    "fig, ax = plt.subplots(1,1, figsize=(8,8))\n",
    "\n",
    "markers = ['o', 'x']\n",
    "\n",
    "ax.scatter(Yz[:100,0], Yz[:100,1], \n",
    "           c=embeddings[closest_idx[t0],3], cmap='Reds',\n",
    "           edgecolors='k', linewidth=0.5, s=40, alpha=0.6)\n",
    "ax.text(np.average(Yz[:100,0]), np.amax(Yz[:100,1]) + 0.5, title0)\n",
    "\n",
    "ax.scatter(Yz[100:,0], Yz[100:,1], \n",
    "           c=embeddings[closest_idx[t1],3], cmap='Reds',\n",
    "           edgecolors='k', linewidth=0.5, s=40, alpha=0.6)\n",
    "ax.text(np.average(Yz[100:,0]), np.amax(Yz[100:,1]) + 0.5, title1)\n",
    "\n",
    "plt.show()"
   ]
  },
  {
   "cell_type": "code",
   "execution_count": 90,
   "metadata": {},
   "outputs": [
    {
     "data": {
      "text/plain": [
       "array([2.14608503e-03, 1.95369031e-02, 8.41318339e-04, 2.19718996e-03,\n",
       "       5.53971389e-03, 9.69738781e-01])"
      ]
     },
     "execution_count": 90,
     "metadata": {},
     "output_type": "execute_result"
    }
   ],
   "source": [
    "embeddings[closest_idx[5,0],:]"
   ]
  },
  {
   "cell_type": "markdown",
   "metadata": {},
   "source": [
    "## Check correlation between sentiment and topic dimensions"
   ]
  },
  {
   "cell_type": "code",
   "execution_count": 5,
   "metadata": {},
   "outputs": [
    {
     "name": "stdout",
     "output_type": "stream",
     "text": [
      "Load sentiment embeddings...\n",
      "Load topic embeddings...\n",
      "Load cluster centers...\n",
      "Load topic labels...\n",
      "Load sentences...\n",
      "Computing tf-idf...\n",
      "(40, 15478)\n"
     ]
    }
   ],
   "source": [
    "year = 2007\n",
    "month = '01'\n",
    "\n",
    "# load sentiment embeddings\n",
    "print('Load sentiment embeddings...')\n",
    "labels = ['sadness', 'joy', 'love', 'anger', 'fear', 'surprise']\n",
    "sentiment_embeddings = utils.load_npz(BASE_PATH, year, month, 'sentiment')\n",
    "\n",
    "# load topic embeddings\n",
    "print('Load topic embeddings...')\n",
    "topic_embeddings = utils.load_npz(BASE_PATH, year, month, 'embeddings')\n",
    "\n",
    "# load cluster centers\n",
    "print('Load cluster centers...')\n",
    "cluster_centers = utils.load_cc('mbkm_40_2007_td2_cc', base_path=BASE_PATH+'td2/')\n",
    "num_clusters = cluster_centers.shape[0]\n",
    "\n",
    "# load labels\n",
    "print('Load topic labels...')\n",
    "topic_labels = utils.load_npz(BASE_PATH+'td2/', 2007, '01', 'labels')\n",
    "topic_labels.shape\n",
    "\n",
    "# load sentences\n",
    "print('Load sentences...')\n",
    "sentences = utils.load_sentences_bz2(DATA_PATH, year, month)\n",
    "\n",
    "# get indices to top sentences for each cluster\n",
    "top_k = 100\n",
    "closest_idx = np.zeros((num_clusters, top_k))\n",
    "for i in range(num_clusters):\n",
    "    idx = np.where(topic_labels==i)[0]\n",
    "    closest_idx[i,:] = utils.get_closest_vectors_from_subset(\n",
    "        cluster_centers[i], topic_embeddings, idx, top_k=top_k)\n",
    "\n",
    "closest_idx = closest_idx.astype(int)   \n",
    "\n",
    "# convert to corpus for tf-idf\n",
    "print('Computing tf-idf...')\n",
    "corpus = ['' for _ in range(num_clusters)]\n",
    "for i in range(num_clusters):\n",
    "    corpus[i] += ' --- '.join([sentences[j] for j in closest_idx[i,:]])\n",
    "\n",
    "vectorizer = TfidfVectorizer(\n",
    "    input='content',\n",
    "    max_df=0.3,\n",
    "    # max_features=100,\n",
    "    use_idf=True,\n",
    "    smooth_idf=True\n",
    ")\n",
    "\n",
    "X = vectorizer.fit_transform(corpus)\n",
    "print(X.shape)\n",
    "\n",
    "keywords = {}\n",
    "for i in range(X.shape[0]):\n",
    "    max_idx = np.argsort(X[i,:].toarray().flatten())[::-1][:5]\n",
    "    keyword = vectorizer.get_feature_names_out()[max_idx]\n",
    "    keywords[i] = keyword\n",
    "    # print(f'{i}: {keyword}')"
   ]
  },
  {
   "cell_type": "code",
   "execution_count": 6,
   "metadata": {},
   "outputs": [
    {
     "name": "stdout",
     "output_type": "stream",
     "text": [
      "(6, 384)\n"
     ]
    }
   ],
   "source": [
    "# compute covariance between sentiment and topic embeddings\n",
    "\n",
    "L = sentiment_embeddings.shape[0]\n",
    "\n",
    "# mean center\n",
    "mc_se = sentiment_embeddings - np.mean(sentiment_embeddings, axis=0)\n",
    "mc_te = topic_embeddings - np.mean(topic_embeddings, axis=0)\n",
    "\n",
    "# compute covariance\n",
    "cov = (1 / L) * (mc_se.T @ mc_te)\n",
    "print(cov.shape)"
   ]
  },
  {
   "cell_type": "code",
   "execution_count": 7,
   "metadata": {},
   "outputs": [
    {
     "data": {
      "image/png": "[encoded data removed]",
      "text/plain": [
       "<Figure size 1500x500 with 15 Axes>"
      ]
     },
     "metadata": {},
     "output_type": "display_data"
    }
   ],
   "source": [
    "fig, axs = plt.subplots(3, 5, figsize=(15,5))\n",
    "\n",
    "for i, ax in enumerate(axs.ravel()):\n",
    "    ax.imshow(cov[:,i*20:(i+1)*20], cmap='Blues')\n",
    "    ax.set_xticks(range(0, 20, 5))\n",
    "    ax.set_xticklabels(range(i*20, (i+1)*20, 5))\n",
    "\n",
    "# plt.colorbar(cb)\n",
    "plt.show()"
   ]
  },
  {
   "cell_type": "code",
   "execution_count": 25,
   "metadata": {},
   "outputs": [
    {
     "name": "stdout",
     "output_type": "stream",
     "text": [
      "[139 300 118 193  55]\n",
      "(10,)\n"
     ]
    }
   ],
   "source": [
    "sent = 1\n",
    "sent_args = np.argsort(cov[sent,:])[::-1][:5]\n",
    "print(sent_args)\n",
    "\n",
    "emb_idx = np.argsort(topic_embeddings[:,sent_args[0]])[::-1][:10]\n",
    "print(emb_idx.shape)"
   ]
  },
  {
   "cell_type": "code",
   "execution_count": 26,
   "metadata": {},
   "outputs": [
    {
     "data": {
      "text/plain": [
       "array([ 1053,  8263, 13265, 52545, 32682,  7528, 48230, 25232, 50716,\n",
       "       39278])"
      ]
     },
     "execution_count": 26,
     "metadata": {},
     "output_type": "execute_result"
    }
   ],
   "source": [
    "emb_idx"
   ]
  },
  {
   "cell_type": "code",
   "execution_count": 27,
   "metadata": {},
   "outputs": [
    {
     "name": "stdout",
     "output_type": "stream",
     "text": [
      "All generalizations are overly broad, including this one, but I don't think that makes them un-useful.\n",
      "Is there a dedicated user guide to ex anywhere?\n",
      "&gt; So lecturers began scribbling with the frenetic intensity of battery hens on overtime, producing paper after paper [... ] Little matter if your effort was read only by you and your mates. It was there and it counted.\n",
      "\n",
      "Does his field (computer \"science\", as if there is such a thing; it's engineering if you ask me, but I digress) not have journals with impact factors? In biomedical sciences, this is really the only thing that counts. So 1 Nature paper (impact factor 32 or so) is worth around 10 Eur. J. Bioch. (impact factor 3.2 or so) papers. It's not perfect, but it's not so bad either (although it does not account for the 'size' of a field; e.g., the top ecological journal Oikos only has an impact factor of 2.9). It kind of works like an implicit PageRank (with \"references\" counting as \"links\").\n",
      "Article worthless without pix\n",
      "article worthless without pix\n",
      "Cool. Interesting as far as I understand it. A couple of issues:\n",
      "\n",
      "1) To me, even a really sophisticated tool such as you describe is not that useful unless the user interface is 'just right.' Google for example has a great algorithm but also a great interface. There have been many attempts to rethink personal information interfaces (Englebart's bootstrap work, Nelson's Xanadu, Gelernter's Mirror Worlds, many projects at the Media Lab,...) and I've done fundamental work along those lines before. To brutally simplify the field of information visualization to a simple statement, 'different interfaces work for different communities.' Google isn't for everyone (personally I hack it by having a well developed understanding of how to feed it the 'right' keywords, though I use the simple interface... I'm essentially supertuning the interface). We build a complex spatial digital library and found that most people weren't interested in it, they liked a much simpler interface (very much like Google Maps, but earlier) we built as a throw-away experiment. So.... what does your system 'look and feel' like?\n",
      "\n",
      "2) Active metadata is really really hard, as I'm sure you know. The problem isn't gathering it, it is avoiding poor clustering and false focusing during the data mining / concept extraction phase. This amounts to, really, a situated theory of full-on AI because unless you go for an 'almost' approach (Bayesian, neural, some composite like Google uses, ...) you are always in the realm of finding not what the user wants but what they sort-of-want. WHich is great if they are looking for inspiration on google, but not so great if they are looking for the letter to Aunt Maeve that they gave a generic filename to and which doesn't contain any obvious keywords (like Maeve). So... kind of curious how you do that. I'm personally very interested in metadata (mostly because I work with spatial data, which is a nightmare compared to text-only data because of implicit metadata rather than say keyword-rarity indexing and so on like people do....)...\n",
      "\n",
      "I'm jetlagged and so rambling but.... eagerly await a continuation of the dialog....\n",
      "\n",
      "r.\n",
      "\n",
      "Actually, just the other day I got the bright idea to work on a spreadsheet to determine which weather forecasting service is the most accurate for the weather in my area. I'm comparing the forecasts of the Natl. Weather Service, Accuweather, Intellicast, the Weather Channel, and my 3 local TV news outlets. I'm comparing them to the actual temps and conditions everyday to see which is most accurate. Sigh...I knew Excel would get to me eventually.\n",
      "Raumbeduftung und Duftmarketing von der Lasard. Spezialisiert auf\n",
      "Beduftung und Aromatisierung von Gewerberäumen zu günstigen Preisen., Luftveredelung von Verkaufsräumen und Duftmarketing Konzepte\n",
      "Searchable database on recruiters and headhunters, with other recruiter-related resources and services.\n",
      "Terminology Resources (Definitions, translations, synonyms, classifications)\n"
     ]
    }
   ],
   "source": [
    "for i in emb_idx:\n",
    "    print(sentences[i])"
   ]
  },
  {
   "cell_type": "code",
   "execution_count": 18,
   "metadata": {},
   "outputs": [],
   "source": [
    "# one hot encoding of topic labels\n",
    "one_hot_labels = np.zeros((L, num_clusters))\n",
    "one_hot_labels[np.arange(L), topic_labels] = 1\n",
    "\n",
    "# Compute the sum of rows in E corresponding to each label\n",
    "weighted_sum = sentiment_embeddings.T @ one_hot_labels  # (d, k)\n",
    "\n",
    "# Compute the number of rows corresponding to each label\n",
    "label_counts = one_hot_labels.sum(axis=0)  # (k,)\n",
    "\n",
    "# Avoid division by zero\n",
    "label_counts[label_counts == 0] = 1\n",
    "\n",
    "# Compute the mean for each label\n",
    "M = weighted_sum / label_counts  # Broadcasting (d, k)\n",
    "\n",
    "# normalize each row\n",
    "M = (M - M.min(axis=1, keepdims=True)) / \\\n",
    "    (M.max(axis=1, keepdims=True) - M.min(axis=1, keepdims=True))"
   ]
  },
  {
   "cell_type": "code",
   "execution_count": 27,
   "metadata": {},
   "outputs": [
    {
     "data": {
      "image/png": "[encoded data removed]",
      "text/plain": [
       "<Figure size 1000x800 with 2 Axes>"
      ]
     },
     "metadata": {},
     "output_type": "display_data"
    }
   ],
   "source": [
    "fig, ax = plt.subplots(1,1, figsize=(10,8))\n",
    "cb = ax.imshow(M.T, cmap='Blues')\n",
    "ax.set_yticks(range(40))\n",
    "ax.set_yticklabels([keywords[i][0] for i in range(40)])\n",
    "ax.set_xticks(range(6))\n",
    "ax.set_xticklabels(labels, rotation=-45, ha='left')\n",
    "fig.colorbar(cb)\n",
    "plt.show()"
   ]
  },
  {
   "cell_type": "markdown",
   "metadata": {},
   "source": [
    "## Tests"
   ]
  },
  {
   "cell_type": "code",
   "execution_count": 16,
   "metadata": {},
   "outputs": [
    {
     "data": {
      "text/plain": [
       "58954"
      ]
     },
     "execution_count": 16,
     "metadata": {},
     "output_type": "execute_result"
    }
   ],
   "source": [
    "sentences = utils.load_sentences_bz2(DATA_PATH, 2007, '01')\n",
    "len(sentences)"
   ]
  },
  {
   "cell_type": "code",
   "execution_count": 17,
   "metadata": {},
   "outputs": [
    {
     "name": "stderr",
     "output_type": "stream",
     "text": [
      "/sciclone/home/stmorse/.conda/envs/torch-tik-env/lib/python3.12/site-packages/transformers/pipelines/text_classification.py:104: UserWarning: `return_all_scores` is now deprecated,  if want a similar functionality use `top_k=None` instead of `return_all_scores=True` or `top_k=1` instead of `return_all_scores=False`.\n",
      "  warnings.warn(\n"
     ]
    }
   ],
   "source": [
    "classifier = transformers.pipeline(\n",
    "    'text-classification', \n",
    "    model='bhadresh-savani/distilbert-base-uncased-emotion',\n",
    "    return_all_scores=True)"
   ]
  },
  {
   "cell_type": "code",
   "execution_count": 18,
   "metadata": {},
   "outputs": [],
   "source": [
    "predictions = []\n",
    "for s in sentences[:10]:\n",
    "    predictions.append(classifier(s))"
   ]
  },
  {
   "cell_type": "code",
   "execution_count": 20,
   "metadata": {},
   "outputs": [
    {
     "data": {
      "text/plain": [
       "[[{'label': 'sadness', 'score': 0.14320522546768188},\n",
       "  {'label': 'joy', 'score': 0.6905817985534668},\n",
       "  {'label': 'love', 'score': 0.0036878613755106926},\n",
       "  {'label': 'anger', 'score': 0.15312515199184418},\n",
       "  {'label': 'fear', 'score': 0.007453672122210264},\n",
       "  {'label': 'surprise', 'score': 0.0019462894415482879}]]"
      ]
     },
     "execution_count": 20,
     "metadata": {},
     "output_type": "execute_result"
    }
   ],
   "source": [
    "predictions[0]"
   ]
  },
  {
   "cell_type": "code",
   "execution_count": 21,
   "metadata": {},
   "outputs": [
    {
     "name": "stdout",
     "output_type": "stream",
     "text": [
      "In the city I live in, I probably am.  Might even be the entire island.  Ah well.  It's one thing to know that somewhere, out there over the Internet, there are many like me.  It's another thing to know someone, in my everyday life off the internet, who is like me too.\n",
      "\n",
      "Pixels on a screen just aren't enough.\n",
      "\n",
      "Life is a sadness.  But what else can we do but live it?  Life is a happiness.  But what else can we do but endure it?\n",
      "\n",
      "sadness: 0.1432\n",
      "joy: 0.6906\n",
      "love: 0.0037\n",
      "anger: 0.1531\n",
      "fear: 0.0075\n",
      "surprise: 0.0019\n",
      "\n",
      "-----\n",
      "\n",
      "Actually, you're incorrect. My post was first, within one minute of the story being posted live on Yahoo!. I did a search on it and also distinctly remember seeing your post with fewer \"minutes ago\" than mine in the \"new\" list. \n",
      "\n",
      "Regardless, I'm sorry if this was your best post that got buried. It didn't make my top 50 in terms of points for the year anyway.\n",
      "sadness: 0.7936\n",
      "joy: 0.0356\n",
      "love: 0.0013\n",
      "anger: 0.1653\n",
      "fear: 0.0032\n",
      "surprise: 0.0011\n",
      "\n",
      "-----\n",
      "\n",
      "Yeah, this was pretty weird. You can't bring a cameraphone into a courthouse here in the US; i find it hard to believe the video was done without the knowledge and consent of the people in charge.\n",
      "sadness: 0.0025\n",
      "joy: 0.0062\n",
      "love: 0.0008\n",
      "anger: 0.0025\n",
      "fear: 0.6492\n",
      "surprise: 0.3388\n",
      "\n",
      "-----\n",
      "\n",
      "Wait..\n",
      "\n",
      "Did he give aid in form of weapons? If so, that shouldn't count.\n",
      "sadness: 0.0237\n",
      "joy: 0.0993\n",
      "love: 0.0022\n",
      "anger: 0.5785\n",
      "fear: 0.2932\n",
      "surprise: 0.0030\n",
      "\n",
      "-----\n",
      "\n",
      "WOW HOW NEAT\n",
      "\n",
      "sadness: 0.0041\n",
      "joy: 0.9315\n",
      "love: 0.0011\n",
      "anger: 0.0066\n",
      "fear: 0.0056\n",
      "surprise: 0.0511\n",
      "\n",
      "-----\n",
      "\n"
     ]
    }
   ],
   "source": [
    "for i in range(5):\n",
    "    print(sentences[i])\n",
    "    for entry in predictions[i][0]:\n",
    "        print(f'{entry['label']}: {entry['score']:.4f}')\n",
    "    print(f'\\n-----\\n')"
   ]
  },
  {
   "cell_type": "code",
   "execution_count": null,
   "metadata": {},
   "outputs": [],
   "source": []
  },
  {
   "cell_type": "code",
   "execution_count": null,
   "metadata": {},
   "outputs": [],
   "source": []
  },
  {
   "cell_type": "code",
   "execution_count": 5,
   "metadata": {},
   "outputs": [
    {
     "name": "stderr",
     "output_type": "stream",
     "text": [
      "No sentence-transformers model found with name bhadresh-savani/distilbert-base-uncased-emotion. Creating a new one with mean pooling.\n"
     ]
    },
    {
     "data": {
      "application/vnd.jupyter.widget-view+json": {
       "model_id": "43483baaa16148bc871d840dc475bbb8",
       "version_major": 2,
       "version_minor": 0
      },
      "text/plain": [
       "config.json:   0%|          | 0.00/768 [00:00<?, ?B/s]"
      ]
     },
     "metadata": {},
     "output_type": "display_data"
    },
    {
     "data": {
      "application/vnd.jupyter.widget-view+json": {
       "model_id": "60f0ce61e60b47079b81d48b39a3db4a",
       "version_major": 2,
       "version_minor": 0
      },
      "text/plain": [
       "model.safetensors:   0%|          | 0.00/268M [00:00<?, ?B/s]"
      ]
     },
     "metadata": {},
     "output_type": "display_data"
    },
    {
     "data": {
      "application/vnd.jupyter.widget-view+json": {
       "model_id": "d5808670b5184cb6a5c87184dd06bc7c",
       "version_major": 2,
       "version_minor": 0
      },
      "text/plain": [
       "tokenizer_config.json:   0%|          | 0.00/291 [00:00<?, ?B/s]"
      ]
     },
     "metadata": {},
     "output_type": "display_data"
    },
    {
     "data": {
      "application/vnd.jupyter.widget-view+json": {
       "model_id": "85f917bfa259400e84c2594df1bd83aa",
       "version_major": 2,
       "version_minor": 0
      },
      "text/plain": [
       "vocab.txt:   0%|          | 0.00/232k [00:00<?, ?B/s]"
      ]
     },
     "metadata": {},
     "output_type": "display_data"
    },
    {
     "data": {
      "application/vnd.jupyter.widget-view+json": {
       "model_id": "31d27eeb2ab34b7db59262ce5e65f5bf",
       "version_major": 2,
       "version_minor": 0
      },
      "text/plain": [
       "special_tokens_map.json:   0%|          | 0.00/112 [00:00<?, ?B/s]"
      ]
     },
     "metadata": {},
     "output_type": "display_data"
    }
   ],
   "source": [
    "model = SentenceTransformer('bhadresh-savani/distilbert-base-uncased-emotion')"
   ]
  },
  {
   "cell_type": "code",
   "execution_count": 8,
   "metadata": {},
   "outputs": [
    {
     "data": {
      "application/vnd.jupyter.widget-view+json": {
       "model_id": "fe414c9ae5984c90aca779a65f82bc6d",
       "version_major": 2,
       "version_minor": 0
      },
      "text/plain": [
       "Batches:   0%|          | 0/4 [00:00<?, ?it/s]"
      ]
     },
     "metadata": {},
     "output_type": "display_data"
    }
   ],
   "source": [
    "embeddings = model.encode(sentences[:100], show_progress_bar=True)"
   ]
  },
  {
   "cell_type": "code",
   "execution_count": 10,
   "metadata": {},
   "outputs": [
    {
     "data": {
      "text/plain": [
       "(100, 768)"
      ]
     },
     "execution_count": 10,
     "metadata": {},
     "output_type": "execute_result"
    }
   ],
   "source": [
    "embeddings.shape"
   ]
  },
  {
   "cell_type": "code",
   "execution_count": null,
   "metadata": {},
   "outputs": [],
   "source": []
  }
 ],
 "metadata": {
  "kernelspec": {
   "display_name": "Python 3",
   "language": "python",
   "name": "python3"
  },
  "language_info": {
   "codemirror_mode": {
    "name": "ipython",
    "version": 3
   },
   "file_extension": ".py",
   "mimetype": "text/x-python",
   "name": "python",
   "nbconvert_exporter": "python",
   "pygments_lexer": "ipython3",
   "version": "3.12.0"
  }
 },
 "nbformat": 4,
 "nbformat_minor": 2
}
